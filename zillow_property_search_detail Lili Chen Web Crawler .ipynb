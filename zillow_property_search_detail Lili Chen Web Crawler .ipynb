{
 "cells": [
  {
   "cell_type": "markdown",
   "metadata": {
    "id": "-ZgrtjtLUi6a"
   },
   "source": [
    "## <font color=\"blue\">Imports</font>"
   ]
  },
  {
   "cell_type": "markdown",
   "metadata": {},
   "source": [
    "This notebook search for the current for_sale property in both Clemson and Greenville area. "
   ]
  },
  {
   "cell_type": "code",
   "execution_count": 115,
   "metadata": {
    "id": "7vWKHxJDUjOJ"
   },
   "outputs": [],
   "source": [
    "\n",
    "import pandas as pd\n",
    "import numpy as np\n",
    "import plotly.express as px\n",
    "import requests\n",
    "import warnings\n",
    "\n",
    "# settings\n",
    "warnings.filterwarnings(\"ignore\")\n",
    "pd.set_option(\"display.max_columns\", None)"
   ]
  },
  {
   "cell_type": "markdown",
   "metadata": {
    "id": "PkdXQZp8UqcC"
   },
   "source": [
    "## <font color=\"blue\">Functions</font>"
   ]
  },
  {
   "cell_type": "code",
   "execution_count": 116,
   "metadata": {
    "id": "prx6NIFtLUX_"
   },
   "outputs": [],
   "source": [
    "def get_listings(api_key, listing_url):\n",
    "    url = \"https://app.scrapeak.com/v1/scrapers/zillow/listing\"\n",
    "\n",
    "    querystring = {\n",
    "        \"api_key\": api_key,\n",
    "        \"url\":listing_url\n",
    "    }\n",
    "\n",
    "    return requests.request(\"GET\", url, params=querystring)\n",
    "\n",
    "def get_property_detail(api_key, zpid):\n",
    "    url = \"https://app.scrapeak.com/v1/scrapers/zillow/property\"\n",
    "\n",
    "    querystring = {\n",
    "        \"api_key\": api_key,\n",
    "        \"zpid\":zpid\n",
    "    }\n",
    "\n",
    "    return requests.request(\"GET\", url, params=querystring)\n",
    "\n",
    "def get_zpid(api_key, street, city, state, zip_code=None):\n",
    "    url = \"https://app.scrapeak.com/v1/scrapers/zillow/zpidByAddress\"\n",
    "\n",
    "    querystring = {\n",
    "        \"api_key\": api_key,\n",
    "        \"street\": street,\n",
    "        \"city\": city,\n",
    "        \"state\": state,\n",
    "        \"zip_code\":zip_code\n",
    "    }\n",
    "\n",
    "    return requests.request(\"GET\", url, params=querystring)"
   ]
  },
  {
   "cell_type": "code",
   "execution_count": 117,
   "metadata": {
    "id": "cSYqAePSK8qh"
   },
   "outputs": [],
   "source": [
    "# get API keys\n",
    "api_key = \"11a42482-8425-48b6-9772-1af1fe660812\""
   ]
  },
  {
   "cell_type": "markdown",
   "metadata": {
    "id": "CGCaqKj1UvIo"
   },
   "source": [
    "## <font color=\"blue\">Data</font>"
   ]
  },
  {
   "cell_type": "markdown",
   "metadata": {
    "id": "PZppHVcfOn6D"
   },
   "source": [
    "### <font color=\"green\">1. Property Listings For Sale at Clemson,SC</font>\n"
   ]
  },
  {
   "cell_type": "code",
   "execution_count": 118,
   "metadata": {
    "id": "jT3eZXJ_UwaS"
   },
   "outputs": [],
   "source": [
    "# zillow search url\n",
    "listing_url = \"https://www.zillow.com/clemson-sc/?searchQueryState=%7B%22mapBounds%22%3A%7B%22north%22%3A34.72580303395443%2C%22east%22%3A-82.74141651794434%2C%22south%22%3A34.643650009274616%2C%22west%22%3A-82.89402348205567%7D%2C%22isMapVisible%22%3Atrue%2C%22filterState%22%3A%7B%22sort%22%3A%7B%22value%22%3A%22globalrelevanceex%22%7D%2C%22ah%22%3A%7B%22value%22%3Atrue%7D%2C%22price%22%3A%7B%22max%22%3A500000%7D%2C%22mp%22%3A%7B%22max%22%3A2519%7D%7D%2C%22isListVisible%22%3Atrue%2C%22mapZoom%22%3A13%2C%22regionSelection%22%3A%5B%7B%22regionId%22%3A10855%2C%22regionType%22%3A6%7D%5D%2C%22pagination%22%3A%7B%7D%7D\"\n",
    "\n",
    "# get listings\n",
    "listing_response = get_listings(api_key, listing_url)"
   ]
  },
  {
   "cell_type": "code",
   "execution_count": 119,
   "metadata": {
    "colab": {
     "base_uri": "https://localhost:8080/"
    },
    "id": "z_TkecBPNb_Q",
    "outputId": "8dc2478c-28f4-4f56-9d09-0a0b40b3961d"
   },
   "outputs": [
    {
     "data": {
      "text/plain": [
       "dict_keys(['is_success', 'data', 'message'])"
      ]
     },
     "execution_count": 119,
     "metadata": {},
     "output_type": "execute_result"
    }
   ],
   "source": [
    "# view all keys\n",
    "listing_response.json().keys()"
   ]
  },
  {
   "cell_type": "code",
   "execution_count": 120,
   "metadata": {
    "colab": {
     "base_uri": "https://localhost:8080/"
    },
    "id": "XGdtiu7ANe7s",
    "outputId": "12bdc77d-abb0-4200-82d7-beeacaa78e5a"
   },
   "outputs": [
    {
     "data": {
      "text/plain": [
       "True"
      ]
     },
     "execution_count": 120,
     "metadata": {},
     "output_type": "execute_result"
    }
   ],
   "source": [
    "# check if request is successful\n",
    "listing_response.json()[\"is_success\"]"
   ]
  },
  {
   "cell_type": "code",
   "execution_count": 121,
   "metadata": {
    "colab": {
     "base_uri": "https://localhost:8080/"
    },
    "id": "-AElojSaMcEu",
    "outputId": "89e28057-8303-4c8e-c6ad-5e7428c0b97b"
   },
   "outputs": [
    {
     "name": "stdout",
     "output_type": "stream",
     "text": [
      "Count of properties: 50\n"
     ]
    }
   ],
   "source": [
    "# view count of properies returned in request\n",
    "num_of_properties = listing_response.json()[\"data\"][\"categoryTotals\"][\"cat1\"][\"totalResultCount\"]\n",
    "print(\"Count of properties:\", num_of_properties)"
   ]
  },
  {
   "cell_type": "code",
   "execution_count": 122,
   "metadata": {
    "colab": {
     "base_uri": "https://localhost:8080/",
     "height": 905
    },
    "id": "BLge43tvNThp",
    "outputId": "a2c5a3e7-47b8-49c8-f6b2-e4e8c9fc3d05"
   },
   "outputs": [
    {
     "name": "stdout",
     "output_type": "stream",
     "text": [
      "Number of rows: 27\n",
      "Number of columns: 90\n"
     ]
    },
    {
     "data": {
      "text/html": [
       "<div>\n",
       "<style scoped>\n",
       "    .dataframe tbody tr th:only-of-type {\n",
       "        vertical-align: middle;\n",
       "    }\n",
       "\n",
       "    .dataframe tbody tr th {\n",
       "        vertical-align: top;\n",
       "    }\n",
       "\n",
       "    .dataframe thead th {\n",
       "        text-align: right;\n",
       "    }\n",
       "</style>\n",
       "<table border=\"1\" class=\"dataframe\">\n",
       "  <thead>\n",
       "    <tr style=\"text-align: right;\">\n",
       "      <th></th>\n",
       "      <th>zpid</th>\n",
       "      <th>price</th>\n",
       "      <th>priceLabel</th>\n",
       "      <th>beds</th>\n",
       "      <th>baths</th>\n",
       "      <th>area</th>\n",
       "      <th>statusType</th>\n",
       "      <th>statusText</th>\n",
       "      <th>isFavorite</th>\n",
       "      <th>isUserClaimingOwner</th>\n",
       "      <th>isUserConfirmedClaim</th>\n",
       "      <th>imgSrc</th>\n",
       "      <th>hasImage</th>\n",
       "      <th>visited</th>\n",
       "      <th>listingType</th>\n",
       "      <th>variableData</th>\n",
       "      <th>shouldShowZestimateAsPrice</th>\n",
       "      <th>detailUrl</th>\n",
       "      <th>pgapt</th>\n",
       "      <th>sgapt</th>\n",
       "      <th>has3DModel</th>\n",
       "      <th>hasVideo</th>\n",
       "      <th>isHomeRec</th>\n",
       "      <th>address</th>\n",
       "      <th>hasAdditionalAttributions</th>\n",
       "      <th>isFeaturedListing</th>\n",
       "      <th>isShowcaseListing</th>\n",
       "      <th>availabilityDate</th>\n",
       "      <th>timeOnZillow</th>\n",
       "      <th>latLong.latitude</th>\n",
       "      <th>latLong.longitude</th>\n",
       "      <th>hdpData.homeInfo.zpid</th>\n",
       "      <th>hdpData.homeInfo.streetAddress</th>\n",
       "      <th>hdpData.homeInfo.zipcode</th>\n",
       "      <th>hdpData.homeInfo.city</th>\n",
       "      <th>hdpData.homeInfo.state</th>\n",
       "      <th>hdpData.homeInfo.latitude</th>\n",
       "      <th>hdpData.homeInfo.longitude</th>\n",
       "      <th>hdpData.homeInfo.price</th>\n",
       "      <th>hdpData.homeInfo.bathrooms</th>\n",
       "      <th>hdpData.homeInfo.bedrooms</th>\n",
       "      <th>hdpData.homeInfo.livingArea</th>\n",
       "      <th>hdpData.homeInfo.homeType</th>\n",
       "      <th>hdpData.homeInfo.homeStatus</th>\n",
       "      <th>hdpData.homeInfo.daysOnZillow</th>\n",
       "      <th>hdpData.homeInfo.isFeatured</th>\n",
       "      <th>hdpData.homeInfo.shouldHighlight</th>\n",
       "      <th>hdpData.homeInfo.zestimate</th>\n",
       "      <th>hdpData.homeInfo.rentZestimate</th>\n",
       "      <th>hdpData.homeInfo.listing_sub_type.is_FSBA</th>\n",
       "      <th>hdpData.homeInfo.isUnmappable</th>\n",
       "      <th>hdpData.homeInfo.isPreforeclosureAuction</th>\n",
       "      <th>hdpData.homeInfo.homeStatusForHDP</th>\n",
       "      <th>hdpData.homeInfo.priceForHDP</th>\n",
       "      <th>hdpData.homeInfo.isNonOwnerOccupied</th>\n",
       "      <th>hdpData.homeInfo.isPremierBuilder</th>\n",
       "      <th>hdpData.homeInfo.isZillowOwned</th>\n",
       "      <th>hdpData.homeInfo.currency</th>\n",
       "      <th>hdpData.homeInfo.country</th>\n",
       "      <th>hdpData.homeInfo.taxAssessedValue</th>\n",
       "      <th>hdpData.homeInfo.unit</th>\n",
       "      <th>hdpData.homeInfo.isShowcaseListing</th>\n",
       "      <th>variableData.type</th>\n",
       "      <th>variableData.text</th>\n",
       "      <th>hdpData.homeInfo.datePriceChanged</th>\n",
       "      <th>hdpData.homeInfo.priceReduction</th>\n",
       "      <th>hdpData.homeInfo.priceChange</th>\n",
       "      <th>hdpData.homeInfo.lotAreaValue</th>\n",
       "      <th>hdpData.homeInfo.lotAreaUnit</th>\n",
       "      <th>buildingId</th>\n",
       "      <th>lotId</th>\n",
       "      <th>minBeds</th>\n",
       "      <th>minBaths</th>\n",
       "      <th>minArea</th>\n",
       "      <th>unitCount</th>\n",
       "      <th>isBuilding</th>\n",
       "      <th>badgeInfo</th>\n",
       "      <th>canSaveBuilding</th>\n",
       "      <th>variableData.data.isFresh</th>\n",
       "      <th>hdpData.homeInfo.listing_sub_type.is_openHouse</th>\n",
       "      <th>hdpData.homeInfo.openHouse</th>\n",
       "      <th>hdpData.homeInfo.open_house_info.open_house_showing</th>\n",
       "      <th>lotAreaString</th>\n",
       "      <th>plid</th>\n",
       "      <th>communityName</th>\n",
       "      <th>style</th>\n",
       "      <th>isCdpResult</th>\n",
       "      <th>hdpData.homeInfo.listing_sub_type.is_newHome</th>\n",
       "      <th>hdpData.homeInfo.providerListingID</th>\n",
       "      <th>hdpData.homeInfo.newConstructionType</th>\n",
       "    </tr>\n",
       "  </thead>\n",
       "  <tbody>\n",
       "    <tr>\n",
       "      <th>0</th>\n",
       "      <td>72644778</td>\n",
       "      <td>$135,000</td>\n",
       "      <td>$135K</td>\n",
       "      <td>2.0</td>\n",
       "      <td>2.0</td>\n",
       "      <td>1000.0</td>\n",
       "      <td>FOR_SALE</td>\n",
       "      <td>Condo for sale</td>\n",
       "      <td>False</td>\n",
       "      <td>False</td>\n",
       "      <td>False</td>\n",
       "      <td>https://photos.zillowstatic.com/fp/ecf0d48909e...</td>\n",
       "      <td>True</td>\n",
       "      <td>False</td>\n",
       "      <td></td>\n",
       "      <td>NaN</td>\n",
       "      <td>False</td>\n",
       "      <td>/homedetails/1108-Tiger-Blvd-APT-129-Clemson-S...</td>\n",
       "      <td>ForSale</td>\n",
       "      <td>For Sale (Broker)</td>\n",
       "      <td>False</td>\n",
       "      <td>False</td>\n",
       "      <td>False</td>\n",
       "      <td>1108 Tiger Blvd APT 129, Clemson, SC 29631</td>\n",
       "      <td>False</td>\n",
       "      <td>False</td>\n",
       "      <td>False</td>\n",
       "      <td>NaN</td>\n",
       "      <td>5630311128</td>\n",
       "      <td>34.690130</td>\n",
       "      <td>-82.832690</td>\n",
       "      <td>7.264478e+07</td>\n",
       "      <td>1108 Tiger Blvd APT 129</td>\n",
       "      <td>29631</td>\n",
       "      <td>Clemson</td>\n",
       "      <td>SC</td>\n",
       "      <td>34.690130</td>\n",
       "      <td>-82.832690</td>\n",
       "      <td>135000.0</td>\n",
       "      <td>2.0</td>\n",
       "      <td>2.0</td>\n",
       "      <td>1000.0</td>\n",
       "      <td>CONDO</td>\n",
       "      <td>FOR_SALE</td>\n",
       "      <td>-1.0</td>\n",
       "      <td>False</td>\n",
       "      <td>False</td>\n",
       "      <td>135068.0</td>\n",
       "      <td>1235.0</td>\n",
       "      <td>True</td>\n",
       "      <td>False</td>\n",
       "      <td>False</td>\n",
       "      <td>FOR_SALE</td>\n",
       "      <td>135000.0</td>\n",
       "      <td>True</td>\n",
       "      <td>False</td>\n",
       "      <td>False</td>\n",
       "      <td>USD</td>\n",
       "      <td>USA</td>\n",
       "      <td>68200.0</td>\n",
       "      <td>Apt 129</td>\n",
       "      <td>False</td>\n",
       "      <td>NaN</td>\n",
       "      <td>NaN</td>\n",
       "      <td>NaN</td>\n",
       "      <td>NaN</td>\n",
       "      <td>NaN</td>\n",
       "      <td>NaN</td>\n",
       "      <td>NaN</td>\n",
       "      <td>NaN</td>\n",
       "      <td>NaN</td>\n",
       "      <td>NaN</td>\n",
       "      <td>NaN</td>\n",
       "      <td>NaN</td>\n",
       "      <td>NaN</td>\n",
       "      <td>NaN</td>\n",
       "      <td>NaN</td>\n",
       "      <td>NaN</td>\n",
       "      <td>NaN</td>\n",
       "      <td>NaN</td>\n",
       "      <td>NaN</td>\n",
       "      <td>NaN</td>\n",
       "      <td>NaN</td>\n",
       "      <td>NaN</td>\n",
       "      <td>NaN</td>\n",
       "      <td>NaN</td>\n",
       "      <td>NaN</td>\n",
       "      <td>NaN</td>\n",
       "      <td>NaN</td>\n",
       "      <td>NaN</td>\n",
       "    </tr>\n",
       "    <tr>\n",
       "      <th>1</th>\n",
       "      <td>72645142</td>\n",
       "      <td>$359,000</td>\n",
       "      <td>$359K</td>\n",
       "      <td>4.0</td>\n",
       "      <td>3.0</td>\n",
       "      <td>2280.0</td>\n",
       "      <td>FOR_SALE</td>\n",
       "      <td>House for sale</td>\n",
       "      <td>False</td>\n",
       "      <td>False</td>\n",
       "      <td>False</td>\n",
       "      <td>https://photos.zillowstatic.com/fp/933bb6a8986...</td>\n",
       "      <td>True</td>\n",
       "      <td>False</td>\n",
       "      <td></td>\n",
       "      <td>NaN</td>\n",
       "      <td>False</td>\n",
       "      <td>/homedetails/1006-Berkeley-Dr-Clemson-SC-29631...</td>\n",
       "      <td>ForSale</td>\n",
       "      <td>For Sale (Broker)</td>\n",
       "      <td>False</td>\n",
       "      <td>False</td>\n",
       "      <td>False</td>\n",
       "      <td>1006 Berkeley Dr, Clemson, SC 29631</td>\n",
       "      <td>False</td>\n",
       "      <td>False</td>\n",
       "      <td>False</td>\n",
       "      <td>NaN</td>\n",
       "      <td>1026762244</td>\n",
       "      <td>34.674236</td>\n",
       "      <td>-82.798970</td>\n",
       "      <td>7.264514e+07</td>\n",
       "      <td>1006 Berkeley Dr</td>\n",
       "      <td>29631</td>\n",
       "      <td>Clemson</td>\n",
       "      <td>SC</td>\n",
       "      <td>34.674236</td>\n",
       "      <td>-82.798970</td>\n",
       "      <td>359000.0</td>\n",
       "      <td>3.0</td>\n",
       "      <td>4.0</td>\n",
       "      <td>2280.0</td>\n",
       "      <td>SINGLE_FAMILY</td>\n",
       "      <td>FOR_SALE</td>\n",
       "      <td>-1.0</td>\n",
       "      <td>False</td>\n",
       "      <td>False</td>\n",
       "      <td>367447.0</td>\n",
       "      <td>2267.0</td>\n",
       "      <td>True</td>\n",
       "      <td>False</td>\n",
       "      <td>False</td>\n",
       "      <td>FOR_SALE</td>\n",
       "      <td>359000.0</td>\n",
       "      <td>True</td>\n",
       "      <td>False</td>\n",
       "      <td>False</td>\n",
       "      <td>USD</td>\n",
       "      <td>USA</td>\n",
       "      <td>249900.0</td>\n",
       "      <td>NaN</td>\n",
       "      <td>False</td>\n",
       "      <td>PRICE_REDUCTION</td>\n",
       "      <td>$6,000 (Jun 19)</td>\n",
       "      <td>1.687158e+12</td>\n",
       "      <td>$6,000 (Jun 19)</td>\n",
       "      <td>-6000.0</td>\n",
       "      <td>0.43</td>\n",
       "      <td>acres</td>\n",
       "      <td>NaN</td>\n",
       "      <td>NaN</td>\n",
       "      <td>NaN</td>\n",
       "      <td>NaN</td>\n",
       "      <td>NaN</td>\n",
       "      <td>NaN</td>\n",
       "      <td>NaN</td>\n",
       "      <td>NaN</td>\n",
       "      <td>NaN</td>\n",
       "      <td>NaN</td>\n",
       "      <td>NaN</td>\n",
       "      <td>NaN</td>\n",
       "      <td>NaN</td>\n",
       "      <td>NaN</td>\n",
       "      <td>NaN</td>\n",
       "      <td>NaN</td>\n",
       "      <td>NaN</td>\n",
       "      <td>NaN</td>\n",
       "      <td>NaN</td>\n",
       "      <td>NaN</td>\n",
       "      <td>NaN</td>\n",
       "    </tr>\n",
       "    <tr>\n",
       "      <th>2</th>\n",
       "      <td>NaN</td>\n",
       "      <td>From $139,900</td>\n",
       "      <td>NaN</td>\n",
       "      <td>NaN</td>\n",
       "      <td>NaN</td>\n",
       "      <td>NaN</td>\n",
       "      <td>FOR_SALE</td>\n",
       "      <td>For Rent</td>\n",
       "      <td>False</td>\n",
       "      <td>NaN</td>\n",
       "      <td>NaN</td>\n",
       "      <td>https://photos.zillowstatic.com/fp/9f0b8d5eb02...</td>\n",
       "      <td>True</td>\n",
       "      <td>NaN</td>\n",
       "      <td></td>\n",
       "      <td>NaN</td>\n",
       "      <td>NaN</td>\n",
       "      <td>/b/532-university-place-clemson-sc-5XmtqS/</td>\n",
       "      <td>NaN</td>\n",
       "      <td>NaN</td>\n",
       "      <td>False</td>\n",
       "      <td>NaN</td>\n",
       "      <td>False</td>\n",
       "      <td>220 Elm St, Clemson, SC</td>\n",
       "      <td>False</td>\n",
       "      <td>False</td>\n",
       "      <td>False</td>\n",
       "      <td>NaN</td>\n",
       "      <td>5035586765</td>\n",
       "      <td>34.693653</td>\n",
       "      <td>-82.838220</td>\n",
       "      <td>NaN</td>\n",
       "      <td>NaN</td>\n",
       "      <td>NaN</td>\n",
       "      <td>NaN</td>\n",
       "      <td>NaN</td>\n",
       "      <td>NaN</td>\n",
       "      <td>NaN</td>\n",
       "      <td>NaN</td>\n",
       "      <td>NaN</td>\n",
       "      <td>NaN</td>\n",
       "      <td>NaN</td>\n",
       "      <td>NaN</td>\n",
       "      <td>NaN</td>\n",
       "      <td>NaN</td>\n",
       "      <td>NaN</td>\n",
       "      <td>NaN</td>\n",
       "      <td>NaN</td>\n",
       "      <td>NaN</td>\n",
       "      <td>NaN</td>\n",
       "      <td>NaN</td>\n",
       "      <td>NaN</td>\n",
       "      <td>NaN</td>\n",
       "      <td>NaN</td>\n",
       "      <td>NaN</td>\n",
       "      <td>NaN</td>\n",
       "      <td>NaN</td>\n",
       "      <td>NaN</td>\n",
       "      <td>NaN</td>\n",
       "      <td>NaN</td>\n",
       "      <td>NaN</td>\n",
       "      <td>NaN</td>\n",
       "      <td>NaN</td>\n",
       "      <td>NaN</td>\n",
       "      <td>NaN</td>\n",
       "      <td>NaN</td>\n",
       "      <td>NaN</td>\n",
       "      <td>NaN</td>\n",
       "      <td>NaN</td>\n",
       "      <td>34.693653--82.83822</td>\n",
       "      <td>1.001769e+09</td>\n",
       "      <td>4.0</td>\n",
       "      <td>2.0</td>\n",
       "      <td>1000.0</td>\n",
       "      <td>2.0</td>\n",
       "      <td>True</td>\n",
       "      <td>NaN</td>\n",
       "      <td>False</td>\n",
       "      <td>NaN</td>\n",
       "      <td>NaN</td>\n",
       "      <td>NaN</td>\n",
       "      <td>NaN</td>\n",
       "      <td>NaN</td>\n",
       "      <td>NaN</td>\n",
       "      <td>NaN</td>\n",
       "      <td>NaN</td>\n",
       "      <td>NaN</td>\n",
       "      <td>NaN</td>\n",
       "      <td>NaN</td>\n",
       "      <td>NaN</td>\n",
       "    </tr>\n",
       "    <tr>\n",
       "      <th>3</th>\n",
       "      <td>72696310</td>\n",
       "      <td>$429,450</td>\n",
       "      <td>$429K</td>\n",
       "      <td>3.0</td>\n",
       "      <td>2.0</td>\n",
       "      <td>2000.0</td>\n",
       "      <td>FOR_SALE</td>\n",
       "      <td>House for sale</td>\n",
       "      <td>False</td>\n",
       "      <td>False</td>\n",
       "      <td>False</td>\n",
       "      <td>https://photos.zillowstatic.com/fp/d893ac78ea9...</td>\n",
       "      <td>True</td>\n",
       "      <td>False</td>\n",
       "      <td></td>\n",
       "      <td>NaN</td>\n",
       "      <td>False</td>\n",
       "      <td>/homedetails/408-Rock-Creek-Rd-Clemson-SC-2963...</td>\n",
       "      <td>ForSale</td>\n",
       "      <td>For Sale (Broker)</td>\n",
       "      <td>True</td>\n",
       "      <td>False</td>\n",
       "      <td>False</td>\n",
       "      <td>408 Rock Creek Rd, Clemson, SC 29631</td>\n",
       "      <td>False</td>\n",
       "      <td>False</td>\n",
       "      <td>False</td>\n",
       "      <td>NaN</td>\n",
       "      <td>1046982742</td>\n",
       "      <td>34.675766</td>\n",
       "      <td>-82.803370</td>\n",
       "      <td>7.269631e+07</td>\n",
       "      <td>408 Rock Creek Rd</td>\n",
       "      <td>29631</td>\n",
       "      <td>Clemson</td>\n",
       "      <td>SC</td>\n",
       "      <td>34.675766</td>\n",
       "      <td>-82.803370</td>\n",
       "      <td>429450.0</td>\n",
       "      <td>2.0</td>\n",
       "      <td>3.0</td>\n",
       "      <td>2000.0</td>\n",
       "      <td>SINGLE_FAMILY</td>\n",
       "      <td>FOR_SALE</td>\n",
       "      <td>-1.0</td>\n",
       "      <td>False</td>\n",
       "      <td>False</td>\n",
       "      <td>431500.0</td>\n",
       "      <td>1984.0</td>\n",
       "      <td>True</td>\n",
       "      <td>False</td>\n",
       "      <td>False</td>\n",
       "      <td>FOR_SALE</td>\n",
       "      <td>429450.0</td>\n",
       "      <td>True</td>\n",
       "      <td>False</td>\n",
       "      <td>False</td>\n",
       "      <td>USD</td>\n",
       "      <td>USA</td>\n",
       "      <td>242700.0</td>\n",
       "      <td>NaN</td>\n",
       "      <td>False</td>\n",
       "      <td>3D_HOME</td>\n",
       "      <td>3D Tour</td>\n",
       "      <td>NaN</td>\n",
       "      <td>NaN</td>\n",
       "      <td>NaN</td>\n",
       "      <td>NaN</td>\n",
       "      <td>NaN</td>\n",
       "      <td>NaN</td>\n",
       "      <td>NaN</td>\n",
       "      <td>NaN</td>\n",
       "      <td>NaN</td>\n",
       "      <td>NaN</td>\n",
       "      <td>NaN</td>\n",
       "      <td>NaN</td>\n",
       "      <td>NaN</td>\n",
       "      <td>NaN</td>\n",
       "      <td>NaN</td>\n",
       "      <td>NaN</td>\n",
       "      <td>NaN</td>\n",
       "      <td>NaN</td>\n",
       "      <td>NaN</td>\n",
       "      <td>NaN</td>\n",
       "      <td>NaN</td>\n",
       "      <td>NaN</td>\n",
       "      <td>NaN</td>\n",
       "      <td>NaN</td>\n",
       "      <td>NaN</td>\n",
       "      <td>NaN</td>\n",
       "    </tr>\n",
       "    <tr>\n",
       "      <th>4</th>\n",
       "      <td>82557012</td>\n",
       "      <td>$329,900</td>\n",
       "      <td>$330K</td>\n",
       "      <td>2.0</td>\n",
       "      <td>3.0</td>\n",
       "      <td>1353.0</td>\n",
       "      <td>FOR_SALE</td>\n",
       "      <td>Condo for sale</td>\n",
       "      <td>False</td>\n",
       "      <td>False</td>\n",
       "      <td>False</td>\n",
       "      <td>https://photos.zillowstatic.com/fp/9c46bd60917...</td>\n",
       "      <td>True</td>\n",
       "      <td>False</td>\n",
       "      <td></td>\n",
       "      <td>NaN</td>\n",
       "      <td>False</td>\n",
       "      <td>/homedetails/849-Tiger-Blvd-UNIT-504-Clemson-S...</td>\n",
       "      <td>ForSale</td>\n",
       "      <td>For Sale (Broker)</td>\n",
       "      <td>False</td>\n",
       "      <td>False</td>\n",
       "      <td>False</td>\n",
       "      <td>849 Tiger Blvd UNIT 504, Clemson, SC 29631</td>\n",
       "      <td>False</td>\n",
       "      <td>False</td>\n",
       "      <td>False</td>\n",
       "      <td>NaN</td>\n",
       "      <td>963220417</td>\n",
       "      <td>34.693375</td>\n",
       "      <td>-82.848560</td>\n",
       "      <td>8.255701e+07</td>\n",
       "      <td>849 Tiger Blvd UNIT 504</td>\n",
       "      <td>29631</td>\n",
       "      <td>Clemson</td>\n",
       "      <td>SC</td>\n",
       "      <td>34.693375</td>\n",
       "      <td>-82.848560</td>\n",
       "      <td>329900.0</td>\n",
       "      <td>3.0</td>\n",
       "      <td>2.0</td>\n",
       "      <td>1353.0</td>\n",
       "      <td>CONDO</td>\n",
       "      <td>FOR_SALE</td>\n",
       "      <td>-1.0</td>\n",
       "      <td>False</td>\n",
       "      <td>False</td>\n",
       "      <td>NaN</td>\n",
       "      <td>1678.0</td>\n",
       "      <td>True</td>\n",
       "      <td>False</td>\n",
       "      <td>False</td>\n",
       "      <td>FOR_SALE</td>\n",
       "      <td>329900.0</td>\n",
       "      <td>True</td>\n",
       "      <td>False</td>\n",
       "      <td>False</td>\n",
       "      <td>USD</td>\n",
       "      <td>USA</td>\n",
       "      <td>259800.0</td>\n",
       "      <td>Unit 504</td>\n",
       "      <td>False</td>\n",
       "      <td>NaN</td>\n",
       "      <td>NaN</td>\n",
       "      <td>NaN</td>\n",
       "      <td>NaN</td>\n",
       "      <td>NaN</td>\n",
       "      <td>NaN</td>\n",
       "      <td>NaN</td>\n",
       "      <td>NaN</td>\n",
       "      <td>NaN</td>\n",
       "      <td>NaN</td>\n",
       "      <td>NaN</td>\n",
       "      <td>NaN</td>\n",
       "      <td>NaN</td>\n",
       "      <td>NaN</td>\n",
       "      <td>NaN</td>\n",
       "      <td>NaN</td>\n",
       "      <td>NaN</td>\n",
       "      <td>NaN</td>\n",
       "      <td>NaN</td>\n",
       "      <td>NaN</td>\n",
       "      <td>NaN</td>\n",
       "      <td>NaN</td>\n",
       "      <td>NaN</td>\n",
       "      <td>NaN</td>\n",
       "      <td>NaN</td>\n",
       "      <td>NaN</td>\n",
       "      <td>NaN</td>\n",
       "      <td>NaN</td>\n",
       "    </tr>\n",
       "    <tr>\n",
       "      <th>5</th>\n",
       "      <td>71330400</td>\n",
       "      <td>$440,000</td>\n",
       "      <td>$440K</td>\n",
       "      <td>4.0</td>\n",
       "      <td>4.0</td>\n",
       "      <td>2088.0</td>\n",
       "      <td>FOR_SALE</td>\n",
       "      <td>Townhouse for sale</td>\n",
       "      <td>False</td>\n",
       "      <td>False</td>\n",
       "      <td>False</td>\n",
       "      <td>https://photos.zillowstatic.com/fp/836db50df20...</td>\n",
       "      <td>True</td>\n",
       "      <td>False</td>\n",
       "      <td></td>\n",
       "      <td>NaN</td>\n",
       "      <td>False</td>\n",
       "      <td>/homedetails/600-Anderson-Hwy-APT-113-Clemson-...</td>\n",
       "      <td>ForSale</td>\n",
       "      <td>For Sale (Broker)</td>\n",
       "      <td>False</td>\n",
       "      <td>False</td>\n",
       "      <td>False</td>\n",
       "      <td>600 Anderson Hwy APT 113, Clemson, SC 29631</td>\n",
       "      <td>False</td>\n",
       "      <td>False</td>\n",
       "      <td>False</td>\n",
       "      <td>NaN</td>\n",
       "      <td>23613274</td>\n",
       "      <td>34.670513</td>\n",
       "      <td>-82.815735</td>\n",
       "      <td>7.133040e+07</td>\n",
       "      <td>600 Anderson Hwy APT 113</td>\n",
       "      <td>29631</td>\n",
       "      <td>Clemson</td>\n",
       "      <td>SC</td>\n",
       "      <td>34.670513</td>\n",
       "      <td>-82.815735</td>\n",
       "      <td>440000.0</td>\n",
       "      <td>4.0</td>\n",
       "      <td>4.0</td>\n",
       "      <td>2088.0</td>\n",
       "      <td>TOWNHOUSE</td>\n",
       "      <td>FOR_SALE</td>\n",
       "      <td>-1.0</td>\n",
       "      <td>False</td>\n",
       "      <td>False</td>\n",
       "      <td>454818.0</td>\n",
       "      <td>1795.0</td>\n",
       "      <td>True</td>\n",
       "      <td>False</td>\n",
       "      <td>False</td>\n",
       "      <td>FOR_SALE</td>\n",
       "      <td>440000.0</td>\n",
       "      <td>True</td>\n",
       "      <td>False</td>\n",
       "      <td>False</td>\n",
       "      <td>USD</td>\n",
       "      <td>USA</td>\n",
       "      <td>119900.0</td>\n",
       "      <td>Apt 113</td>\n",
       "      <td>False</td>\n",
       "      <td>TIME_ON_INFO</td>\n",
       "      <td>6 hours ago</td>\n",
       "      <td>NaN</td>\n",
       "      <td>NaN</td>\n",
       "      <td>NaN</td>\n",
       "      <td>NaN</td>\n",
       "      <td>NaN</td>\n",
       "      <td>NaN</td>\n",
       "      <td>NaN</td>\n",
       "      <td>NaN</td>\n",
       "      <td>NaN</td>\n",
       "      <td>NaN</td>\n",
       "      <td>NaN</td>\n",
       "      <td>NaN</td>\n",
       "      <td>NaN</td>\n",
       "      <td>NaN</td>\n",
       "      <td>False</td>\n",
       "      <td>NaN</td>\n",
       "      <td>NaN</td>\n",
       "      <td>NaN</td>\n",
       "      <td>NaN</td>\n",
       "      <td>NaN</td>\n",
       "      <td>NaN</td>\n",
       "      <td>NaN</td>\n",
       "      <td>NaN</td>\n",
       "      <td>NaN</td>\n",
       "      <td>NaN</td>\n",
       "      <td>NaN</td>\n",
       "    </tr>\n",
       "    <tr>\n",
       "      <th>6</th>\n",
       "      <td>72658672</td>\n",
       "      <td>$485,000</td>\n",
       "      <td>$485K</td>\n",
       "      <td>4.0</td>\n",
       "      <td>3.0</td>\n",
       "      <td>2500.0</td>\n",
       "      <td>FOR_SALE</td>\n",
       "      <td>House for sale</td>\n",
       "      <td>False</td>\n",
       "      <td>False</td>\n",
       "      <td>False</td>\n",
       "      <td>https://photos.zillowstatic.com/fp/881d963892f...</td>\n",
       "      <td>True</td>\n",
       "      <td>False</td>\n",
       "      <td></td>\n",
       "      <td>NaN</td>\n",
       "      <td>False</td>\n",
       "      <td>/homedetails/226-Riggs-Dr-Clemson-SC-29631/726...</td>\n",
       "      <td>ForSale</td>\n",
       "      <td>For Sale (Broker)</td>\n",
       "      <td>False</td>\n",
       "      <td>False</td>\n",
       "      <td>False</td>\n",
       "      <td>226 Riggs Dr, Clemson, SC 29631</td>\n",
       "      <td>False</td>\n",
       "      <td>False</td>\n",
       "      <td>False</td>\n",
       "      <td>NaN</td>\n",
       "      <td>5368896800</td>\n",
       "      <td>34.686590</td>\n",
       "      <td>-82.826420</td>\n",
       "      <td>7.265867e+07</td>\n",
       "      <td>226 Riggs Dr</td>\n",
       "      <td>29631</td>\n",
       "      <td>Clemson</td>\n",
       "      <td>SC</td>\n",
       "      <td>34.686590</td>\n",
       "      <td>-82.826420</td>\n",
       "      <td>485000.0</td>\n",
       "      <td>3.0</td>\n",
       "      <td>4.0</td>\n",
       "      <td>2500.0</td>\n",
       "      <td>SINGLE_FAMILY</td>\n",
       "      <td>FOR_SALE</td>\n",
       "      <td>-1.0</td>\n",
       "      <td>False</td>\n",
       "      <td>False</td>\n",
       "      <td>485000.0</td>\n",
       "      <td>2588.0</td>\n",
       "      <td>True</td>\n",
       "      <td>False</td>\n",
       "      <td>False</td>\n",
       "      <td>FOR_SALE</td>\n",
       "      <td>485000.0</td>\n",
       "      <td>True</td>\n",
       "      <td>False</td>\n",
       "      <td>False</td>\n",
       "      <td>USD</td>\n",
       "      <td>USA</td>\n",
       "      <td>209400.0</td>\n",
       "      <td>NaN</td>\n",
       "      <td>False</td>\n",
       "      <td>NaN</td>\n",
       "      <td>NaN</td>\n",
       "      <td>NaN</td>\n",
       "      <td>NaN</td>\n",
       "      <td>NaN</td>\n",
       "      <td>0.63</td>\n",
       "      <td>acres</td>\n",
       "      <td>NaN</td>\n",
       "      <td>NaN</td>\n",
       "      <td>NaN</td>\n",
       "      <td>NaN</td>\n",
       "      <td>NaN</td>\n",
       "      <td>NaN</td>\n",
       "      <td>NaN</td>\n",
       "      <td>NaN</td>\n",
       "      <td>NaN</td>\n",
       "      <td>NaN</td>\n",
       "      <td>NaN</td>\n",
       "      <td>NaN</td>\n",
       "      <td>NaN</td>\n",
       "      <td>NaN</td>\n",
       "      <td>NaN</td>\n",
       "      <td>NaN</td>\n",
       "      <td>NaN</td>\n",
       "      <td>NaN</td>\n",
       "      <td>NaN</td>\n",
       "      <td>NaN</td>\n",
       "      <td>NaN</td>\n",
       "    </tr>\n",
       "    <tr>\n",
       "      <th>7</th>\n",
       "      <td>72658779</td>\n",
       "      <td>$390,000</td>\n",
       "      <td>$390K</td>\n",
       "      <td>3.0</td>\n",
       "      <td>3.0</td>\n",
       "      <td>2000.0</td>\n",
       "      <td>FOR_SALE</td>\n",
       "      <td>House for sale</td>\n",
       "      <td>False</td>\n",
       "      <td>False</td>\n",
       "      <td>False</td>\n",
       "      <td>https://photos.zillowstatic.com/fp/b397da4dd80...</td>\n",
       "      <td>True</td>\n",
       "      <td>False</td>\n",
       "      <td></td>\n",
       "      <td>NaN</td>\n",
       "      <td>False</td>\n",
       "      <td>/homedetails/111-E-Brookwood-Dr-Clemson-SC-296...</td>\n",
       "      <td>ForSale</td>\n",
       "      <td>For Sale (Broker)</td>\n",
       "      <td>False</td>\n",
       "      <td>False</td>\n",
       "      <td>False</td>\n",
       "      <td>111 E Brookwood Dr, Clemson, SC 29631</td>\n",
       "      <td>False</td>\n",
       "      <td>False</td>\n",
       "      <td>False</td>\n",
       "      <td>NaN</td>\n",
       "      <td>1595463182</td>\n",
       "      <td>34.670708</td>\n",
       "      <td>-82.801520</td>\n",
       "      <td>7.265878e+07</td>\n",
       "      <td>111 E Brookwood Dr</td>\n",
       "      <td>29631</td>\n",
       "      <td>Clemson</td>\n",
       "      <td>SC</td>\n",
       "      <td>34.670708</td>\n",
       "      <td>-82.801520</td>\n",
       "      <td>390000.0</td>\n",
       "      <td>3.0</td>\n",
       "      <td>3.0</td>\n",
       "      <td>2000.0</td>\n",
       "      <td>SINGLE_FAMILY</td>\n",
       "      <td>FOR_SALE</td>\n",
       "      <td>-1.0</td>\n",
       "      <td>False</td>\n",
       "      <td>False</td>\n",
       "      <td>401494.0</td>\n",
       "      <td>2199.0</td>\n",
       "      <td>True</td>\n",
       "      <td>False</td>\n",
       "      <td>False</td>\n",
       "      <td>FOR_SALE</td>\n",
       "      <td>390000.0</td>\n",
       "      <td>True</td>\n",
       "      <td>False</td>\n",
       "      <td>False</td>\n",
       "      <td>USD</td>\n",
       "      <td>USA</td>\n",
       "      <td>225200.0</td>\n",
       "      <td>NaN</td>\n",
       "      <td>False</td>\n",
       "      <td>PRICE_REDUCTION</td>\n",
       "      <td>$9,999 (Jun 20)</td>\n",
       "      <td>1.687244e+12</td>\n",
       "      <td>$9,999 (Jun 20)</td>\n",
       "      <td>-9999.0</td>\n",
       "      <td>NaN</td>\n",
       "      <td>NaN</td>\n",
       "      <td>NaN</td>\n",
       "      <td>NaN</td>\n",
       "      <td>NaN</td>\n",
       "      <td>NaN</td>\n",
       "      <td>NaN</td>\n",
       "      <td>NaN</td>\n",
       "      <td>NaN</td>\n",
       "      <td>NaN</td>\n",
       "      <td>NaN</td>\n",
       "      <td>NaN</td>\n",
       "      <td>NaN</td>\n",
       "      <td>NaN</td>\n",
       "      <td>NaN</td>\n",
       "      <td>NaN</td>\n",
       "      <td>NaN</td>\n",
       "      <td>NaN</td>\n",
       "      <td>NaN</td>\n",
       "      <td>NaN</td>\n",
       "      <td>NaN</td>\n",
       "      <td>NaN</td>\n",
       "      <td>NaN</td>\n",
       "    </tr>\n",
       "    <tr>\n",
       "      <th>8</th>\n",
       "      <td>72658654</td>\n",
       "      <td>$439,000</td>\n",
       "      <td>$439K</td>\n",
       "      <td>4.0</td>\n",
       "      <td>4.0</td>\n",
       "      <td>2250.0</td>\n",
       "      <td>FOR_SALE</td>\n",
       "      <td>House for sale</td>\n",
       "      <td>False</td>\n",
       "      <td>False</td>\n",
       "      <td>False</td>\n",
       "      <td>https://photos.zillowstatic.com/fp/f22f2e25a52...</td>\n",
       "      <td>True</td>\n",
       "      <td>False</td>\n",
       "      <td></td>\n",
       "      <td>NaN</td>\n",
       "      <td>False</td>\n",
       "      <td>/homedetails/110-Cardinal-Dr-Clemson-SC-29631/...</td>\n",
       "      <td>ForSale</td>\n",
       "      <td>For Sale (Broker)</td>\n",
       "      <td>False</td>\n",
       "      <td>False</td>\n",
       "      <td>False</td>\n",
       "      <td>110 Cardinal Dr, Clemson, SC 29631</td>\n",
       "      <td>False</td>\n",
       "      <td>False</td>\n",
       "      <td>False</td>\n",
       "      <td>NaN</td>\n",
       "      <td>1248635555</td>\n",
       "      <td>34.691710</td>\n",
       "      <td>-82.804310</td>\n",
       "      <td>7.265865e+07</td>\n",
       "      <td>110 Cardinal Dr</td>\n",
       "      <td>29631</td>\n",
       "      <td>Clemson</td>\n",
       "      <td>SC</td>\n",
       "      <td>34.691710</td>\n",
       "      <td>-82.804310</td>\n",
       "      <td>439000.0</td>\n",
       "      <td>4.0</td>\n",
       "      <td>4.0</td>\n",
       "      <td>2250.0</td>\n",
       "      <td>SINGLE_FAMILY</td>\n",
       "      <td>FOR_SALE</td>\n",
       "      <td>-1.0</td>\n",
       "      <td>False</td>\n",
       "      <td>False</td>\n",
       "      <td>439628.0</td>\n",
       "      <td>2511.0</td>\n",
       "      <td>True</td>\n",
       "      <td>False</td>\n",
       "      <td>False</td>\n",
       "      <td>FOR_SALE</td>\n",
       "      <td>439000.0</td>\n",
       "      <td>True</td>\n",
       "      <td>False</td>\n",
       "      <td>False</td>\n",
       "      <td>USD</td>\n",
       "      <td>USA</td>\n",
       "      <td>215400.0</td>\n",
       "      <td>NaN</td>\n",
       "      <td>False</td>\n",
       "      <td>PRICE_REDUCTION</td>\n",
       "      <td>$46,000 (Jun 15)</td>\n",
       "      <td>1.686812e+12</td>\n",
       "      <td>$46,000 (Jun 15)</td>\n",
       "      <td>-46000.0</td>\n",
       "      <td>NaN</td>\n",
       "      <td>NaN</td>\n",
       "      <td>NaN</td>\n",
       "      <td>NaN</td>\n",
       "      <td>NaN</td>\n",
       "      <td>NaN</td>\n",
       "      <td>NaN</td>\n",
       "      <td>NaN</td>\n",
       "      <td>NaN</td>\n",
       "      <td>NaN</td>\n",
       "      <td>NaN</td>\n",
       "      <td>NaN</td>\n",
       "      <td>NaN</td>\n",
       "      <td>NaN</td>\n",
       "      <td>NaN</td>\n",
       "      <td>NaN</td>\n",
       "      <td>NaN</td>\n",
       "      <td>NaN</td>\n",
       "      <td>NaN</td>\n",
       "      <td>NaN</td>\n",
       "      <td>NaN</td>\n",
       "      <td>NaN</td>\n",
       "      <td>NaN</td>\n",
       "    </tr>\n",
       "    <tr>\n",
       "      <th>9</th>\n",
       "      <td>72641246</td>\n",
       "      <td>$397,000</td>\n",
       "      <td>$397K</td>\n",
       "      <td>3.0</td>\n",
       "      <td>3.0</td>\n",
       "      <td>2000.0</td>\n",
       "      <td>FOR_SALE</td>\n",
       "      <td>House for sale</td>\n",
       "      <td>False</td>\n",
       "      <td>False</td>\n",
       "      <td>False</td>\n",
       "      <td>https://photos.zillowstatic.com/fp/efe03383552...</td>\n",
       "      <td>True</td>\n",
       "      <td>False</td>\n",
       "      <td></td>\n",
       "      <td>NaN</td>\n",
       "      <td>False</td>\n",
       "      <td>/homedetails/109-Shadowood-Dr-Clemson-SC-29631...</td>\n",
       "      <td>ForSale</td>\n",
       "      <td>For Sale (Broker)</td>\n",
       "      <td>False</td>\n",
       "      <td>False</td>\n",
       "      <td>False</td>\n",
       "      <td>109 Shadowood Dr, Clemson, SC 29631</td>\n",
       "      <td>False</td>\n",
       "      <td>False</td>\n",
       "      <td>False</td>\n",
       "      <td>NaN</td>\n",
       "      <td>2428631220</td>\n",
       "      <td>34.677400</td>\n",
       "      <td>-82.801690</td>\n",
       "      <td>7.264125e+07</td>\n",
       "      <td>109 Shadowood Dr</td>\n",
       "      <td>29631</td>\n",
       "      <td>Clemson</td>\n",
       "      <td>SC</td>\n",
       "      <td>34.677400</td>\n",
       "      <td>-82.801690</td>\n",
       "      <td>397000.0</td>\n",
       "      <td>3.0</td>\n",
       "      <td>3.0</td>\n",
       "      <td>2000.0</td>\n",
       "      <td>SINGLE_FAMILY</td>\n",
       "      <td>FOR_SALE</td>\n",
       "      <td>-1.0</td>\n",
       "      <td>False</td>\n",
       "      <td>False</td>\n",
       "      <td>410831.0</td>\n",
       "      <td>1949.0</td>\n",
       "      <td>True</td>\n",
       "      <td>False</td>\n",
       "      <td>False</td>\n",
       "      <td>FOR_SALE</td>\n",
       "      <td>397000.0</td>\n",
       "      <td>True</td>\n",
       "      <td>False</td>\n",
       "      <td>False</td>\n",
       "      <td>USD</td>\n",
       "      <td>USA</td>\n",
       "      <td>239000.0</td>\n",
       "      <td>NaN</td>\n",
       "      <td>False</td>\n",
       "      <td>PRICE_REDUCTION</td>\n",
       "      <td>$500 (Jun 13)</td>\n",
       "      <td>1.686640e+12</td>\n",
       "      <td>$500 (Jun 13)</td>\n",
       "      <td>-500.0</td>\n",
       "      <td>NaN</td>\n",
       "      <td>NaN</td>\n",
       "      <td>NaN</td>\n",
       "      <td>NaN</td>\n",
       "      <td>NaN</td>\n",
       "      <td>NaN</td>\n",
       "      <td>NaN</td>\n",
       "      <td>NaN</td>\n",
       "      <td>NaN</td>\n",
       "      <td>NaN</td>\n",
       "      <td>NaN</td>\n",
       "      <td>NaN</td>\n",
       "      <td>NaN</td>\n",
       "      <td>NaN</td>\n",
       "      <td>NaN</td>\n",
       "      <td>NaN</td>\n",
       "      <td>NaN</td>\n",
       "      <td>NaN</td>\n",
       "      <td>NaN</td>\n",
       "      <td>NaN</td>\n",
       "      <td>NaN</td>\n",
       "      <td>NaN</td>\n",
       "      <td>NaN</td>\n",
       "    </tr>\n",
       "    <tr>\n",
       "      <th>10</th>\n",
       "      <td>81767981</td>\n",
       "      <td>$459,990</td>\n",
       "      <td>$460K</td>\n",
       "      <td>4.0</td>\n",
       "      <td>4.0</td>\n",
       "      <td>2300.0</td>\n",
       "      <td>FOR_SALE</td>\n",
       "      <td>House for sale</td>\n",
       "      <td>False</td>\n",
       "      <td>False</td>\n",
       "      <td>False</td>\n",
       "      <td>https://photos.zillowstatic.com/fp/afa31d322ad...</td>\n",
       "      <td>True</td>\n",
       "      <td>False</td>\n",
       "      <td></td>\n",
       "      <td>NaN</td>\n",
       "      <td>False</td>\n",
       "      <td>/homedetails/565-Issaqueena-Trl-Clemson-SC-296...</td>\n",
       "      <td>ForSale</td>\n",
       "      <td>For Sale (Broker)</td>\n",
       "      <td>False</td>\n",
       "      <td>False</td>\n",
       "      <td>False</td>\n",
       "      <td>565 Issaqueena Trl, Clemson, SC 29631</td>\n",
       "      <td>False</td>\n",
       "      <td>False</td>\n",
       "      <td>False</td>\n",
       "      <td>NaN</td>\n",
       "      <td>1567048940</td>\n",
       "      <td>34.680786</td>\n",
       "      <td>-82.787390</td>\n",
       "      <td>8.176798e+07</td>\n",
       "      <td>565 Issaqueena Trl</td>\n",
       "      <td>29631</td>\n",
       "      <td>Clemson</td>\n",
       "      <td>SC</td>\n",
       "      <td>34.680786</td>\n",
       "      <td>-82.787390</td>\n",
       "      <td>459990.0</td>\n",
       "      <td>4.0</td>\n",
       "      <td>4.0</td>\n",
       "      <td>2300.0</td>\n",
       "      <td>SINGLE_FAMILY</td>\n",
       "      <td>FOR_SALE</td>\n",
       "      <td>-1.0</td>\n",
       "      <td>False</td>\n",
       "      <td>False</td>\n",
       "      <td>472079.0</td>\n",
       "      <td>2500.0</td>\n",
       "      <td>True</td>\n",
       "      <td>False</td>\n",
       "      <td>False</td>\n",
       "      <td>FOR_SALE</td>\n",
       "      <td>459990.0</td>\n",
       "      <td>True</td>\n",
       "      <td>False</td>\n",
       "      <td>False</td>\n",
       "      <td>USD</td>\n",
       "      <td>USA</td>\n",
       "      <td>15070.0</td>\n",
       "      <td>NaN</td>\n",
       "      <td>False</td>\n",
       "      <td>OPEN_HOUSE</td>\n",
       "      <td>Open: Sun. 2-4pm</td>\n",
       "      <td>1.685689e+12</td>\n",
       "      <td>NaN</td>\n",
       "      <td>20490.0</td>\n",
       "      <td>0.50</td>\n",
       "      <td>acres</td>\n",
       "      <td>NaN</td>\n",
       "      <td>NaN</td>\n",
       "      <td>NaN</td>\n",
       "      <td>NaN</td>\n",
       "      <td>NaN</td>\n",
       "      <td>NaN</td>\n",
       "      <td>NaN</td>\n",
       "      <td>NaN</td>\n",
       "      <td>NaN</td>\n",
       "      <td>NaN</td>\n",
       "      <td>True</td>\n",
       "      <td>Sun. 2-4pm</td>\n",
       "      <td>[{'open_house_start': 1687726800000, 'open_hou...</td>\n",
       "      <td>NaN</td>\n",
       "      <td>NaN</td>\n",
       "      <td>NaN</td>\n",
       "      <td>NaN</td>\n",
       "      <td>NaN</td>\n",
       "      <td>NaN</td>\n",
       "      <td>NaN</td>\n",
       "      <td>NaN</td>\n",
       "    </tr>\n",
       "    <tr>\n",
       "      <th>11</th>\n",
       "      <td>2061586389</td>\n",
       "      <td>$49,900</td>\n",
       "      <td>$50K</td>\n",
       "      <td>NaN</td>\n",
       "      <td>0.0</td>\n",
       "      <td>NaN</td>\n",
       "      <td>FOR_SALE</td>\n",
       "      <td>Lot / Land for sale</td>\n",
       "      <td>False</td>\n",
       "      <td>False</td>\n",
       "      <td>False</td>\n",
       "      <td>https://photos.zillowstatic.com/fp/93823a28a06...</td>\n",
       "      <td>True</td>\n",
       "      <td>False</td>\n",
       "      <td></td>\n",
       "      <td>NaN</td>\n",
       "      <td>False</td>\n",
       "      <td>/homedetails/0-Briarwood-Ct-Clemson-SC-29631/2...</td>\n",
       "      <td>ForSale</td>\n",
       "      <td>For Sale (Broker)</td>\n",
       "      <td>False</td>\n",
       "      <td>False</td>\n",
       "      <td>False</td>\n",
       "      <td>0 Briarwood Ct, Clemson, SC 29631</td>\n",
       "      <td>False</td>\n",
       "      <td>False</td>\n",
       "      <td>False</td>\n",
       "      <td>NaN</td>\n",
       "      <td>24214016972</td>\n",
       "      <td>34.664196</td>\n",
       "      <td>-82.801445</td>\n",
       "      <td>2.061586e+09</td>\n",
       "      <td>0 Briarwood Ct</td>\n",
       "      <td>29631</td>\n",
       "      <td>Clemson</td>\n",
       "      <td>SC</td>\n",
       "      <td>34.664196</td>\n",
       "      <td>-82.801445</td>\n",
       "      <td>49900.0</td>\n",
       "      <td>0.0</td>\n",
       "      <td>NaN</td>\n",
       "      <td>NaN</td>\n",
       "      <td>LOT</td>\n",
       "      <td>FOR_SALE</td>\n",
       "      <td>-1.0</td>\n",
       "      <td>False</td>\n",
       "      <td>False</td>\n",
       "      <td>NaN</td>\n",
       "      <td>1400.0</td>\n",
       "      <td>True</td>\n",
       "      <td>False</td>\n",
       "      <td>False</td>\n",
       "      <td>FOR_SALE</td>\n",
       "      <td>49900.0</td>\n",
       "      <td>True</td>\n",
       "      <td>False</td>\n",
       "      <td>False</td>\n",
       "      <td>USD</td>\n",
       "      <td>USA</td>\n",
       "      <td>NaN</td>\n",
       "      <td>NaN</td>\n",
       "      <td>False</td>\n",
       "      <td>NaN</td>\n",
       "      <td>NaN</td>\n",
       "      <td>NaN</td>\n",
       "      <td>NaN</td>\n",
       "      <td>NaN</td>\n",
       "      <td>0.88</td>\n",
       "      <td>acres</td>\n",
       "      <td>NaN</td>\n",
       "      <td>NaN</td>\n",
       "      <td>NaN</td>\n",
       "      <td>NaN</td>\n",
       "      <td>NaN</td>\n",
       "      <td>NaN</td>\n",
       "      <td>NaN</td>\n",
       "      <td>NaN</td>\n",
       "      <td>NaN</td>\n",
       "      <td>NaN</td>\n",
       "      <td>NaN</td>\n",
       "      <td>NaN</td>\n",
       "      <td>NaN</td>\n",
       "      <td>0.88 acres</td>\n",
       "      <td>NaN</td>\n",
       "      <td>NaN</td>\n",
       "      <td>NaN</td>\n",
       "      <td>NaN</td>\n",
       "      <td>NaN</td>\n",
       "      <td>NaN</td>\n",
       "      <td>NaN</td>\n",
       "    </tr>\n",
       "    <tr>\n",
       "      <th>12</th>\n",
       "      <td>204270346</td>\n",
       "      <td>$165,000</td>\n",
       "      <td>$165K</td>\n",
       "      <td>NaN</td>\n",
       "      <td>0.0</td>\n",
       "      <td>NaN</td>\n",
       "      <td>FOR_SALE</td>\n",
       "      <td>Lot / Land for sale</td>\n",
       "      <td>False</td>\n",
       "      <td>False</td>\n",
       "      <td>False</td>\n",
       "      <td>https://photos.zillowstatic.com/fp/95c521b2010...</td>\n",
       "      <td>True</td>\n",
       "      <td>False</td>\n",
       "      <td></td>\n",
       "      <td>NaN</td>\n",
       "      <td>False</td>\n",
       "      <td>/homedetails/101-Dupree-St-Clemson-SC-29631/20...</td>\n",
       "      <td>ForSale</td>\n",
       "      <td>For Sale (Broker)</td>\n",
       "      <td>False</td>\n",
       "      <td>False</td>\n",
       "      <td>False</td>\n",
       "      <td>101 Dupree St, Clemson, SC 29631</td>\n",
       "      <td>False</td>\n",
       "      <td>False</td>\n",
       "      <td>False</td>\n",
       "      <td>NaN</td>\n",
       "      <td>26029015457</td>\n",
       "      <td>34.687750</td>\n",
       "      <td>-82.820870</td>\n",
       "      <td>2.042703e+08</td>\n",
       "      <td>101 Dupree St</td>\n",
       "      <td>29631</td>\n",
       "      <td>Clemson</td>\n",
       "      <td>SC</td>\n",
       "      <td>34.687750</td>\n",
       "      <td>-82.820870</td>\n",
       "      <td>165000.0</td>\n",
       "      <td>0.0</td>\n",
       "      <td>NaN</td>\n",
       "      <td>NaN</td>\n",
       "      <td>LOT</td>\n",
       "      <td>FOR_SALE</td>\n",
       "      <td>-1.0</td>\n",
       "      <td>False</td>\n",
       "      <td>False</td>\n",
       "      <td>NaN</td>\n",
       "      <td>993.0</td>\n",
       "      <td>True</td>\n",
       "      <td>False</td>\n",
       "      <td>False</td>\n",
       "      <td>FOR_SALE</td>\n",
       "      <td>165000.0</td>\n",
       "      <td>True</td>\n",
       "      <td>False</td>\n",
       "      <td>False</td>\n",
       "      <td>USD</td>\n",
       "      <td>USA</td>\n",
       "      <td>25000.0</td>\n",
       "      <td>NaN</td>\n",
       "      <td>False</td>\n",
       "      <td>PRICE_REDUCTION</td>\n",
       "      <td>$34,900 (Jun 1)</td>\n",
       "      <td>1.685603e+12</td>\n",
       "      <td>$34,900 (Jun 1)</td>\n",
       "      <td>-34900.0</td>\n",
       "      <td>0.75</td>\n",
       "      <td>acres</td>\n",
       "      <td>NaN</td>\n",
       "      <td>NaN</td>\n",
       "      <td>NaN</td>\n",
       "      <td>NaN</td>\n",
       "      <td>NaN</td>\n",
       "      <td>NaN</td>\n",
       "      <td>NaN</td>\n",
       "      <td>NaN</td>\n",
       "      <td>NaN</td>\n",
       "      <td>NaN</td>\n",
       "      <td>NaN</td>\n",
       "      <td>NaN</td>\n",
       "      <td>NaN</td>\n",
       "      <td>0.75 acres</td>\n",
       "      <td>NaN</td>\n",
       "      <td>NaN</td>\n",
       "      <td>NaN</td>\n",
       "      <td>NaN</td>\n",
       "      <td>NaN</td>\n",
       "      <td>NaN</td>\n",
       "      <td>NaN</td>\n",
       "    </tr>\n",
       "    <tr>\n",
       "      <th>13</th>\n",
       "      <td>204268514</td>\n",
       "      <td>$74,900</td>\n",
       "      <td>$75K</td>\n",
       "      <td>NaN</td>\n",
       "      <td>0.0</td>\n",
       "      <td>NaN</td>\n",
       "      <td>FOR_SALE</td>\n",
       "      <td>Lot / Land for sale</td>\n",
       "      <td>False</td>\n",
       "      <td>False</td>\n",
       "      <td>False</td>\n",
       "      <td>https://photos.zillowstatic.com/fp/0b46ae1fedd...</td>\n",
       "      <td>True</td>\n",
       "      <td>False</td>\n",
       "      <td></td>\n",
       "      <td>NaN</td>\n",
       "      <td>False</td>\n",
       "      <td>/homedetails/192-Holden-Dr-Clemson-SC-29631/20...</td>\n",
       "      <td>ForSale</td>\n",
       "      <td>For Sale (Broker)</td>\n",
       "      <td>False</td>\n",
       "      <td>False</td>\n",
       "      <td>False</td>\n",
       "      <td>192 Holden Dr, Clemson, SC 29631</td>\n",
       "      <td>False</td>\n",
       "      <td>False</td>\n",
       "      <td>False</td>\n",
       "      <td>NaN</td>\n",
       "      <td>13056151973</td>\n",
       "      <td>34.678047</td>\n",
       "      <td>-82.806640</td>\n",
       "      <td>2.042685e+08</td>\n",
       "      <td>192 Holden Dr</td>\n",
       "      <td>29631</td>\n",
       "      <td>Clemson</td>\n",
       "      <td>SC</td>\n",
       "      <td>34.678047</td>\n",
       "      <td>-82.806640</td>\n",
       "      <td>74900.0</td>\n",
       "      <td>0.0</td>\n",
       "      <td>NaN</td>\n",
       "      <td>NaN</td>\n",
       "      <td>LOT</td>\n",
       "      <td>FOR_SALE</td>\n",
       "      <td>-1.0</td>\n",
       "      <td>False</td>\n",
       "      <td>False</td>\n",
       "      <td>NaN</td>\n",
       "      <td>1270.0</td>\n",
       "      <td>True</td>\n",
       "      <td>False</td>\n",
       "      <td>False</td>\n",
       "      <td>FOR_SALE</td>\n",
       "      <td>74900.0</td>\n",
       "      <td>True</td>\n",
       "      <td>False</td>\n",
       "      <td>False</td>\n",
       "      <td>USD</td>\n",
       "      <td>USA</td>\n",
       "      <td>32000.0</td>\n",
       "      <td>NaN</td>\n",
       "      <td>False</td>\n",
       "      <td>NaN</td>\n",
       "      <td>NaN</td>\n",
       "      <td>NaN</td>\n",
       "      <td>NaN</td>\n",
       "      <td>NaN</td>\n",
       "      <td>0.58</td>\n",
       "      <td>acres</td>\n",
       "      <td>NaN</td>\n",
       "      <td>NaN</td>\n",
       "      <td>NaN</td>\n",
       "      <td>NaN</td>\n",
       "      <td>NaN</td>\n",
       "      <td>NaN</td>\n",
       "      <td>NaN</td>\n",
       "      <td>NaN</td>\n",
       "      <td>NaN</td>\n",
       "      <td>NaN</td>\n",
       "      <td>NaN</td>\n",
       "      <td>NaN</td>\n",
       "      <td>NaN</td>\n",
       "      <td>0.58 acres</td>\n",
       "      <td>NaN</td>\n",
       "      <td>NaN</td>\n",
       "      <td>NaN</td>\n",
       "      <td>NaN</td>\n",
       "      <td>NaN</td>\n",
       "      <td>NaN</td>\n",
       "      <td>NaN</td>\n",
       "    </tr>\n",
       "    <tr>\n",
       "      <th>14</th>\n",
       "      <td>NaN</td>\n",
       "      <td>From $279,900</td>\n",
       "      <td>NaN</td>\n",
       "      <td>NaN</td>\n",
       "      <td>NaN</td>\n",
       "      <td>NaN</td>\n",
       "      <td>FOR_SALE</td>\n",
       "      <td>For Rent</td>\n",
       "      <td>False</td>\n",
       "      <td>NaN</td>\n",
       "      <td>NaN</td>\n",
       "      <td>https://photos.zillowstatic.com/fp/1a9cae3fccf...</td>\n",
       "      <td>True</td>\n",
       "      <td>NaN</td>\n",
       "      <td>NEW_CONSTRUCTION</td>\n",
       "      <td>NaN</td>\n",
       "      <td>NaN</td>\n",
       "      <td>/community/bamboo-court/29730863_plid/</td>\n",
       "      <td>NaN</td>\n",
       "      <td>NaN</td>\n",
       "      <td>False</td>\n",
       "      <td>NaN</td>\n",
       "      <td>False</td>\n",
       "      <td>235 Pendleton Rd, Clemson, SC</td>\n",
       "      <td>False</td>\n",
       "      <td>False</td>\n",
       "      <td>False</td>\n",
       "      <td>NaN</td>\n",
       "      <td>353264973</td>\n",
       "      <td>34.671500</td>\n",
       "      <td>-82.808525</td>\n",
       "      <td>NaN</td>\n",
       "      <td>NaN</td>\n",
       "      <td>NaN</td>\n",
       "      <td>NaN</td>\n",
       "      <td>NaN</td>\n",
       "      <td>NaN</td>\n",
       "      <td>NaN</td>\n",
       "      <td>NaN</td>\n",
       "      <td>NaN</td>\n",
       "      <td>NaN</td>\n",
       "      <td>NaN</td>\n",
       "      <td>NaN</td>\n",
       "      <td>NaN</td>\n",
       "      <td>NaN</td>\n",
       "      <td>NaN</td>\n",
       "      <td>NaN</td>\n",
       "      <td>NaN</td>\n",
       "      <td>NaN</td>\n",
       "      <td>NaN</td>\n",
       "      <td>NaN</td>\n",
       "      <td>NaN</td>\n",
       "      <td>NaN</td>\n",
       "      <td>NaN</td>\n",
       "      <td>NaN</td>\n",
       "      <td>NaN</td>\n",
       "      <td>NaN</td>\n",
       "      <td>NaN</td>\n",
       "      <td>NaN</td>\n",
       "      <td>NaN</td>\n",
       "      <td>NaN</td>\n",
       "      <td>NaN</td>\n",
       "      <td>NaN</td>\n",
       "      <td>NaN</td>\n",
       "      <td>NaN</td>\n",
       "      <td>NaN</td>\n",
       "      <td>NaN</td>\n",
       "      <td>NaN</td>\n",
       "      <td>NaN</td>\n",
       "      <td>34.6715--82.808525</td>\n",
       "      <td>NaN</td>\n",
       "      <td>3.0</td>\n",
       "      <td>3.0</td>\n",
       "      <td>1226.0</td>\n",
       "      <td>4.0</td>\n",
       "      <td>True</td>\n",
       "      <td>NaN</td>\n",
       "      <td>False</td>\n",
       "      <td>NaN</td>\n",
       "      <td>NaN</td>\n",
       "      <td>NaN</td>\n",
       "      <td>NaN</td>\n",
       "      <td>NaN</td>\n",
       "      <td>29730863</td>\n",
       "      <td>Bamboo Court</td>\n",
       "      <td>NaN</td>\n",
       "      <td>True</td>\n",
       "      <td>NaN</td>\n",
       "      <td>NaN</td>\n",
       "      <td>NaN</td>\n",
       "    </tr>\n",
       "    <tr>\n",
       "      <th>15</th>\n",
       "      <td>2059075802</td>\n",
       "      <td>$399,000</td>\n",
       "      <td>$399K</td>\n",
       "      <td>NaN</td>\n",
       "      <td>0.0</td>\n",
       "      <td>NaN</td>\n",
       "      <td>FOR_SALE</td>\n",
       "      <td>Lot / Land for sale</td>\n",
       "      <td>False</td>\n",
       "      <td>False</td>\n",
       "      <td>False</td>\n",
       "      <td>https://photos.zillowstatic.com/fp/6f17d60555f...</td>\n",
       "      <td>True</td>\n",
       "      <td>False</td>\n",
       "      <td></td>\n",
       "      <td>NaN</td>\n",
       "      <td>False</td>\n",
       "      <td>/homedetails/0-Anderson-Hwy-Clemson-SC-29631/2...</td>\n",
       "      <td>ForSale</td>\n",
       "      <td>For Sale (Broker)</td>\n",
       "      <td>False</td>\n",
       "      <td>False</td>\n",
       "      <td>False</td>\n",
       "      <td>0 Anderson Hwy, Clemson, SC 29631</td>\n",
       "      <td>False</td>\n",
       "      <td>False</td>\n",
       "      <td>False</td>\n",
       "      <td>NaN</td>\n",
       "      <td>10213242303</td>\n",
       "      <td>34.688286</td>\n",
       "      <td>-82.825950</td>\n",
       "      <td>2.059076e+09</td>\n",
       "      <td>0 Anderson Hwy</td>\n",
       "      <td>29631</td>\n",
       "      <td>Clemson</td>\n",
       "      <td>SC</td>\n",
       "      <td>34.688286</td>\n",
       "      <td>-82.825950</td>\n",
       "      <td>399000.0</td>\n",
       "      <td>0.0</td>\n",
       "      <td>NaN</td>\n",
       "      <td>NaN</td>\n",
       "      <td>LOT</td>\n",
       "      <td>FOR_SALE</td>\n",
       "      <td>-1.0</td>\n",
       "      <td>False</td>\n",
       "      <td>False</td>\n",
       "      <td>NaN</td>\n",
       "      <td>955.0</td>\n",
       "      <td>True</td>\n",
       "      <td>False</td>\n",
       "      <td>False</td>\n",
       "      <td>FOR_SALE</td>\n",
       "      <td>399000.0</td>\n",
       "      <td>True</td>\n",
       "      <td>False</td>\n",
       "      <td>False</td>\n",
       "      <td>USD</td>\n",
       "      <td>USA</td>\n",
       "      <td>NaN</td>\n",
       "      <td>NaN</td>\n",
       "      <td>False</td>\n",
       "      <td>NaN</td>\n",
       "      <td>NaN</td>\n",
       "      <td>NaN</td>\n",
       "      <td>NaN</td>\n",
       "      <td>NaN</td>\n",
       "      <td>2.58</td>\n",
       "      <td>acres</td>\n",
       "      <td>NaN</td>\n",
       "      <td>NaN</td>\n",
       "      <td>NaN</td>\n",
       "      <td>NaN</td>\n",
       "      <td>NaN</td>\n",
       "      <td>NaN</td>\n",
       "      <td>NaN</td>\n",
       "      <td>NaN</td>\n",
       "      <td>NaN</td>\n",
       "      <td>NaN</td>\n",
       "      <td>NaN</td>\n",
       "      <td>NaN</td>\n",
       "      <td>NaN</td>\n",
       "      <td>2.58 acres</td>\n",
       "      <td>NaN</td>\n",
       "      <td>NaN</td>\n",
       "      <td>NaN</td>\n",
       "      <td>NaN</td>\n",
       "      <td>NaN</td>\n",
       "      <td>NaN</td>\n",
       "      <td>NaN</td>\n",
       "    </tr>\n",
       "    <tr>\n",
       "      <th>16</th>\n",
       "      <td>242984038</td>\n",
       "      <td>$459,900</td>\n",
       "      <td>$460K</td>\n",
       "      <td>2.0</td>\n",
       "      <td>3.0</td>\n",
       "      <td>1500.0</td>\n",
       "      <td>FOR_SALE</td>\n",
       "      <td>Townhouse for sale</td>\n",
       "      <td>False</td>\n",
       "      <td>False</td>\n",
       "      <td>False</td>\n",
       "      <td>https://photos.zillowstatic.com/fp/39d0ec88778...</td>\n",
       "      <td>True</td>\n",
       "      <td>False</td>\n",
       "      <td></td>\n",
       "      <td>NaN</td>\n",
       "      <td>False</td>\n",
       "      <td>/homedetails/251-Thomas-Green-Blvd-Clemson-SC-...</td>\n",
       "      <td>ForSale</td>\n",
       "      <td>For Sale (Broker)</td>\n",
       "      <td>False</td>\n",
       "      <td>False</td>\n",
       "      <td>False</td>\n",
       "      <td>251 Thomas Green Blvd, Clemson, SC 29631</td>\n",
       "      <td>False</td>\n",
       "      <td>False</td>\n",
       "      <td>False</td>\n",
       "      <td>NaN</td>\n",
       "      <td>16694555973</td>\n",
       "      <td>34.683136</td>\n",
       "      <td>-82.784256</td>\n",
       "      <td>2.429840e+08</td>\n",
       "      <td>251 Thomas Green Blvd</td>\n",
       "      <td>29631</td>\n",
       "      <td>Clemson</td>\n",
       "      <td>SC</td>\n",
       "      <td>34.683136</td>\n",
       "      <td>-82.784256</td>\n",
       "      <td>459900.0</td>\n",
       "      <td>3.0</td>\n",
       "      <td>2.0</td>\n",
       "      <td>1500.0</td>\n",
       "      <td>TOWNHOUSE</td>\n",
       "      <td>FOR_SALE</td>\n",
       "      <td>-1.0</td>\n",
       "      <td>False</td>\n",
       "      <td>False</td>\n",
       "      <td>452360.0</td>\n",
       "      <td>1747.0</td>\n",
       "      <td>True</td>\n",
       "      <td>False</td>\n",
       "      <td>False</td>\n",
       "      <td>FOR_SALE</td>\n",
       "      <td>459900.0</td>\n",
       "      <td>True</td>\n",
       "      <td>False</td>\n",
       "      <td>False</td>\n",
       "      <td>USD</td>\n",
       "      <td>USA</td>\n",
       "      <td>275000.0</td>\n",
       "      <td>NaN</td>\n",
       "      <td>False</td>\n",
       "      <td>NaN</td>\n",
       "      <td>NaN</td>\n",
       "      <td>1.673683e+12</td>\n",
       "      <td></td>\n",
       "      <td>-5100.0</td>\n",
       "      <td>2178.00</td>\n",
       "      <td>sqft</td>\n",
       "      <td>NaN</td>\n",
       "      <td>NaN</td>\n",
       "      <td>NaN</td>\n",
       "      <td>NaN</td>\n",
       "      <td>NaN</td>\n",
       "      <td>NaN</td>\n",
       "      <td>NaN</td>\n",
       "      <td>NaN</td>\n",
       "      <td>NaN</td>\n",
       "      <td>NaN</td>\n",
       "      <td>NaN</td>\n",
       "      <td>NaN</td>\n",
       "      <td>NaN</td>\n",
       "      <td>NaN</td>\n",
       "      <td>NaN</td>\n",
       "      <td>NaN</td>\n",
       "      <td>NaN</td>\n",
       "      <td>NaN</td>\n",
       "      <td>NaN</td>\n",
       "      <td>NaN</td>\n",
       "      <td>NaN</td>\n",
       "    </tr>\n",
       "    <tr>\n",
       "      <th>17</th>\n",
       "      <td>NaN</td>\n",
       "      <td>From $331,990</td>\n",
       "      <td>NaN</td>\n",
       "      <td>NaN</td>\n",
       "      <td>NaN</td>\n",
       "      <td>NaN</td>\n",
       "      <td>FOR_SALE</td>\n",
       "      <td>For Rent</td>\n",
       "      <td>False</td>\n",
       "      <td>NaN</td>\n",
       "      <td>NaN</td>\n",
       "      <td>https://photos.zillowstatic.com/fp/d80e39b1b6c...</td>\n",
       "      <td>True</td>\n",
       "      <td>NaN</td>\n",
       "      <td>NEW_CONSTRUCTION</td>\n",
       "      <td>NaN</td>\n",
       "      <td>NaN</td>\n",
       "      <td>/community/grange/29759345_plid/</td>\n",
       "      <td>NaN</td>\n",
       "      <td>NaN</td>\n",
       "      <td>False</td>\n",
       "      <td>NaN</td>\n",
       "      <td>False</td>\n",
       "      <td>210 Founders Blvd, Clemson, SC</td>\n",
       "      <td>False</td>\n",
       "      <td>False</td>\n",
       "      <td>False</td>\n",
       "      <td>NaN</td>\n",
       "      <td>2211704973</td>\n",
       "      <td>34.691334</td>\n",
       "      <td>-82.775604</td>\n",
       "      <td>NaN</td>\n",
       "      <td>NaN</td>\n",
       "      <td>NaN</td>\n",
       "      <td>NaN</td>\n",
       "      <td>NaN</td>\n",
       "      <td>NaN</td>\n",
       "      <td>NaN</td>\n",
       "      <td>NaN</td>\n",
       "      <td>NaN</td>\n",
       "      <td>NaN</td>\n",
       "      <td>NaN</td>\n",
       "      <td>NaN</td>\n",
       "      <td>NaN</td>\n",
       "      <td>NaN</td>\n",
       "      <td>NaN</td>\n",
       "      <td>NaN</td>\n",
       "      <td>NaN</td>\n",
       "      <td>NaN</td>\n",
       "      <td>NaN</td>\n",
       "      <td>NaN</td>\n",
       "      <td>NaN</td>\n",
       "      <td>NaN</td>\n",
       "      <td>NaN</td>\n",
       "      <td>NaN</td>\n",
       "      <td>NaN</td>\n",
       "      <td>NaN</td>\n",
       "      <td>NaN</td>\n",
       "      <td>NaN</td>\n",
       "      <td>NaN</td>\n",
       "      <td>NaN</td>\n",
       "      <td>NaN</td>\n",
       "      <td>NaN</td>\n",
       "      <td>NaN</td>\n",
       "      <td>NaN</td>\n",
       "      <td>NaN</td>\n",
       "      <td>NaN</td>\n",
       "      <td>NaN</td>\n",
       "      <td>NaN</td>\n",
       "      <td>34.691334--82.775604</td>\n",
       "      <td>NaN</td>\n",
       "      <td>3.0</td>\n",
       "      <td>2.0</td>\n",
       "      <td>1741.0</td>\n",
       "      <td>43.0</td>\n",
       "      <td>True</td>\n",
       "      <td>NaN</td>\n",
       "      <td>False</td>\n",
       "      <td>NaN</td>\n",
       "      <td>NaN</td>\n",
       "      <td>NaN</td>\n",
       "      <td>NaN</td>\n",
       "      <td>NaN</td>\n",
       "      <td>29759345</td>\n",
       "      <td>The Grange</td>\n",
       "      <td>NaN</td>\n",
       "      <td>True</td>\n",
       "      <td>NaN</td>\n",
       "      <td>NaN</td>\n",
       "      <td>NaN</td>\n",
       "    </tr>\n",
       "    <tr>\n",
       "      <th>18</th>\n",
       "      <td>242983196</td>\n",
       "      <td>$429,900</td>\n",
       "      <td>$430K</td>\n",
       "      <td>2.0</td>\n",
       "      <td>3.0</td>\n",
       "      <td>1450.0</td>\n",
       "      <td>FOR_SALE</td>\n",
       "      <td>Townhouse for sale</td>\n",
       "      <td>False</td>\n",
       "      <td>False</td>\n",
       "      <td>False</td>\n",
       "      <td>https://photos.zillowstatic.com/fp/0ac3774c048...</td>\n",
       "      <td>True</td>\n",
       "      <td>False</td>\n",
       "      <td></td>\n",
       "      <td>NaN</td>\n",
       "      <td>False</td>\n",
       "      <td>/homedetails/254-Thomas-Green-Blvd-Clemson-SC-...</td>\n",
       "      <td>ForSale</td>\n",
       "      <td>For Sale (Broker)</td>\n",
       "      <td>False</td>\n",
       "      <td>False</td>\n",
       "      <td>False</td>\n",
       "      <td>254 Thomas Green Blvd, Clemson, SC 29631</td>\n",
       "      <td>False</td>\n",
       "      <td>False</td>\n",
       "      <td>False</td>\n",
       "      <td>NaN</td>\n",
       "      <td>12284316692</td>\n",
       "      <td>34.683475</td>\n",
       "      <td>-82.783490</td>\n",
       "      <td>2.429832e+08</td>\n",
       "      <td>254 Thomas Green Blvd</td>\n",
       "      <td>29631</td>\n",
       "      <td>Clemson</td>\n",
       "      <td>SC</td>\n",
       "      <td>34.683475</td>\n",
       "      <td>-82.783490</td>\n",
       "      <td>429900.0</td>\n",
       "      <td>3.0</td>\n",
       "      <td>2.0</td>\n",
       "      <td>1450.0</td>\n",
       "      <td>TOWNHOUSE</td>\n",
       "      <td>FOR_SALE</td>\n",
       "      <td>-1.0</td>\n",
       "      <td>False</td>\n",
       "      <td>False</td>\n",
       "      <td>424043.0</td>\n",
       "      <td>1650.0</td>\n",
       "      <td>True</td>\n",
       "      <td>False</td>\n",
       "      <td>False</td>\n",
       "      <td>FOR_SALE</td>\n",
       "      <td>429900.0</td>\n",
       "      <td>True</td>\n",
       "      <td>False</td>\n",
       "      <td>False</td>\n",
       "      <td>USD</td>\n",
       "      <td>USA</td>\n",
       "      <td>253300.0</td>\n",
       "      <td>NaN</td>\n",
       "      <td>False</td>\n",
       "      <td>NaN</td>\n",
       "      <td>NaN</td>\n",
       "      <td>NaN</td>\n",
       "      <td>NaN</td>\n",
       "      <td>NaN</td>\n",
       "      <td>NaN</td>\n",
       "      <td>NaN</td>\n",
       "      <td>NaN</td>\n",
       "      <td>NaN</td>\n",
       "      <td>NaN</td>\n",
       "      <td>NaN</td>\n",
       "      <td>NaN</td>\n",
       "      <td>NaN</td>\n",
       "      <td>NaN</td>\n",
       "      <td>NaN</td>\n",
       "      <td>NaN</td>\n",
       "      <td>NaN</td>\n",
       "      <td>NaN</td>\n",
       "      <td>NaN</td>\n",
       "      <td>NaN</td>\n",
       "      <td>NaN</td>\n",
       "      <td>NaN</td>\n",
       "      <td>NaN</td>\n",
       "      <td>NaN</td>\n",
       "      <td>NaN</td>\n",
       "      <td>NaN</td>\n",
       "      <td>NaN</td>\n",
       "      <td>NaN</td>\n",
       "    </tr>\n",
       "    <tr>\n",
       "      <th>19</th>\n",
       "      <td>2058539948</td>\n",
       "      <td>$369,990</td>\n",
       "      <td>$370K</td>\n",
       "      <td>3.0</td>\n",
       "      <td>3.0</td>\n",
       "      <td>NaN</td>\n",
       "      <td>FOR_SALE</td>\n",
       "      <td>New construction</td>\n",
       "      <td>False</td>\n",
       "      <td>False</td>\n",
       "      <td>False</td>\n",
       "      <td>https://photos.zillowstatic.com/fp/cae3795439d...</td>\n",
       "      <td>True</td>\n",
       "      <td>False</td>\n",
       "      <td>NEW_CONSTRUCTION</td>\n",
       "      <td>NaN</td>\n",
       "      <td>False</td>\n",
       "      <td>/homedetails/212-Grange-Valley-Ln-Central-SC-2...</td>\n",
       "      <td>ForSale</td>\n",
       "      <td>New Construction</td>\n",
       "      <td>False</td>\n",
       "      <td>False</td>\n",
       "      <td>False</td>\n",
       "      <td>212 Grange Valley Ln, Central, SC 29630</td>\n",
       "      <td>False</td>\n",
       "      <td>False</td>\n",
       "      <td>False</td>\n",
       "      <td>NaN</td>\n",
       "      <td>8482390117</td>\n",
       "      <td>34.690990</td>\n",
       "      <td>-82.776380</td>\n",
       "      <td>2.058540e+09</td>\n",
       "      <td>212 Grange Valley Ln</td>\n",
       "      <td>29630</td>\n",
       "      <td>Central</td>\n",
       "      <td>SC</td>\n",
       "      <td>34.690990</td>\n",
       "      <td>-82.776380</td>\n",
       "      <td>369990.0</td>\n",
       "      <td>3.0</td>\n",
       "      <td>3.0</td>\n",
       "      <td>NaN</td>\n",
       "      <td>TOWNHOUSE</td>\n",
       "      <td>FOR_SALE</td>\n",
       "      <td>-1.0</td>\n",
       "      <td>False</td>\n",
       "      <td>False</td>\n",
       "      <td>368500.0</td>\n",
       "      <td>1948.0</td>\n",
       "      <td>NaN</td>\n",
       "      <td>False</td>\n",
       "      <td>False</td>\n",
       "      <td>FOR_SALE</td>\n",
       "      <td>369990.0</td>\n",
       "      <td>True</td>\n",
       "      <td>True</td>\n",
       "      <td>False</td>\n",
       "      <td>USD</td>\n",
       "      <td>USA</td>\n",
       "      <td>NaN</td>\n",
       "      <td>NaN</td>\n",
       "      <td>False</td>\n",
       "      <td>OPEN_HOUSE</td>\n",
       "      <td>Open: Daily: Sun 1 - 6p...</td>\n",
       "      <td>1.685689e+12</td>\n",
       "      <td>NaN</td>\n",
       "      <td>5000.0</td>\n",
       "      <td>3000.00</td>\n",
       "      <td>sqft</td>\n",
       "      <td>NaN</td>\n",
       "      <td>NaN</td>\n",
       "      <td>NaN</td>\n",
       "      <td>NaN</td>\n",
       "      <td>NaN</td>\n",
       "      <td>NaN</td>\n",
       "      <td>NaN</td>\n",
       "      <td>NaN</td>\n",
       "      <td>NaN</td>\n",
       "      <td>NaN</td>\n",
       "      <td>True</td>\n",
       "      <td>Sat. 11am-4pm</td>\n",
       "      <td>[{'open_house_start': 1687629600000, 'open_hou...</td>\n",
       "      <td>NaN</td>\n",
       "      <td>NaN</td>\n",
       "      <td>The Grange</td>\n",
       "      <td>NaN</td>\n",
       "      <td>NaN</td>\n",
       "      <td>True</td>\n",
       "      <td>29759345</td>\n",
       "      <td>BUILDER_SPEC</td>\n",
       "    </tr>\n",
       "    <tr>\n",
       "      <th>20</th>\n",
       "      <td>2069799191</td>\n",
       "      <td>$330,000</td>\n",
       "      <td>$330K</td>\n",
       "      <td>NaN</td>\n",
       "      <td>0.0</td>\n",
       "      <td>NaN</td>\n",
       "      <td>FOR_SALE</td>\n",
       "      <td>Lot / Land for sale</td>\n",
       "      <td>False</td>\n",
       "      <td>False</td>\n",
       "      <td>False</td>\n",
       "      <td>https://photos.zillowstatic.com/fp/50c25f51835...</td>\n",
       "      <td>True</td>\n",
       "      <td>False</td>\n",
       "      <td></td>\n",
       "      <td>NaN</td>\n",
       "      <td>False</td>\n",
       "      <td>/homedetails/0-Old-Jewell-Bridge-Rd-Clemson-SC...</td>\n",
       "      <td>ForSale</td>\n",
       "      <td>For Sale (Broker)</td>\n",
       "      <td>False</td>\n",
       "      <td>False</td>\n",
       "      <td>False</td>\n",
       "      <td>0 Old Jewell Bridge Rd, Clemson, SC 29631</td>\n",
       "      <td>False</td>\n",
       "      <td>False</td>\n",
       "      <td>False</td>\n",
       "      <td>NaN</td>\n",
       "      <td>62151071854</td>\n",
       "      <td>34.706900</td>\n",
       "      <td>-82.826900</td>\n",
       "      <td>2.069799e+09</td>\n",
       "      <td>0 Old Jewell Bridge Rd</td>\n",
       "      <td>29631</td>\n",
       "      <td>Clemson</td>\n",
       "      <td>SC</td>\n",
       "      <td>34.706900</td>\n",
       "      <td>-82.826900</td>\n",
       "      <td>330000.0</td>\n",
       "      <td>0.0</td>\n",
       "      <td>NaN</td>\n",
       "      <td>NaN</td>\n",
       "      <td>LOT</td>\n",
       "      <td>FOR_SALE</td>\n",
       "      <td>-1.0</td>\n",
       "      <td>False</td>\n",
       "      <td>False</td>\n",
       "      <td>NaN</td>\n",
       "      <td>920.0</td>\n",
       "      <td>True</td>\n",
       "      <td>False</td>\n",
       "      <td>False</td>\n",
       "      <td>FOR_SALE</td>\n",
       "      <td>330000.0</td>\n",
       "      <td>True</td>\n",
       "      <td>False</td>\n",
       "      <td>False</td>\n",
       "      <td>USD</td>\n",
       "      <td>USA</td>\n",
       "      <td>NaN</td>\n",
       "      <td>NaN</td>\n",
       "      <td>False</td>\n",
       "      <td>NaN</td>\n",
       "      <td>NaN</td>\n",
       "      <td>NaN</td>\n",
       "      <td>NaN</td>\n",
       "      <td>NaN</td>\n",
       "      <td>3.11</td>\n",
       "      <td>acres</td>\n",
       "      <td>NaN</td>\n",
       "      <td>NaN</td>\n",
       "      <td>NaN</td>\n",
       "      <td>NaN</td>\n",
       "      <td>NaN</td>\n",
       "      <td>NaN</td>\n",
       "      <td>NaN</td>\n",
       "      <td>NaN</td>\n",
       "      <td>NaN</td>\n",
       "      <td>NaN</td>\n",
       "      <td>NaN</td>\n",
       "      <td>NaN</td>\n",
       "      <td>NaN</td>\n",
       "      <td>3.11 acres</td>\n",
       "      <td>NaN</td>\n",
       "      <td>NaN</td>\n",
       "      <td>NaN</td>\n",
       "      <td>NaN</td>\n",
       "      <td>NaN</td>\n",
       "      <td>NaN</td>\n",
       "      <td>NaN</td>\n",
       "    </tr>\n",
       "    <tr>\n",
       "      <th>21</th>\n",
       "      <td>204268673</td>\n",
       "      <td>$440,000</td>\n",
       "      <td>$440K</td>\n",
       "      <td>NaN</td>\n",
       "      <td>0.0</td>\n",
       "      <td>NaN</td>\n",
       "      <td>FOR_SALE</td>\n",
       "      <td>Lot / Land for sale</td>\n",
       "      <td>False</td>\n",
       "      <td>False</td>\n",
       "      <td>False</td>\n",
       "      <td>https://photos.zillowstatic.com/fp/1468e9baaae...</td>\n",
       "      <td>True</td>\n",
       "      <td>False</td>\n",
       "      <td></td>\n",
       "      <td>NaN</td>\n",
       "      <td>False</td>\n",
       "      <td>/homedetails/100-Clear-Spring-Ct-Clemson-SC-29...</td>\n",
       "      <td>ForSale</td>\n",
       "      <td>For Sale (Broker)</td>\n",
       "      <td>False</td>\n",
       "      <td>False</td>\n",
       "      <td>False</td>\n",
       "      <td>100 Clear Spring Ct, Clemson, SC 29631</td>\n",
       "      <td>False</td>\n",
       "      <td>False</td>\n",
       "      <td>False</td>\n",
       "      <td>NaN</td>\n",
       "      <td>33971217383</td>\n",
       "      <td>34.673733</td>\n",
       "      <td>-82.799050</td>\n",
       "      <td>2.042687e+08</td>\n",
       "      <td>100 Clear Spring Ct</td>\n",
       "      <td>29631</td>\n",
       "      <td>Clemson</td>\n",
       "      <td>SC</td>\n",
       "      <td>34.673733</td>\n",
       "      <td>-82.799050</td>\n",
       "      <td>440000.0</td>\n",
       "      <td>0.0</td>\n",
       "      <td>NaN</td>\n",
       "      <td>NaN</td>\n",
       "      <td>LOT</td>\n",
       "      <td>FOR_SALE</td>\n",
       "      <td>-1.0</td>\n",
       "      <td>False</td>\n",
       "      <td>False</td>\n",
       "      <td>NaN</td>\n",
       "      <td>1285.0</td>\n",
       "      <td>True</td>\n",
       "      <td>False</td>\n",
       "      <td>False</td>\n",
       "      <td>FOR_SALE</td>\n",
       "      <td>440000.0</td>\n",
       "      <td>True</td>\n",
       "      <td>False</td>\n",
       "      <td>False</td>\n",
       "      <td>USD</td>\n",
       "      <td>USA</td>\n",
       "      <td>28000.0</td>\n",
       "      <td>NaN</td>\n",
       "      <td>False</td>\n",
       "      <td>NaN</td>\n",
       "      <td>NaN</td>\n",
       "      <td>NaN</td>\n",
       "      <td>NaN</td>\n",
       "      <td>NaN</td>\n",
       "      <td>3.60</td>\n",
       "      <td>acres</td>\n",
       "      <td>NaN</td>\n",
       "      <td>NaN</td>\n",
       "      <td>NaN</td>\n",
       "      <td>NaN</td>\n",
       "      <td>NaN</td>\n",
       "      <td>NaN</td>\n",
       "      <td>NaN</td>\n",
       "      <td>NaN</td>\n",
       "      <td>NaN</td>\n",
       "      <td>NaN</td>\n",
       "      <td>NaN</td>\n",
       "      <td>NaN</td>\n",
       "      <td>NaN</td>\n",
       "      <td>3.6 acres</td>\n",
       "      <td>NaN</td>\n",
       "      <td>NaN</td>\n",
       "      <td>NaN</td>\n",
       "      <td>NaN</td>\n",
       "      <td>NaN</td>\n",
       "      <td>NaN</td>\n",
       "      <td>NaN</td>\n",
       "    </tr>\n",
       "    <tr>\n",
       "      <th>22</th>\n",
       "      <td>2057158972</td>\n",
       "      <td>$446,990</td>\n",
       "      <td>$447K</td>\n",
       "      <td>3.0</td>\n",
       "      <td>3.0</td>\n",
       "      <td>NaN</td>\n",
       "      <td>FOR_SALE</td>\n",
       "      <td>New construction</td>\n",
       "      <td>False</td>\n",
       "      <td>False</td>\n",
       "      <td>False</td>\n",
       "      <td>https://photos.zillowstatic.com/fp/798aaa6ba8f...</td>\n",
       "      <td>True</td>\n",
       "      <td>False</td>\n",
       "      <td>NEW_CONSTRUCTION</td>\n",
       "      <td>NaN</td>\n",
       "      <td>False</td>\n",
       "      <td>/homedetails/104-Grange-Valley-Ln-Central-SC-2...</td>\n",
       "      <td>ForSale</td>\n",
       "      <td>New Construction</td>\n",
       "      <td>False</td>\n",
       "      <td>False</td>\n",
       "      <td>False</td>\n",
       "      <td>104 Grange Valley Ln, Central, SC 29630</td>\n",
       "      <td>False</td>\n",
       "      <td>False</td>\n",
       "      <td>False</td>\n",
       "      <td>NaN</td>\n",
       "      <td>627462973</td>\n",
       "      <td>34.690174</td>\n",
       "      <td>-82.774090</td>\n",
       "      <td>2.057159e+09</td>\n",
       "      <td>104 Grange Valley Ln</td>\n",
       "      <td>29630</td>\n",
       "      <td>Central</td>\n",
       "      <td>SC</td>\n",
       "      <td>34.690174</td>\n",
       "      <td>-82.774090</td>\n",
       "      <td>446990.0</td>\n",
       "      <td>3.0</td>\n",
       "      <td>3.0</td>\n",
       "      <td>NaN</td>\n",
       "      <td>SINGLE_FAMILY</td>\n",
       "      <td>FOR_SALE</td>\n",
       "      <td>-1.0</td>\n",
       "      <td>False</td>\n",
       "      <td>False</td>\n",
       "      <td>NaN</td>\n",
       "      <td>NaN</td>\n",
       "      <td>NaN</td>\n",
       "      <td>False</td>\n",
       "      <td>False</td>\n",
       "      <td>FOR_SALE</td>\n",
       "      <td>446990.0</td>\n",
       "      <td>True</td>\n",
       "      <td>True</td>\n",
       "      <td>False</td>\n",
       "      <td>USD</td>\n",
       "      <td>USA</td>\n",
       "      <td>NaN</td>\n",
       "      <td>NaN</td>\n",
       "      <td>False</td>\n",
       "      <td>OPEN_HOUSE</td>\n",
       "      <td>Open: Daily: Sun 1 - 6p...</td>\n",
       "      <td>NaN</td>\n",
       "      <td>NaN</td>\n",
       "      <td>NaN</td>\n",
       "      <td>8712.00</td>\n",
       "      <td>sqft</td>\n",
       "      <td>NaN</td>\n",
       "      <td>NaN</td>\n",
       "      <td>NaN</td>\n",
       "      <td>NaN</td>\n",
       "      <td>NaN</td>\n",
       "      <td>NaN</td>\n",
       "      <td>NaN</td>\n",
       "      <td>NaN</td>\n",
       "      <td>NaN</td>\n",
       "      <td>NaN</td>\n",
       "      <td>NaN</td>\n",
       "      <td>NaN</td>\n",
       "      <td>NaN</td>\n",
       "      <td>NaN</td>\n",
       "      <td>NaN</td>\n",
       "      <td>The Grange</td>\n",
       "      <td>NaN</td>\n",
       "      <td>NaN</td>\n",
       "      <td>True</td>\n",
       "      <td>29759345</td>\n",
       "      <td>BUILDER_SPEC</td>\n",
       "    </tr>\n",
       "    <tr>\n",
       "      <th>23</th>\n",
       "      <td>2058194771</td>\n",
       "      <td>$369,990</td>\n",
       "      <td>$370K</td>\n",
       "      <td>3.0</td>\n",
       "      <td>3.0</td>\n",
       "      <td>NaN</td>\n",
       "      <td>FOR_SALE</td>\n",
       "      <td>New construction</td>\n",
       "      <td>False</td>\n",
       "      <td>False</td>\n",
       "      <td>False</td>\n",
       "      <td>https://photos.zillowstatic.com/fp/cae3795439d...</td>\n",
       "      <td>True</td>\n",
       "      <td>False</td>\n",
       "      <td>NEW_CONSTRUCTION</td>\n",
       "      <td>NaN</td>\n",
       "      <td>False</td>\n",
       "      <td>/homedetails/225-Grange-Valley-Ln-Central-SC-2...</td>\n",
       "      <td>ForSale</td>\n",
       "      <td>New Construction</td>\n",
       "      <td>False</td>\n",
       "      <td>False</td>\n",
       "      <td>False</td>\n",
       "      <td>225 Grange Valley Ln, Central, SC 29630</td>\n",
       "      <td>False</td>\n",
       "      <td>False</td>\n",
       "      <td>False</td>\n",
       "      <td>NaN</td>\n",
       "      <td>6670233216</td>\n",
       "      <td>34.690598</td>\n",
       "      <td>-82.774210</td>\n",
       "      <td>2.058195e+09</td>\n",
       "      <td>225 Grange Valley Ln</td>\n",
       "      <td>29630</td>\n",
       "      <td>Central</td>\n",
       "      <td>SC</td>\n",
       "      <td>34.690598</td>\n",
       "      <td>-82.774210</td>\n",
       "      <td>369990.0</td>\n",
       "      <td>3.0</td>\n",
       "      <td>3.0</td>\n",
       "      <td>NaN</td>\n",
       "      <td>TOWNHOUSE</td>\n",
       "      <td>FOR_SALE</td>\n",
       "      <td>-1.0</td>\n",
       "      <td>False</td>\n",
       "      <td>False</td>\n",
       "      <td>369700.0</td>\n",
       "      <td>1973.0</td>\n",
       "      <td>NaN</td>\n",
       "      <td>False</td>\n",
       "      <td>False</td>\n",
       "      <td>FOR_SALE</td>\n",
       "      <td>369990.0</td>\n",
       "      <td>True</td>\n",
       "      <td>True</td>\n",
       "      <td>False</td>\n",
       "      <td>USD</td>\n",
       "      <td>USA</td>\n",
       "      <td>NaN</td>\n",
       "      <td>NaN</td>\n",
       "      <td>False</td>\n",
       "      <td>OPEN_HOUSE</td>\n",
       "      <td>Open: Daily: Sun 1 - 6p...</td>\n",
       "      <td>1.683529e+12</td>\n",
       "      <td>NaN</td>\n",
       "      <td>2000.0</td>\n",
       "      <td>3000.00</td>\n",
       "      <td>sqft</td>\n",
       "      <td>NaN</td>\n",
       "      <td>NaN</td>\n",
       "      <td>NaN</td>\n",
       "      <td>NaN</td>\n",
       "      <td>NaN</td>\n",
       "      <td>NaN</td>\n",
       "      <td>NaN</td>\n",
       "      <td>NaN</td>\n",
       "      <td>NaN</td>\n",
       "      <td>NaN</td>\n",
       "      <td>NaN</td>\n",
       "      <td>NaN</td>\n",
       "      <td>NaN</td>\n",
       "      <td>NaN</td>\n",
       "      <td>NaN</td>\n",
       "      <td>The Grange</td>\n",
       "      <td>NaN</td>\n",
       "      <td>NaN</td>\n",
       "      <td>True</td>\n",
       "      <td>29759345</td>\n",
       "      <td>BUILDER_SPEC</td>\n",
       "    </tr>\n",
       "    <tr>\n",
       "      <th>24</th>\n",
       "      <td>2057726595</td>\n",
       "      <td>$392,990</td>\n",
       "      <td>$393K</td>\n",
       "      <td>3.0</td>\n",
       "      <td>3.0</td>\n",
       "      <td>NaN</td>\n",
       "      <td>FOR_SALE</td>\n",
       "      <td>New construction</td>\n",
       "      <td>False</td>\n",
       "      <td>False</td>\n",
       "      <td>False</td>\n",
       "      <td>https://photos.zillowstatic.com/fp/783d201fd93...</td>\n",
       "      <td>True</td>\n",
       "      <td>False</td>\n",
       "      <td>NEW_CONSTRUCTION</td>\n",
       "      <td>NaN</td>\n",
       "      <td>False</td>\n",
       "      <td>/homedetails/218-Grange-Valley-Ln-Central-SC-2...</td>\n",
       "      <td>ForSale</td>\n",
       "      <td>New Construction</td>\n",
       "      <td>False</td>\n",
       "      <td>False</td>\n",
       "      <td>False</td>\n",
       "      <td>218 Grange Valley Ln, Central, SC 29630</td>\n",
       "      <td>False</td>\n",
       "      <td>False</td>\n",
       "      <td>False</td>\n",
       "      <td>NaN</td>\n",
       "      <td>3726078581</td>\n",
       "      <td>34.689430</td>\n",
       "      <td>-82.774170</td>\n",
       "      <td>2.057727e+09</td>\n",
       "      <td>218 Grange Valley Ln</td>\n",
       "      <td>29630</td>\n",
       "      <td>Central</td>\n",
       "      <td>SC</td>\n",
       "      <td>34.689430</td>\n",
       "      <td>-82.774170</td>\n",
       "      <td>392990.0</td>\n",
       "      <td>3.0</td>\n",
       "      <td>3.0</td>\n",
       "      <td>NaN</td>\n",
       "      <td>TOWNHOUSE</td>\n",
       "      <td>FOR_SALE</td>\n",
       "      <td>-1.0</td>\n",
       "      <td>False</td>\n",
       "      <td>False</td>\n",
       "      <td>393000.0</td>\n",
       "      <td>1948.0</td>\n",
       "      <td>NaN</td>\n",
       "      <td>False</td>\n",
       "      <td>False</td>\n",
       "      <td>FOR_SALE</td>\n",
       "      <td>392990.0</td>\n",
       "      <td>True</td>\n",
       "      <td>True</td>\n",
       "      <td>False</td>\n",
       "      <td>USD</td>\n",
       "      <td>USA</td>\n",
       "      <td>NaN</td>\n",
       "      <td>NaN</td>\n",
       "      <td>False</td>\n",
       "      <td>OPEN_HOUSE</td>\n",
       "      <td>Open: Daily: Sun 1 - 6p...</td>\n",
       "      <td>NaN</td>\n",
       "      <td>NaN</td>\n",
       "      <td>NaN</td>\n",
       "      <td>4356.00</td>\n",
       "      <td>sqft</td>\n",
       "      <td>NaN</td>\n",
       "      <td>NaN</td>\n",
       "      <td>NaN</td>\n",
       "      <td>NaN</td>\n",
       "      <td>NaN</td>\n",
       "      <td>NaN</td>\n",
       "      <td>NaN</td>\n",
       "      <td>NaN</td>\n",
       "      <td>NaN</td>\n",
       "      <td>NaN</td>\n",
       "      <td>NaN</td>\n",
       "      <td>NaN</td>\n",
       "      <td>NaN</td>\n",
       "      <td>NaN</td>\n",
       "      <td>NaN</td>\n",
       "      <td>The Grange</td>\n",
       "      <td>NaN</td>\n",
       "      <td>NaN</td>\n",
       "      <td>True</td>\n",
       "      <td>29759345</td>\n",
       "      <td>BUILDER_SPEC</td>\n",
       "    </tr>\n",
       "    <tr>\n",
       "      <th>25</th>\n",
       "      <td>2058194673</td>\n",
       "      <td>$374,990</td>\n",
       "      <td>$375K</td>\n",
       "      <td>3.0</td>\n",
       "      <td>3.0</td>\n",
       "      <td>NaN</td>\n",
       "      <td>FOR_SALE</td>\n",
       "      <td>New construction</td>\n",
       "      <td>False</td>\n",
       "      <td>False</td>\n",
       "      <td>False</td>\n",
       "      <td>https://photos.zillowstatic.com/fp/cae3795439d...</td>\n",
       "      <td>True</td>\n",
       "      <td>False</td>\n",
       "      <td>NEW_CONSTRUCTION</td>\n",
       "      <td>NaN</td>\n",
       "      <td>False</td>\n",
       "      <td>/homedetails/223-Grange-Valley-Ln-Central-SC-2...</td>\n",
       "      <td>ForSale</td>\n",
       "      <td>New Construction</td>\n",
       "      <td>False</td>\n",
       "      <td>False</td>\n",
       "      <td>False</td>\n",
       "      <td>223 Grange Valley Ln, Central, SC 29630</td>\n",
       "      <td>False</td>\n",
       "      <td>False</td>\n",
       "      <td>False</td>\n",
       "      <td>NaN</td>\n",
       "      <td>6669748236</td>\n",
       "      <td>34.690895</td>\n",
       "      <td>-82.774800</td>\n",
       "      <td>2.058195e+09</td>\n",
       "      <td>223 Grange Valley Ln</td>\n",
       "      <td>29630</td>\n",
       "      <td>Central</td>\n",
       "      <td>SC</td>\n",
       "      <td>34.690895</td>\n",
       "      <td>-82.774800</td>\n",
       "      <td>374990.0</td>\n",
       "      <td>3.0</td>\n",
       "      <td>3.0</td>\n",
       "      <td>NaN</td>\n",
       "      <td>TOWNHOUSE</td>\n",
       "      <td>FOR_SALE</td>\n",
       "      <td>-1.0</td>\n",
       "      <td>False</td>\n",
       "      <td>False</td>\n",
       "      <td>374700.0</td>\n",
       "      <td>1973.0</td>\n",
       "      <td>NaN</td>\n",
       "      <td>False</td>\n",
       "      <td>False</td>\n",
       "      <td>FOR_SALE</td>\n",
       "      <td>374990.0</td>\n",
       "      <td>True</td>\n",
       "      <td>True</td>\n",
       "      <td>False</td>\n",
       "      <td>USD</td>\n",
       "      <td>USA</td>\n",
       "      <td>NaN</td>\n",
       "      <td>NaN</td>\n",
       "      <td>False</td>\n",
       "      <td>OPEN_HOUSE</td>\n",
       "      <td>Open: Daily: Sun 1 - 6p...</td>\n",
       "      <td>1.683529e+12</td>\n",
       "      <td>NaN</td>\n",
       "      <td>2000.0</td>\n",
       "      <td>3000.00</td>\n",
       "      <td>sqft</td>\n",
       "      <td>NaN</td>\n",
       "      <td>NaN</td>\n",
       "      <td>NaN</td>\n",
       "      <td>NaN</td>\n",
       "      <td>NaN</td>\n",
       "      <td>NaN</td>\n",
       "      <td>NaN</td>\n",
       "      <td>NaN</td>\n",
       "      <td>NaN</td>\n",
       "      <td>NaN</td>\n",
       "      <td>NaN</td>\n",
       "      <td>NaN</td>\n",
       "      <td>NaN</td>\n",
       "      <td>NaN</td>\n",
       "      <td>NaN</td>\n",
       "      <td>The Grange</td>\n",
       "      <td>NaN</td>\n",
       "      <td>NaN</td>\n",
       "      <td>True</td>\n",
       "      <td>29759345</td>\n",
       "      <td>BUILDER_SPEC</td>\n",
       "    </tr>\n",
       "    <tr>\n",
       "      <th>26</th>\n",
       "      <td>2057726023</td>\n",
       "      <td>$405,990</td>\n",
       "      <td>$406K</td>\n",
       "      <td>3.0</td>\n",
       "      <td>3.0</td>\n",
       "      <td>NaN</td>\n",
       "      <td>FOR_SALE</td>\n",
       "      <td>New construction</td>\n",
       "      <td>False</td>\n",
       "      <td>False</td>\n",
       "      <td>False</td>\n",
       "      <td>https://photos.zillowstatic.com/fp/783d201fd93...</td>\n",
       "      <td>True</td>\n",
       "      <td>False</td>\n",
       "      <td>NEW_CONSTRUCTION</td>\n",
       "      <td>NaN</td>\n",
       "      <td>False</td>\n",
       "      <td>/homedetails/101-Doya-Ct-Central-SC-29630/2057...</td>\n",
       "      <td>ForSale</td>\n",
       "      <td>New Construction</td>\n",
       "      <td>False</td>\n",
       "      <td>False</td>\n",
       "      <td>False</td>\n",
       "      <td>101 Doya Ct, Central, SC 29630</td>\n",
       "      <td>False</td>\n",
       "      <td>False</td>\n",
       "      <td>False</td>\n",
       "      <td>NaN</td>\n",
       "      <td>3723425940</td>\n",
       "      <td>34.690826</td>\n",
       "      <td>-82.777130</td>\n",
       "      <td>2.057726e+09</td>\n",
       "      <td>101 Doya Ct</td>\n",
       "      <td>29630</td>\n",
       "      <td>Central</td>\n",
       "      <td>SC</td>\n",
       "      <td>34.690826</td>\n",
       "      <td>-82.777130</td>\n",
       "      <td>405990.0</td>\n",
       "      <td>3.0</td>\n",
       "      <td>3.0</td>\n",
       "      <td>NaN</td>\n",
       "      <td>TOWNHOUSE</td>\n",
       "      <td>FOR_SALE</td>\n",
       "      <td>-1.0</td>\n",
       "      <td>False</td>\n",
       "      <td>False</td>\n",
       "      <td>406000.0</td>\n",
       "      <td>1948.0</td>\n",
       "      <td>NaN</td>\n",
       "      <td>False</td>\n",
       "      <td>False</td>\n",
       "      <td>FOR_SALE</td>\n",
       "      <td>405990.0</td>\n",
       "      <td>True</td>\n",
       "      <td>True</td>\n",
       "      <td>False</td>\n",
       "      <td>USD</td>\n",
       "      <td>USA</td>\n",
       "      <td>NaN</td>\n",
       "      <td>NaN</td>\n",
       "      <td>False</td>\n",
       "      <td>OPEN_HOUSE</td>\n",
       "      <td>Open: Daily: Sun 1 - 6p...</td>\n",
       "      <td>NaN</td>\n",
       "      <td>NaN</td>\n",
       "      <td>NaN</td>\n",
       "      <td>4356.00</td>\n",
       "      <td>sqft</td>\n",
       "      <td>NaN</td>\n",
       "      <td>NaN</td>\n",
       "      <td>NaN</td>\n",
       "      <td>NaN</td>\n",
       "      <td>NaN</td>\n",
       "      <td>NaN</td>\n",
       "      <td>NaN</td>\n",
       "      <td>NaN</td>\n",
       "      <td>NaN</td>\n",
       "      <td>NaN</td>\n",
       "      <td>NaN</td>\n",
       "      <td>NaN</td>\n",
       "      <td>NaN</td>\n",
       "      <td>NaN</td>\n",
       "      <td>NaN</td>\n",
       "      <td>The Grange</td>\n",
       "      <td>NaN</td>\n",
       "      <td>NaN</td>\n",
       "      <td>True</td>\n",
       "      <td>29759345</td>\n",
       "      <td>BUILDER_SPEC</td>\n",
       "    </tr>\n",
       "  </tbody>\n",
       "</table>\n",
       "</div>"
      ],
      "text/plain": [
       "          zpid          price priceLabel  beds  baths    area statusType  \\\n",
       "0     72644778       $135,000      $135K   2.0    2.0  1000.0   FOR_SALE   \n",
       "1     72645142       $359,000      $359K   4.0    3.0  2280.0   FOR_SALE   \n",
       "2          NaN  From $139,900        NaN   NaN    NaN     NaN   FOR_SALE   \n",
       "3     72696310       $429,450      $429K   3.0    2.0  2000.0   FOR_SALE   \n",
       "4     82557012       $329,900      $330K   2.0    3.0  1353.0   FOR_SALE   \n",
       "5     71330400       $440,000      $440K   4.0    4.0  2088.0   FOR_SALE   \n",
       "6     72658672       $485,000      $485K   4.0    3.0  2500.0   FOR_SALE   \n",
       "7     72658779       $390,000      $390K   3.0    3.0  2000.0   FOR_SALE   \n",
       "8     72658654       $439,000      $439K   4.0    4.0  2250.0   FOR_SALE   \n",
       "9     72641246       $397,000      $397K   3.0    3.0  2000.0   FOR_SALE   \n",
       "10    81767981       $459,990      $460K   4.0    4.0  2300.0   FOR_SALE   \n",
       "11  2061586389        $49,900       $50K   NaN    0.0     NaN   FOR_SALE   \n",
       "12   204270346       $165,000      $165K   NaN    0.0     NaN   FOR_SALE   \n",
       "13   204268514        $74,900       $75K   NaN    0.0     NaN   FOR_SALE   \n",
       "14         NaN  From $279,900        NaN   NaN    NaN     NaN   FOR_SALE   \n",
       "15  2059075802       $399,000      $399K   NaN    0.0     NaN   FOR_SALE   \n",
       "16   242984038       $459,900      $460K   2.0    3.0  1500.0   FOR_SALE   \n",
       "17         NaN  From $331,990        NaN   NaN    NaN     NaN   FOR_SALE   \n",
       "18   242983196       $429,900      $430K   2.0    3.0  1450.0   FOR_SALE   \n",
       "19  2058539948       $369,990      $370K   3.0    3.0     NaN   FOR_SALE   \n",
       "20  2069799191       $330,000      $330K   NaN    0.0     NaN   FOR_SALE   \n",
       "21   204268673       $440,000      $440K   NaN    0.0     NaN   FOR_SALE   \n",
       "22  2057158972       $446,990      $447K   3.0    3.0     NaN   FOR_SALE   \n",
       "23  2058194771       $369,990      $370K   3.0    3.0     NaN   FOR_SALE   \n",
       "24  2057726595       $392,990      $393K   3.0    3.0     NaN   FOR_SALE   \n",
       "25  2058194673       $374,990      $375K   3.0    3.0     NaN   FOR_SALE   \n",
       "26  2057726023       $405,990      $406K   3.0    3.0     NaN   FOR_SALE   \n",
       "\n",
       "             statusText  isFavorite isUserClaimingOwner isUserConfirmedClaim  \\\n",
       "0        Condo for sale       False               False                False   \n",
       "1        House for sale       False               False                False   \n",
       "2              For Rent       False                 NaN                  NaN   \n",
       "3        House for sale       False               False                False   \n",
       "4        Condo for sale       False               False                False   \n",
       "5    Townhouse for sale       False               False                False   \n",
       "6        House for sale       False               False                False   \n",
       "7        House for sale       False               False                False   \n",
       "8        House for sale       False               False                False   \n",
       "9        House for sale       False               False                False   \n",
       "10       House for sale       False               False                False   \n",
       "11  Lot / Land for sale       False               False                False   \n",
       "12  Lot / Land for sale       False               False                False   \n",
       "13  Lot / Land for sale       False               False                False   \n",
       "14             For Rent       False                 NaN                  NaN   \n",
       "15  Lot / Land for sale       False               False                False   \n",
       "16   Townhouse for sale       False               False                False   \n",
       "17             For Rent       False                 NaN                  NaN   \n",
       "18   Townhouse for sale       False               False                False   \n",
       "19     New construction       False               False                False   \n",
       "20  Lot / Land for sale       False               False                False   \n",
       "21  Lot / Land for sale       False               False                False   \n",
       "22     New construction       False               False                False   \n",
       "23     New construction       False               False                False   \n",
       "24     New construction       False               False                False   \n",
       "25     New construction       False               False                False   \n",
       "26     New construction       False               False                False   \n",
       "\n",
       "                                               imgSrc  hasImage visited  \\\n",
       "0   https://photos.zillowstatic.com/fp/ecf0d48909e...      True   False   \n",
       "1   https://photos.zillowstatic.com/fp/933bb6a8986...      True   False   \n",
       "2   https://photos.zillowstatic.com/fp/9f0b8d5eb02...      True     NaN   \n",
       "3   https://photos.zillowstatic.com/fp/d893ac78ea9...      True   False   \n",
       "4   https://photos.zillowstatic.com/fp/9c46bd60917...      True   False   \n",
       "5   https://photos.zillowstatic.com/fp/836db50df20...      True   False   \n",
       "6   https://photos.zillowstatic.com/fp/881d963892f...      True   False   \n",
       "7   https://photos.zillowstatic.com/fp/b397da4dd80...      True   False   \n",
       "8   https://photos.zillowstatic.com/fp/f22f2e25a52...      True   False   \n",
       "9   https://photos.zillowstatic.com/fp/efe03383552...      True   False   \n",
       "10  https://photos.zillowstatic.com/fp/afa31d322ad...      True   False   \n",
       "11  https://photos.zillowstatic.com/fp/93823a28a06...      True   False   \n",
       "12  https://photos.zillowstatic.com/fp/95c521b2010...      True   False   \n",
       "13  https://photos.zillowstatic.com/fp/0b46ae1fedd...      True   False   \n",
       "14  https://photos.zillowstatic.com/fp/1a9cae3fccf...      True     NaN   \n",
       "15  https://photos.zillowstatic.com/fp/6f17d60555f...      True   False   \n",
       "16  https://photos.zillowstatic.com/fp/39d0ec88778...      True   False   \n",
       "17  https://photos.zillowstatic.com/fp/d80e39b1b6c...      True     NaN   \n",
       "18  https://photos.zillowstatic.com/fp/0ac3774c048...      True   False   \n",
       "19  https://photos.zillowstatic.com/fp/cae3795439d...      True   False   \n",
       "20  https://photos.zillowstatic.com/fp/50c25f51835...      True   False   \n",
       "21  https://photos.zillowstatic.com/fp/1468e9baaae...      True   False   \n",
       "22  https://photos.zillowstatic.com/fp/798aaa6ba8f...      True   False   \n",
       "23  https://photos.zillowstatic.com/fp/cae3795439d...      True   False   \n",
       "24  https://photos.zillowstatic.com/fp/783d201fd93...      True   False   \n",
       "25  https://photos.zillowstatic.com/fp/cae3795439d...      True   False   \n",
       "26  https://photos.zillowstatic.com/fp/783d201fd93...      True   False   \n",
       "\n",
       "         listingType  variableData shouldShowZestimateAsPrice  \\\n",
       "0                              NaN                      False   \n",
       "1                              NaN                      False   \n",
       "2                              NaN                        NaN   \n",
       "3                              NaN                      False   \n",
       "4                              NaN                      False   \n",
       "5                              NaN                      False   \n",
       "6                              NaN                      False   \n",
       "7                              NaN                      False   \n",
       "8                              NaN                      False   \n",
       "9                              NaN                      False   \n",
       "10                             NaN                      False   \n",
       "11                             NaN                      False   \n",
       "12                             NaN                      False   \n",
       "13                             NaN                      False   \n",
       "14  NEW_CONSTRUCTION           NaN                        NaN   \n",
       "15                             NaN                      False   \n",
       "16                             NaN                      False   \n",
       "17  NEW_CONSTRUCTION           NaN                        NaN   \n",
       "18                             NaN                      False   \n",
       "19  NEW_CONSTRUCTION           NaN                      False   \n",
       "20                             NaN                      False   \n",
       "21                             NaN                      False   \n",
       "22  NEW_CONSTRUCTION           NaN                      False   \n",
       "23  NEW_CONSTRUCTION           NaN                      False   \n",
       "24  NEW_CONSTRUCTION           NaN                      False   \n",
       "25  NEW_CONSTRUCTION           NaN                      False   \n",
       "26  NEW_CONSTRUCTION           NaN                      False   \n",
       "\n",
       "                                            detailUrl    pgapt  \\\n",
       "0   /homedetails/1108-Tiger-Blvd-APT-129-Clemson-S...  ForSale   \n",
       "1   /homedetails/1006-Berkeley-Dr-Clemson-SC-29631...  ForSale   \n",
       "2          /b/532-university-place-clemson-sc-5XmtqS/      NaN   \n",
       "3   /homedetails/408-Rock-Creek-Rd-Clemson-SC-2963...  ForSale   \n",
       "4   /homedetails/849-Tiger-Blvd-UNIT-504-Clemson-S...  ForSale   \n",
       "5   /homedetails/600-Anderson-Hwy-APT-113-Clemson-...  ForSale   \n",
       "6   /homedetails/226-Riggs-Dr-Clemson-SC-29631/726...  ForSale   \n",
       "7   /homedetails/111-E-Brookwood-Dr-Clemson-SC-296...  ForSale   \n",
       "8   /homedetails/110-Cardinal-Dr-Clemson-SC-29631/...  ForSale   \n",
       "9   /homedetails/109-Shadowood-Dr-Clemson-SC-29631...  ForSale   \n",
       "10  /homedetails/565-Issaqueena-Trl-Clemson-SC-296...  ForSale   \n",
       "11  /homedetails/0-Briarwood-Ct-Clemson-SC-29631/2...  ForSale   \n",
       "12  /homedetails/101-Dupree-St-Clemson-SC-29631/20...  ForSale   \n",
       "13  /homedetails/192-Holden-Dr-Clemson-SC-29631/20...  ForSale   \n",
       "14             /community/bamboo-court/29730863_plid/      NaN   \n",
       "15  /homedetails/0-Anderson-Hwy-Clemson-SC-29631/2...  ForSale   \n",
       "16  /homedetails/251-Thomas-Green-Blvd-Clemson-SC-...  ForSale   \n",
       "17                   /community/grange/29759345_plid/      NaN   \n",
       "18  /homedetails/254-Thomas-Green-Blvd-Clemson-SC-...  ForSale   \n",
       "19  /homedetails/212-Grange-Valley-Ln-Central-SC-2...  ForSale   \n",
       "20  /homedetails/0-Old-Jewell-Bridge-Rd-Clemson-SC...  ForSale   \n",
       "21  /homedetails/100-Clear-Spring-Ct-Clemson-SC-29...  ForSale   \n",
       "22  /homedetails/104-Grange-Valley-Ln-Central-SC-2...  ForSale   \n",
       "23  /homedetails/225-Grange-Valley-Ln-Central-SC-2...  ForSale   \n",
       "24  /homedetails/218-Grange-Valley-Ln-Central-SC-2...  ForSale   \n",
       "25  /homedetails/223-Grange-Valley-Ln-Central-SC-2...  ForSale   \n",
       "26  /homedetails/101-Doya-Ct-Central-SC-29630/2057...  ForSale   \n",
       "\n",
       "                sgapt  has3DModel hasVideo  isHomeRec  \\\n",
       "0   For Sale (Broker)       False    False      False   \n",
       "1   For Sale (Broker)       False    False      False   \n",
       "2                 NaN       False      NaN      False   \n",
       "3   For Sale (Broker)        True    False      False   \n",
       "4   For Sale (Broker)       False    False      False   \n",
       "5   For Sale (Broker)       False    False      False   \n",
       "6   For Sale (Broker)       False    False      False   \n",
       "7   For Sale (Broker)       False    False      False   \n",
       "8   For Sale (Broker)       False    False      False   \n",
       "9   For Sale (Broker)       False    False      False   \n",
       "10  For Sale (Broker)       False    False      False   \n",
       "11  For Sale (Broker)       False    False      False   \n",
       "12  For Sale (Broker)       False    False      False   \n",
       "13  For Sale (Broker)       False    False      False   \n",
       "14                NaN       False      NaN      False   \n",
       "15  For Sale (Broker)       False    False      False   \n",
       "16  For Sale (Broker)       False    False      False   \n",
       "17                NaN       False      NaN      False   \n",
       "18  For Sale (Broker)       False    False      False   \n",
       "19   New Construction       False    False      False   \n",
       "20  For Sale (Broker)       False    False      False   \n",
       "21  For Sale (Broker)       False    False      False   \n",
       "22   New Construction       False    False      False   \n",
       "23   New Construction       False    False      False   \n",
       "24   New Construction       False    False      False   \n",
       "25   New Construction       False    False      False   \n",
       "26   New Construction       False    False      False   \n",
       "\n",
       "                                        address  hasAdditionalAttributions  \\\n",
       "0    1108 Tiger Blvd APT 129, Clemson, SC 29631                      False   \n",
       "1           1006 Berkeley Dr, Clemson, SC 29631                      False   \n",
       "2                       220 Elm St, Clemson, SC                      False   \n",
       "3          408 Rock Creek Rd, Clemson, SC 29631                      False   \n",
       "4    849 Tiger Blvd UNIT 504, Clemson, SC 29631                      False   \n",
       "5   600 Anderson Hwy APT 113, Clemson, SC 29631                      False   \n",
       "6               226 Riggs Dr, Clemson, SC 29631                      False   \n",
       "7         111 E Brookwood Dr, Clemson, SC 29631                      False   \n",
       "8            110 Cardinal Dr, Clemson, SC 29631                      False   \n",
       "9           109 Shadowood Dr, Clemson, SC 29631                      False   \n",
       "10        565 Issaqueena Trl, Clemson, SC 29631                      False   \n",
       "11            0 Briarwood Ct, Clemson, SC 29631                      False   \n",
       "12             101 Dupree St, Clemson, SC 29631                      False   \n",
       "13             192 Holden Dr, Clemson, SC 29631                      False   \n",
       "14                235 Pendleton Rd, Clemson, SC                      False   \n",
       "15            0 Anderson Hwy, Clemson, SC 29631                      False   \n",
       "16     251 Thomas Green Blvd, Clemson, SC 29631                      False   \n",
       "17               210 Founders Blvd, Clemson, SC                      False   \n",
       "18     254 Thomas Green Blvd, Clemson, SC 29631                      False   \n",
       "19      212 Grange Valley Ln, Central, SC 29630                      False   \n",
       "20    0 Old Jewell Bridge Rd, Clemson, SC 29631                      False   \n",
       "21       100 Clear Spring Ct, Clemson, SC 29631                      False   \n",
       "22      104 Grange Valley Ln, Central, SC 29630                      False   \n",
       "23      225 Grange Valley Ln, Central, SC 29630                      False   \n",
       "24      218 Grange Valley Ln, Central, SC 29630                      False   \n",
       "25      223 Grange Valley Ln, Central, SC 29630                      False   \n",
       "26               101 Doya Ct, Central, SC 29630                      False   \n",
       "\n",
       "    isFeaturedListing  isShowcaseListing  availabilityDate  timeOnZillow  \\\n",
       "0               False              False               NaN    5630311128   \n",
       "1               False              False               NaN    1026762244   \n",
       "2               False              False               NaN    5035586765   \n",
       "3               False              False               NaN    1046982742   \n",
       "4               False              False               NaN     963220417   \n",
       "5               False              False               NaN      23613274   \n",
       "6               False              False               NaN    5368896800   \n",
       "7               False              False               NaN    1595463182   \n",
       "8               False              False               NaN    1248635555   \n",
       "9               False              False               NaN    2428631220   \n",
       "10              False              False               NaN    1567048940   \n",
       "11              False              False               NaN   24214016972   \n",
       "12              False              False               NaN   26029015457   \n",
       "13              False              False               NaN   13056151973   \n",
       "14              False              False               NaN     353264973   \n",
       "15              False              False               NaN   10213242303   \n",
       "16              False              False               NaN   16694555973   \n",
       "17              False              False               NaN    2211704973   \n",
       "18              False              False               NaN   12284316692   \n",
       "19              False              False               NaN    8482390117   \n",
       "20              False              False               NaN   62151071854   \n",
       "21              False              False               NaN   33971217383   \n",
       "22              False              False               NaN     627462973   \n",
       "23              False              False               NaN    6670233216   \n",
       "24              False              False               NaN    3726078581   \n",
       "25              False              False               NaN    6669748236   \n",
       "26              False              False               NaN    3723425940   \n",
       "\n",
       "    latLong.latitude  latLong.longitude  hdpData.homeInfo.zpid  \\\n",
       "0          34.690130         -82.832690           7.264478e+07   \n",
       "1          34.674236         -82.798970           7.264514e+07   \n",
       "2          34.693653         -82.838220                    NaN   \n",
       "3          34.675766         -82.803370           7.269631e+07   \n",
       "4          34.693375         -82.848560           8.255701e+07   \n",
       "5          34.670513         -82.815735           7.133040e+07   \n",
       "6          34.686590         -82.826420           7.265867e+07   \n",
       "7          34.670708         -82.801520           7.265878e+07   \n",
       "8          34.691710         -82.804310           7.265865e+07   \n",
       "9          34.677400         -82.801690           7.264125e+07   \n",
       "10         34.680786         -82.787390           8.176798e+07   \n",
       "11         34.664196         -82.801445           2.061586e+09   \n",
       "12         34.687750         -82.820870           2.042703e+08   \n",
       "13         34.678047         -82.806640           2.042685e+08   \n",
       "14         34.671500         -82.808525                    NaN   \n",
       "15         34.688286         -82.825950           2.059076e+09   \n",
       "16         34.683136         -82.784256           2.429840e+08   \n",
       "17         34.691334         -82.775604                    NaN   \n",
       "18         34.683475         -82.783490           2.429832e+08   \n",
       "19         34.690990         -82.776380           2.058540e+09   \n",
       "20         34.706900         -82.826900           2.069799e+09   \n",
       "21         34.673733         -82.799050           2.042687e+08   \n",
       "22         34.690174         -82.774090           2.057159e+09   \n",
       "23         34.690598         -82.774210           2.058195e+09   \n",
       "24         34.689430         -82.774170           2.057727e+09   \n",
       "25         34.690895         -82.774800           2.058195e+09   \n",
       "26         34.690826         -82.777130           2.057726e+09   \n",
       "\n",
       "   hdpData.homeInfo.streetAddress hdpData.homeInfo.zipcode  \\\n",
       "0         1108 Tiger Blvd APT 129                    29631   \n",
       "1                1006 Berkeley Dr                    29631   \n",
       "2                             NaN                      NaN   \n",
       "3               408 Rock Creek Rd                    29631   \n",
       "4         849 Tiger Blvd UNIT 504                    29631   \n",
       "5        600 Anderson Hwy APT 113                    29631   \n",
       "6                    226 Riggs Dr                    29631   \n",
       "7              111 E Brookwood Dr                    29631   \n",
       "8                 110 Cardinal Dr                    29631   \n",
       "9                109 Shadowood Dr                    29631   \n",
       "10             565 Issaqueena Trl                    29631   \n",
       "11                 0 Briarwood Ct                    29631   \n",
       "12                  101 Dupree St                    29631   \n",
       "13                  192 Holden Dr                    29631   \n",
       "14                            NaN                      NaN   \n",
       "15                 0 Anderson Hwy                    29631   \n",
       "16          251 Thomas Green Blvd                    29631   \n",
       "17                            NaN                      NaN   \n",
       "18          254 Thomas Green Blvd                    29631   \n",
       "19           212 Grange Valley Ln                    29630   \n",
       "20         0 Old Jewell Bridge Rd                    29631   \n",
       "21            100 Clear Spring Ct                    29631   \n",
       "22           104 Grange Valley Ln                    29630   \n",
       "23           225 Grange Valley Ln                    29630   \n",
       "24           218 Grange Valley Ln                    29630   \n",
       "25           223 Grange Valley Ln                    29630   \n",
       "26                    101 Doya Ct                    29630   \n",
       "\n",
       "   hdpData.homeInfo.city hdpData.homeInfo.state  hdpData.homeInfo.latitude  \\\n",
       "0                Clemson                     SC                  34.690130   \n",
       "1                Clemson                     SC                  34.674236   \n",
       "2                    NaN                    NaN                        NaN   \n",
       "3                Clemson                     SC                  34.675766   \n",
       "4                Clemson                     SC                  34.693375   \n",
       "5                Clemson                     SC                  34.670513   \n",
       "6                Clemson                     SC                  34.686590   \n",
       "7                Clemson                     SC                  34.670708   \n",
       "8                Clemson                     SC                  34.691710   \n",
       "9                Clemson                     SC                  34.677400   \n",
       "10               Clemson                     SC                  34.680786   \n",
       "11               Clemson                     SC                  34.664196   \n",
       "12               Clemson                     SC                  34.687750   \n",
       "13               Clemson                     SC                  34.678047   \n",
       "14                   NaN                    NaN                        NaN   \n",
       "15               Clemson                     SC                  34.688286   \n",
       "16               Clemson                     SC                  34.683136   \n",
       "17                   NaN                    NaN                        NaN   \n",
       "18               Clemson                     SC                  34.683475   \n",
       "19               Central                     SC                  34.690990   \n",
       "20               Clemson                     SC                  34.706900   \n",
       "21               Clemson                     SC                  34.673733   \n",
       "22               Central                     SC                  34.690174   \n",
       "23               Central                     SC                  34.690598   \n",
       "24               Central                     SC                  34.689430   \n",
       "25               Central                     SC                  34.690895   \n",
       "26               Central                     SC                  34.690826   \n",
       "\n",
       "    hdpData.homeInfo.longitude  hdpData.homeInfo.price  \\\n",
       "0                   -82.832690                135000.0   \n",
       "1                   -82.798970                359000.0   \n",
       "2                          NaN                     NaN   \n",
       "3                   -82.803370                429450.0   \n",
       "4                   -82.848560                329900.0   \n",
       "5                   -82.815735                440000.0   \n",
       "6                   -82.826420                485000.0   \n",
       "7                   -82.801520                390000.0   \n",
       "8                   -82.804310                439000.0   \n",
       "9                   -82.801690                397000.0   \n",
       "10                  -82.787390                459990.0   \n",
       "11                  -82.801445                 49900.0   \n",
       "12                  -82.820870                165000.0   \n",
       "13                  -82.806640                 74900.0   \n",
       "14                         NaN                     NaN   \n",
       "15                  -82.825950                399000.0   \n",
       "16                  -82.784256                459900.0   \n",
       "17                         NaN                     NaN   \n",
       "18                  -82.783490                429900.0   \n",
       "19                  -82.776380                369990.0   \n",
       "20                  -82.826900                330000.0   \n",
       "21                  -82.799050                440000.0   \n",
       "22                  -82.774090                446990.0   \n",
       "23                  -82.774210                369990.0   \n",
       "24                  -82.774170                392990.0   \n",
       "25                  -82.774800                374990.0   \n",
       "26                  -82.777130                405990.0   \n",
       "\n",
       "    hdpData.homeInfo.bathrooms  hdpData.homeInfo.bedrooms  \\\n",
       "0                          2.0                        2.0   \n",
       "1                          3.0                        4.0   \n",
       "2                          NaN                        NaN   \n",
       "3                          2.0                        3.0   \n",
       "4                          3.0                        2.0   \n",
       "5                          4.0                        4.0   \n",
       "6                          3.0                        4.0   \n",
       "7                          3.0                        3.0   \n",
       "8                          4.0                        4.0   \n",
       "9                          3.0                        3.0   \n",
       "10                         4.0                        4.0   \n",
       "11                         0.0                        NaN   \n",
       "12                         0.0                        NaN   \n",
       "13                         0.0                        NaN   \n",
       "14                         NaN                        NaN   \n",
       "15                         0.0                        NaN   \n",
       "16                         3.0                        2.0   \n",
       "17                         NaN                        NaN   \n",
       "18                         3.0                        2.0   \n",
       "19                         3.0                        3.0   \n",
       "20                         0.0                        NaN   \n",
       "21                         0.0                        NaN   \n",
       "22                         3.0                        3.0   \n",
       "23                         3.0                        3.0   \n",
       "24                         3.0                        3.0   \n",
       "25                         3.0                        3.0   \n",
       "26                         3.0                        3.0   \n",
       "\n",
       "    hdpData.homeInfo.livingArea hdpData.homeInfo.homeType  \\\n",
       "0                        1000.0                     CONDO   \n",
       "1                        2280.0             SINGLE_FAMILY   \n",
       "2                           NaN                       NaN   \n",
       "3                        2000.0             SINGLE_FAMILY   \n",
       "4                        1353.0                     CONDO   \n",
       "5                        2088.0                 TOWNHOUSE   \n",
       "6                        2500.0             SINGLE_FAMILY   \n",
       "7                        2000.0             SINGLE_FAMILY   \n",
       "8                        2250.0             SINGLE_FAMILY   \n",
       "9                        2000.0             SINGLE_FAMILY   \n",
       "10                       2300.0             SINGLE_FAMILY   \n",
       "11                          NaN                       LOT   \n",
       "12                          NaN                       LOT   \n",
       "13                          NaN                       LOT   \n",
       "14                          NaN                       NaN   \n",
       "15                          NaN                       LOT   \n",
       "16                       1500.0                 TOWNHOUSE   \n",
       "17                          NaN                       NaN   \n",
       "18                       1450.0                 TOWNHOUSE   \n",
       "19                          NaN                 TOWNHOUSE   \n",
       "20                          NaN                       LOT   \n",
       "21                          NaN                       LOT   \n",
       "22                          NaN             SINGLE_FAMILY   \n",
       "23                          NaN                 TOWNHOUSE   \n",
       "24                          NaN                 TOWNHOUSE   \n",
       "25                          NaN                 TOWNHOUSE   \n",
       "26                          NaN                 TOWNHOUSE   \n",
       "\n",
       "   hdpData.homeInfo.homeStatus  hdpData.homeInfo.daysOnZillow  \\\n",
       "0                     FOR_SALE                           -1.0   \n",
       "1                     FOR_SALE                           -1.0   \n",
       "2                          NaN                            NaN   \n",
       "3                     FOR_SALE                           -1.0   \n",
       "4                     FOR_SALE                           -1.0   \n",
       "5                     FOR_SALE                           -1.0   \n",
       "6                     FOR_SALE                           -1.0   \n",
       "7                     FOR_SALE                           -1.0   \n",
       "8                     FOR_SALE                           -1.0   \n",
       "9                     FOR_SALE                           -1.0   \n",
       "10                    FOR_SALE                           -1.0   \n",
       "11                    FOR_SALE                           -1.0   \n",
       "12                    FOR_SALE                           -1.0   \n",
       "13                    FOR_SALE                           -1.0   \n",
       "14                         NaN                            NaN   \n",
       "15                    FOR_SALE                           -1.0   \n",
       "16                    FOR_SALE                           -1.0   \n",
       "17                         NaN                            NaN   \n",
       "18                    FOR_SALE                           -1.0   \n",
       "19                    FOR_SALE                           -1.0   \n",
       "20                    FOR_SALE                           -1.0   \n",
       "21                    FOR_SALE                           -1.0   \n",
       "22                    FOR_SALE                           -1.0   \n",
       "23                    FOR_SALE                           -1.0   \n",
       "24                    FOR_SALE                           -1.0   \n",
       "25                    FOR_SALE                           -1.0   \n",
       "26                    FOR_SALE                           -1.0   \n",
       "\n",
       "   hdpData.homeInfo.isFeatured hdpData.homeInfo.shouldHighlight  \\\n",
       "0                        False                            False   \n",
       "1                        False                            False   \n",
       "2                          NaN                              NaN   \n",
       "3                        False                            False   \n",
       "4                        False                            False   \n",
       "5                        False                            False   \n",
       "6                        False                            False   \n",
       "7                        False                            False   \n",
       "8                        False                            False   \n",
       "9                        False                            False   \n",
       "10                       False                            False   \n",
       "11                       False                            False   \n",
       "12                       False                            False   \n",
       "13                       False                            False   \n",
       "14                         NaN                              NaN   \n",
       "15                       False                            False   \n",
       "16                       False                            False   \n",
       "17                         NaN                              NaN   \n",
       "18                       False                            False   \n",
       "19                       False                            False   \n",
       "20                       False                            False   \n",
       "21                       False                            False   \n",
       "22                       False                            False   \n",
       "23                       False                            False   \n",
       "24                       False                            False   \n",
       "25                       False                            False   \n",
       "26                       False                            False   \n",
       "\n",
       "    hdpData.homeInfo.zestimate  hdpData.homeInfo.rentZestimate  \\\n",
       "0                     135068.0                          1235.0   \n",
       "1                     367447.0                          2267.0   \n",
       "2                          NaN                             NaN   \n",
       "3                     431500.0                          1984.0   \n",
       "4                          NaN                          1678.0   \n",
       "5                     454818.0                          1795.0   \n",
       "6                     485000.0                          2588.0   \n",
       "7                     401494.0                          2199.0   \n",
       "8                     439628.0                          2511.0   \n",
       "9                     410831.0                          1949.0   \n",
       "10                    472079.0                          2500.0   \n",
       "11                         NaN                          1400.0   \n",
       "12                         NaN                           993.0   \n",
       "13                         NaN                          1270.0   \n",
       "14                         NaN                             NaN   \n",
       "15                         NaN                           955.0   \n",
       "16                    452360.0                          1747.0   \n",
       "17                         NaN                             NaN   \n",
       "18                    424043.0                          1650.0   \n",
       "19                    368500.0                          1948.0   \n",
       "20                         NaN                           920.0   \n",
       "21                         NaN                          1285.0   \n",
       "22                         NaN                             NaN   \n",
       "23                    369700.0                          1973.0   \n",
       "24                    393000.0                          1948.0   \n",
       "25                    374700.0                          1973.0   \n",
       "26                    406000.0                          1948.0   \n",
       "\n",
       "   hdpData.homeInfo.listing_sub_type.is_FSBA hdpData.homeInfo.isUnmappable  \\\n",
       "0                                       True                         False   \n",
       "1                                       True                         False   \n",
       "2                                        NaN                           NaN   \n",
       "3                                       True                         False   \n",
       "4                                       True                         False   \n",
       "5                                       True                         False   \n",
       "6                                       True                         False   \n",
       "7                                       True                         False   \n",
       "8                                       True                         False   \n",
       "9                                       True                         False   \n",
       "10                                      True                         False   \n",
       "11                                      True                         False   \n",
       "12                                      True                         False   \n",
       "13                                      True                         False   \n",
       "14                                       NaN                           NaN   \n",
       "15                                      True                         False   \n",
       "16                                      True                         False   \n",
       "17                                       NaN                           NaN   \n",
       "18                                      True                         False   \n",
       "19                                       NaN                         False   \n",
       "20                                      True                         False   \n",
       "21                                      True                         False   \n",
       "22                                       NaN                         False   \n",
       "23                                       NaN                         False   \n",
       "24                                       NaN                         False   \n",
       "25                                       NaN                         False   \n",
       "26                                       NaN                         False   \n",
       "\n",
       "   hdpData.homeInfo.isPreforeclosureAuction hdpData.homeInfo.homeStatusForHDP  \\\n",
       "0                                     False                          FOR_SALE   \n",
       "1                                     False                          FOR_SALE   \n",
       "2                                       NaN                               NaN   \n",
       "3                                     False                          FOR_SALE   \n",
       "4                                     False                          FOR_SALE   \n",
       "5                                     False                          FOR_SALE   \n",
       "6                                     False                          FOR_SALE   \n",
       "7                                     False                          FOR_SALE   \n",
       "8                                     False                          FOR_SALE   \n",
       "9                                     False                          FOR_SALE   \n",
       "10                                    False                          FOR_SALE   \n",
       "11                                    False                          FOR_SALE   \n",
       "12                                    False                          FOR_SALE   \n",
       "13                                    False                          FOR_SALE   \n",
       "14                                      NaN                               NaN   \n",
       "15                                    False                          FOR_SALE   \n",
       "16                                    False                          FOR_SALE   \n",
       "17                                      NaN                               NaN   \n",
       "18                                    False                          FOR_SALE   \n",
       "19                                    False                          FOR_SALE   \n",
       "20                                    False                          FOR_SALE   \n",
       "21                                    False                          FOR_SALE   \n",
       "22                                    False                          FOR_SALE   \n",
       "23                                    False                          FOR_SALE   \n",
       "24                                    False                          FOR_SALE   \n",
       "25                                    False                          FOR_SALE   \n",
       "26                                    False                          FOR_SALE   \n",
       "\n",
       "    hdpData.homeInfo.priceForHDP hdpData.homeInfo.isNonOwnerOccupied  \\\n",
       "0                       135000.0                                True   \n",
       "1                       359000.0                                True   \n",
       "2                            NaN                                 NaN   \n",
       "3                       429450.0                                True   \n",
       "4                       329900.0                                True   \n",
       "5                       440000.0                                True   \n",
       "6                       485000.0                                True   \n",
       "7                       390000.0                                True   \n",
       "8                       439000.0                                True   \n",
       "9                       397000.0                                True   \n",
       "10                      459990.0                                True   \n",
       "11                       49900.0                                True   \n",
       "12                      165000.0                                True   \n",
       "13                       74900.0                                True   \n",
       "14                           NaN                                 NaN   \n",
       "15                      399000.0                                True   \n",
       "16                      459900.0                                True   \n",
       "17                           NaN                                 NaN   \n",
       "18                      429900.0                                True   \n",
       "19                      369990.0                                True   \n",
       "20                      330000.0                                True   \n",
       "21                      440000.0                                True   \n",
       "22                      446990.0                                True   \n",
       "23                      369990.0                                True   \n",
       "24                      392990.0                                True   \n",
       "25                      374990.0                                True   \n",
       "26                      405990.0                                True   \n",
       "\n",
       "   hdpData.homeInfo.isPremierBuilder hdpData.homeInfo.isZillowOwned  \\\n",
       "0                              False                          False   \n",
       "1                              False                          False   \n",
       "2                                NaN                            NaN   \n",
       "3                              False                          False   \n",
       "4                              False                          False   \n",
       "5                              False                          False   \n",
       "6                              False                          False   \n",
       "7                              False                          False   \n",
       "8                              False                          False   \n",
       "9                              False                          False   \n",
       "10                             False                          False   \n",
       "11                             False                          False   \n",
       "12                             False                          False   \n",
       "13                             False                          False   \n",
       "14                               NaN                            NaN   \n",
       "15                             False                          False   \n",
       "16                             False                          False   \n",
       "17                               NaN                            NaN   \n",
       "18                             False                          False   \n",
       "19                              True                          False   \n",
       "20                             False                          False   \n",
       "21                             False                          False   \n",
       "22                              True                          False   \n",
       "23                              True                          False   \n",
       "24                              True                          False   \n",
       "25                              True                          False   \n",
       "26                              True                          False   \n",
       "\n",
       "   hdpData.homeInfo.currency hdpData.homeInfo.country  \\\n",
       "0                        USD                      USA   \n",
       "1                        USD                      USA   \n",
       "2                        NaN                      NaN   \n",
       "3                        USD                      USA   \n",
       "4                        USD                      USA   \n",
       "5                        USD                      USA   \n",
       "6                        USD                      USA   \n",
       "7                        USD                      USA   \n",
       "8                        USD                      USA   \n",
       "9                        USD                      USA   \n",
       "10                       USD                      USA   \n",
       "11                       USD                      USA   \n",
       "12                       USD                      USA   \n",
       "13                       USD                      USA   \n",
       "14                       NaN                      NaN   \n",
       "15                       USD                      USA   \n",
       "16                       USD                      USA   \n",
       "17                       NaN                      NaN   \n",
       "18                       USD                      USA   \n",
       "19                       USD                      USA   \n",
       "20                       USD                      USA   \n",
       "21                       USD                      USA   \n",
       "22                       USD                      USA   \n",
       "23                       USD                      USA   \n",
       "24                       USD                      USA   \n",
       "25                       USD                      USA   \n",
       "26                       USD                      USA   \n",
       "\n",
       "    hdpData.homeInfo.taxAssessedValue hdpData.homeInfo.unit  \\\n",
       "0                             68200.0               Apt 129   \n",
       "1                            249900.0                   NaN   \n",
       "2                                 NaN                   NaN   \n",
       "3                            242700.0                   NaN   \n",
       "4                            259800.0              Unit 504   \n",
       "5                            119900.0               Apt 113   \n",
       "6                            209400.0                   NaN   \n",
       "7                            225200.0                   NaN   \n",
       "8                            215400.0                   NaN   \n",
       "9                            239000.0                   NaN   \n",
       "10                            15070.0                   NaN   \n",
       "11                                NaN                   NaN   \n",
       "12                            25000.0                   NaN   \n",
       "13                            32000.0                   NaN   \n",
       "14                                NaN                   NaN   \n",
       "15                                NaN                   NaN   \n",
       "16                           275000.0                   NaN   \n",
       "17                                NaN                   NaN   \n",
       "18                           253300.0                   NaN   \n",
       "19                                NaN                   NaN   \n",
       "20                                NaN                   NaN   \n",
       "21                            28000.0                   NaN   \n",
       "22                                NaN                   NaN   \n",
       "23                                NaN                   NaN   \n",
       "24                                NaN                   NaN   \n",
       "25                                NaN                   NaN   \n",
       "26                                NaN                   NaN   \n",
       "\n",
       "   hdpData.homeInfo.isShowcaseListing variableData.type  \\\n",
       "0                               False               NaN   \n",
       "1                               False   PRICE_REDUCTION   \n",
       "2                                 NaN               NaN   \n",
       "3                               False           3D_HOME   \n",
       "4                               False               NaN   \n",
       "5                               False      TIME_ON_INFO   \n",
       "6                               False               NaN   \n",
       "7                               False   PRICE_REDUCTION   \n",
       "8                               False   PRICE_REDUCTION   \n",
       "9                               False   PRICE_REDUCTION   \n",
       "10                              False        OPEN_HOUSE   \n",
       "11                              False               NaN   \n",
       "12                              False   PRICE_REDUCTION   \n",
       "13                              False               NaN   \n",
       "14                                NaN               NaN   \n",
       "15                              False               NaN   \n",
       "16                              False               NaN   \n",
       "17                                NaN               NaN   \n",
       "18                              False               NaN   \n",
       "19                              False        OPEN_HOUSE   \n",
       "20                              False               NaN   \n",
       "21                              False               NaN   \n",
       "22                              False        OPEN_HOUSE   \n",
       "23                              False        OPEN_HOUSE   \n",
       "24                              False        OPEN_HOUSE   \n",
       "25                              False        OPEN_HOUSE   \n",
       "26                              False        OPEN_HOUSE   \n",
       "\n",
       "             variableData.text  hdpData.homeInfo.datePriceChanged  \\\n",
       "0                          NaN                                NaN   \n",
       "1              $6,000 (Jun 19)                       1.687158e+12   \n",
       "2                          NaN                                NaN   \n",
       "3                      3D Tour                                NaN   \n",
       "4                          NaN                                NaN   \n",
       "5                  6 hours ago                                NaN   \n",
       "6                          NaN                                NaN   \n",
       "7              $9,999 (Jun 20)                       1.687244e+12   \n",
       "8             $46,000 (Jun 15)                       1.686812e+12   \n",
       "9                $500 (Jun 13)                       1.686640e+12   \n",
       "10            Open: Sun. 2-4pm                       1.685689e+12   \n",
       "11                         NaN                                NaN   \n",
       "12             $34,900 (Jun 1)                       1.685603e+12   \n",
       "13                         NaN                                NaN   \n",
       "14                         NaN                                NaN   \n",
       "15                         NaN                                NaN   \n",
       "16                         NaN                       1.673683e+12   \n",
       "17                         NaN                                NaN   \n",
       "18                         NaN                                NaN   \n",
       "19  Open: Daily: Sun 1 - 6p...                       1.685689e+12   \n",
       "20                         NaN                                NaN   \n",
       "21                         NaN                                NaN   \n",
       "22  Open: Daily: Sun 1 - 6p...                                NaN   \n",
       "23  Open: Daily: Sun 1 - 6p...                       1.683529e+12   \n",
       "24  Open: Daily: Sun 1 - 6p...                                NaN   \n",
       "25  Open: Daily: Sun 1 - 6p...                       1.683529e+12   \n",
       "26  Open: Daily: Sun 1 - 6p...                                NaN   \n",
       "\n",
       "   hdpData.homeInfo.priceReduction  hdpData.homeInfo.priceChange  \\\n",
       "0                              NaN                           NaN   \n",
       "1                  $6,000 (Jun 19)                       -6000.0   \n",
       "2                              NaN                           NaN   \n",
       "3                              NaN                           NaN   \n",
       "4                              NaN                           NaN   \n",
       "5                              NaN                           NaN   \n",
       "6                              NaN                           NaN   \n",
       "7                  $9,999 (Jun 20)                       -9999.0   \n",
       "8                 $46,000 (Jun 15)                      -46000.0   \n",
       "9                    $500 (Jun 13)                        -500.0   \n",
       "10                             NaN                       20490.0   \n",
       "11                             NaN                           NaN   \n",
       "12                 $34,900 (Jun 1)                      -34900.0   \n",
       "13                             NaN                           NaN   \n",
       "14                             NaN                           NaN   \n",
       "15                             NaN                           NaN   \n",
       "16                                                       -5100.0   \n",
       "17                             NaN                           NaN   \n",
       "18                             NaN                           NaN   \n",
       "19                             NaN                        5000.0   \n",
       "20                             NaN                           NaN   \n",
       "21                             NaN                           NaN   \n",
       "22                             NaN                           NaN   \n",
       "23                             NaN                        2000.0   \n",
       "24                             NaN                           NaN   \n",
       "25                             NaN                        2000.0   \n",
       "26                             NaN                           NaN   \n",
       "\n",
       "    hdpData.homeInfo.lotAreaValue hdpData.homeInfo.lotAreaUnit  \\\n",
       "0                             NaN                          NaN   \n",
       "1                            0.43                        acres   \n",
       "2                             NaN                          NaN   \n",
       "3                             NaN                          NaN   \n",
       "4                             NaN                          NaN   \n",
       "5                             NaN                          NaN   \n",
       "6                            0.63                        acres   \n",
       "7                             NaN                          NaN   \n",
       "8                             NaN                          NaN   \n",
       "9                             NaN                          NaN   \n",
       "10                           0.50                        acres   \n",
       "11                           0.88                        acres   \n",
       "12                           0.75                        acres   \n",
       "13                           0.58                        acres   \n",
       "14                            NaN                          NaN   \n",
       "15                           2.58                        acres   \n",
       "16                        2178.00                         sqft   \n",
       "17                            NaN                          NaN   \n",
       "18                            NaN                          NaN   \n",
       "19                        3000.00                         sqft   \n",
       "20                           3.11                        acres   \n",
       "21                           3.60                        acres   \n",
       "22                        8712.00                         sqft   \n",
       "23                        3000.00                         sqft   \n",
       "24                        4356.00                         sqft   \n",
       "25                        3000.00                         sqft   \n",
       "26                        4356.00                         sqft   \n",
       "\n",
       "              buildingId         lotId  minBeds  minBaths  minArea  unitCount  \\\n",
       "0                    NaN           NaN      NaN       NaN      NaN        NaN   \n",
       "1                    NaN           NaN      NaN       NaN      NaN        NaN   \n",
       "2    34.693653--82.83822  1.001769e+09      4.0       2.0   1000.0        2.0   \n",
       "3                    NaN           NaN      NaN       NaN      NaN        NaN   \n",
       "4                    NaN           NaN      NaN       NaN      NaN        NaN   \n",
       "5                    NaN           NaN      NaN       NaN      NaN        NaN   \n",
       "6                    NaN           NaN      NaN       NaN      NaN        NaN   \n",
       "7                    NaN           NaN      NaN       NaN      NaN        NaN   \n",
       "8                    NaN           NaN      NaN       NaN      NaN        NaN   \n",
       "9                    NaN           NaN      NaN       NaN      NaN        NaN   \n",
       "10                   NaN           NaN      NaN       NaN      NaN        NaN   \n",
       "11                   NaN           NaN      NaN       NaN      NaN        NaN   \n",
       "12                   NaN           NaN      NaN       NaN      NaN        NaN   \n",
       "13                   NaN           NaN      NaN       NaN      NaN        NaN   \n",
       "14    34.6715--82.808525           NaN      3.0       3.0   1226.0        4.0   \n",
       "15                   NaN           NaN      NaN       NaN      NaN        NaN   \n",
       "16                   NaN           NaN      NaN       NaN      NaN        NaN   \n",
       "17  34.691334--82.775604           NaN      3.0       2.0   1741.0       43.0   \n",
       "18                   NaN           NaN      NaN       NaN      NaN        NaN   \n",
       "19                   NaN           NaN      NaN       NaN      NaN        NaN   \n",
       "20                   NaN           NaN      NaN       NaN      NaN        NaN   \n",
       "21                   NaN           NaN      NaN       NaN      NaN        NaN   \n",
       "22                   NaN           NaN      NaN       NaN      NaN        NaN   \n",
       "23                   NaN           NaN      NaN       NaN      NaN        NaN   \n",
       "24                   NaN           NaN      NaN       NaN      NaN        NaN   \n",
       "25                   NaN           NaN      NaN       NaN      NaN        NaN   \n",
       "26                   NaN           NaN      NaN       NaN      NaN        NaN   \n",
       "\n",
       "   isBuilding  badgeInfo canSaveBuilding variableData.data.isFresh  \\\n",
       "0         NaN        NaN             NaN                       NaN   \n",
       "1         NaN        NaN             NaN                       NaN   \n",
       "2        True        NaN           False                       NaN   \n",
       "3         NaN        NaN             NaN                       NaN   \n",
       "4         NaN        NaN             NaN                       NaN   \n",
       "5         NaN        NaN             NaN                     False   \n",
       "6         NaN        NaN             NaN                       NaN   \n",
       "7         NaN        NaN             NaN                       NaN   \n",
       "8         NaN        NaN             NaN                       NaN   \n",
       "9         NaN        NaN             NaN                       NaN   \n",
       "10        NaN        NaN             NaN                       NaN   \n",
       "11        NaN        NaN             NaN                       NaN   \n",
       "12        NaN        NaN             NaN                       NaN   \n",
       "13        NaN        NaN             NaN                       NaN   \n",
       "14       True        NaN           False                       NaN   \n",
       "15        NaN        NaN             NaN                       NaN   \n",
       "16        NaN        NaN             NaN                       NaN   \n",
       "17       True        NaN           False                       NaN   \n",
       "18        NaN        NaN             NaN                       NaN   \n",
       "19        NaN        NaN             NaN                       NaN   \n",
       "20        NaN        NaN             NaN                       NaN   \n",
       "21        NaN        NaN             NaN                       NaN   \n",
       "22        NaN        NaN             NaN                       NaN   \n",
       "23        NaN        NaN             NaN                       NaN   \n",
       "24        NaN        NaN             NaN                       NaN   \n",
       "25        NaN        NaN             NaN                       NaN   \n",
       "26        NaN        NaN             NaN                       NaN   \n",
       "\n",
       "   hdpData.homeInfo.listing_sub_type.is_openHouse hdpData.homeInfo.openHouse  \\\n",
       "0                                             NaN                        NaN   \n",
       "1                                             NaN                        NaN   \n",
       "2                                             NaN                        NaN   \n",
       "3                                             NaN                        NaN   \n",
       "4                                             NaN                        NaN   \n",
       "5                                             NaN                        NaN   \n",
       "6                                             NaN                        NaN   \n",
       "7                                             NaN                        NaN   \n",
       "8                                             NaN                        NaN   \n",
       "9                                             NaN                        NaN   \n",
       "10                                           True                 Sun. 2-4pm   \n",
       "11                                            NaN                        NaN   \n",
       "12                                            NaN                        NaN   \n",
       "13                                            NaN                        NaN   \n",
       "14                                            NaN                        NaN   \n",
       "15                                            NaN                        NaN   \n",
       "16                                            NaN                        NaN   \n",
       "17                                            NaN                        NaN   \n",
       "18                                            NaN                        NaN   \n",
       "19                                           True              Sat. 11am-4pm   \n",
       "20                                            NaN                        NaN   \n",
       "21                                            NaN                        NaN   \n",
       "22                                            NaN                        NaN   \n",
       "23                                            NaN                        NaN   \n",
       "24                                            NaN                        NaN   \n",
       "25                                            NaN                        NaN   \n",
       "26                                            NaN                        NaN   \n",
       "\n",
       "   hdpData.homeInfo.open_house_info.open_house_showing lotAreaString  \\\n",
       "0                                                 NaN            NaN   \n",
       "1                                                 NaN            NaN   \n",
       "2                                                 NaN            NaN   \n",
       "3                                                 NaN            NaN   \n",
       "4                                                 NaN            NaN   \n",
       "5                                                 NaN            NaN   \n",
       "6                                                 NaN            NaN   \n",
       "7                                                 NaN            NaN   \n",
       "8                                                 NaN            NaN   \n",
       "9                                                 NaN            NaN   \n",
       "10  [{'open_house_start': 1687726800000, 'open_hou...            NaN   \n",
       "11                                                NaN     0.88 acres   \n",
       "12                                                NaN     0.75 acres   \n",
       "13                                                NaN     0.58 acres   \n",
       "14                                                NaN            NaN   \n",
       "15                                                NaN     2.58 acres   \n",
       "16                                                NaN            NaN   \n",
       "17                                                NaN            NaN   \n",
       "18                                                NaN            NaN   \n",
       "19  [{'open_house_start': 1687629600000, 'open_hou...            NaN   \n",
       "20                                                NaN     3.11 acres   \n",
       "21                                                NaN      3.6 acres   \n",
       "22                                                NaN            NaN   \n",
       "23                                                NaN            NaN   \n",
       "24                                                NaN            NaN   \n",
       "25                                                NaN            NaN   \n",
       "26                                                NaN            NaN   \n",
       "\n",
       "        plid communityName  style isCdpResult  \\\n",
       "0        NaN           NaN    NaN         NaN   \n",
       "1        NaN           NaN    NaN         NaN   \n",
       "2        NaN           NaN    NaN         NaN   \n",
       "3        NaN           NaN    NaN         NaN   \n",
       "4        NaN           NaN    NaN         NaN   \n",
       "5        NaN           NaN    NaN         NaN   \n",
       "6        NaN           NaN    NaN         NaN   \n",
       "7        NaN           NaN    NaN         NaN   \n",
       "8        NaN           NaN    NaN         NaN   \n",
       "9        NaN           NaN    NaN         NaN   \n",
       "10       NaN           NaN    NaN         NaN   \n",
       "11       NaN           NaN    NaN         NaN   \n",
       "12       NaN           NaN    NaN         NaN   \n",
       "13       NaN           NaN    NaN         NaN   \n",
       "14  29730863  Bamboo Court    NaN        True   \n",
       "15       NaN           NaN    NaN         NaN   \n",
       "16       NaN           NaN    NaN         NaN   \n",
       "17  29759345    The Grange    NaN        True   \n",
       "18       NaN           NaN    NaN         NaN   \n",
       "19       NaN    The Grange    NaN         NaN   \n",
       "20       NaN           NaN    NaN         NaN   \n",
       "21       NaN           NaN    NaN         NaN   \n",
       "22       NaN    The Grange    NaN         NaN   \n",
       "23       NaN    The Grange    NaN         NaN   \n",
       "24       NaN    The Grange    NaN         NaN   \n",
       "25       NaN    The Grange    NaN         NaN   \n",
       "26       NaN    The Grange    NaN         NaN   \n",
       "\n",
       "   hdpData.homeInfo.listing_sub_type.is_newHome  \\\n",
       "0                                           NaN   \n",
       "1                                           NaN   \n",
       "2                                           NaN   \n",
       "3                                           NaN   \n",
       "4                                           NaN   \n",
       "5                                           NaN   \n",
       "6                                           NaN   \n",
       "7                                           NaN   \n",
       "8                                           NaN   \n",
       "9                                           NaN   \n",
       "10                                          NaN   \n",
       "11                                          NaN   \n",
       "12                                          NaN   \n",
       "13                                          NaN   \n",
       "14                                          NaN   \n",
       "15                                          NaN   \n",
       "16                                          NaN   \n",
       "17                                          NaN   \n",
       "18                                          NaN   \n",
       "19                                         True   \n",
       "20                                          NaN   \n",
       "21                                          NaN   \n",
       "22                                         True   \n",
       "23                                         True   \n",
       "24                                         True   \n",
       "25                                         True   \n",
       "26                                         True   \n",
       "\n",
       "   hdpData.homeInfo.providerListingID hdpData.homeInfo.newConstructionType  \n",
       "0                                 NaN                                  NaN  \n",
       "1                                 NaN                                  NaN  \n",
       "2                                 NaN                                  NaN  \n",
       "3                                 NaN                                  NaN  \n",
       "4                                 NaN                                  NaN  \n",
       "5                                 NaN                                  NaN  \n",
       "6                                 NaN                                  NaN  \n",
       "7                                 NaN                                  NaN  \n",
       "8                                 NaN                                  NaN  \n",
       "9                                 NaN                                  NaN  \n",
       "10                                NaN                                  NaN  \n",
       "11                                NaN                                  NaN  \n",
       "12                                NaN                                  NaN  \n",
       "13                                NaN                                  NaN  \n",
       "14                                NaN                                  NaN  \n",
       "15                                NaN                                  NaN  \n",
       "16                                NaN                                  NaN  \n",
       "17                                NaN                                  NaN  \n",
       "18                                NaN                                  NaN  \n",
       "19                           29759345                         BUILDER_SPEC  \n",
       "20                                NaN                                  NaN  \n",
       "21                                NaN                                  NaN  \n",
       "22                           29759345                         BUILDER_SPEC  \n",
       "23                           29759345                         BUILDER_SPEC  \n",
       "24                           29759345                         BUILDER_SPEC  \n",
       "25                           29759345                         BUILDER_SPEC  \n",
       "26                           29759345                         BUILDER_SPEC  "
      ]
     },
     "execution_count": 122,
     "metadata": {},
     "output_type": "execute_result"
    }
   ],
   "source": [
    "# view all listings\n",
    "df_listings = pd.json_normalize(listing_response.json()[\"data\"][\"cat1\"][\"searchResults\"][\"mapResults\"])\n",
    "print(\"Number of rows:\", len(df_listings))\n",
    "print(\"Number of columns:\", len(df_listings.columns))\n",
    "df_listings"
   ]
  },
  {
   "cell_type": "code",
   "execution_count": 123,
   "metadata": {
    "colab": {
     "base_uri": "https://localhost:8080/",
     "height": 542
    },
    "id": "ds2wCJzOJov4",
    "outputId": "09856fdb-9845-453d-91e6-2701c9661152"
   },
   "outputs": [
    {
     "data": {
      "application/vnd.plotly.v1+json": {
       "config": {
        "plotlyServerURL": "https://plot.ly"
       },
       "data": [
        {
         "alignmentgroup": "True",
         "bingroup": "x",
         "hovertemplate": "hdpData.homeInfo.price=%{x}<br>count=%{y}<extra></extra>",
         "legendgroup": "",
         "marker": {
          "color": "#636efa",
          "pattern": {
           "shape": ""
          }
         },
         "name": "",
         "offsetgroup": "",
         "orientation": "v",
         "showlegend": false,
         "type": "histogram",
         "x": [
          135000,
          359000,
          null,
          429450,
          329900,
          440000,
          485000,
          390000,
          439000,
          397000,
          459990,
          49900,
          165000,
          74900,
          null,
          399000,
          459900,
          null,
          429900,
          369990,
          330000,
          440000,
          446990,
          369990,
          392990,
          374990,
          405990
         ],
         "xaxis": "x",
         "yaxis": "y"
        }
       ],
       "layout": {
        "barmode": "relative",
        "legend": {
         "tracegroupgap": 0
        },
        "template": {
         "data": {
          "bar": [
           {
            "error_x": {
             "color": "#2a3f5f"
            },
            "error_y": {
             "color": "#2a3f5f"
            },
            "marker": {
             "line": {
              "color": "#E5ECF6",
              "width": 0.5
             },
             "pattern": {
              "fillmode": "overlay",
              "size": 10,
              "solidity": 0.2
             }
            },
            "type": "bar"
           }
          ],
          "barpolar": [
           {
            "marker": {
             "line": {
              "color": "#E5ECF6",
              "width": 0.5
             },
             "pattern": {
              "fillmode": "overlay",
              "size": 10,
              "solidity": 0.2
             }
            },
            "type": "barpolar"
           }
          ],
          "carpet": [
           {
            "aaxis": {
             "endlinecolor": "#2a3f5f",
             "gridcolor": "white",
             "linecolor": "white",
             "minorgridcolor": "white",
             "startlinecolor": "#2a3f5f"
            },
            "baxis": {
             "endlinecolor": "#2a3f5f",
             "gridcolor": "white",
             "linecolor": "white",
             "minorgridcolor": "white",
             "startlinecolor": "#2a3f5f"
            },
            "type": "carpet"
           }
          ],
          "choropleth": [
           {
            "colorbar": {
             "outlinewidth": 0,
             "ticks": ""
            },
            "type": "choropleth"
           }
          ],
          "contour": [
           {
            "colorbar": {
             "outlinewidth": 0,
             "ticks": ""
            },
            "colorscale": [
             [
              0,
              "#0d0887"
             ],
             [
              0.1111111111111111,
              "#46039f"
             ],
             [
              0.2222222222222222,
              "#7201a8"
             ],
             [
              0.3333333333333333,
              "#9c179e"
             ],
             [
              0.4444444444444444,
              "#bd3786"
             ],
             [
              0.5555555555555556,
              "#d8576b"
             ],
             [
              0.6666666666666666,
              "#ed7953"
             ],
             [
              0.7777777777777778,
              "#fb9f3a"
             ],
             [
              0.8888888888888888,
              "#fdca26"
             ],
             [
              1,
              "#f0f921"
             ]
            ],
            "type": "contour"
           }
          ],
          "contourcarpet": [
           {
            "colorbar": {
             "outlinewidth": 0,
             "ticks": ""
            },
            "type": "contourcarpet"
           }
          ],
          "heatmap": [
           {
            "colorbar": {
             "outlinewidth": 0,
             "ticks": ""
            },
            "colorscale": [
             [
              0,
              "#0d0887"
             ],
             [
              0.1111111111111111,
              "#46039f"
             ],
             [
              0.2222222222222222,
              "#7201a8"
             ],
             [
              0.3333333333333333,
              "#9c179e"
             ],
             [
              0.4444444444444444,
              "#bd3786"
             ],
             [
              0.5555555555555556,
              "#d8576b"
             ],
             [
              0.6666666666666666,
              "#ed7953"
             ],
             [
              0.7777777777777778,
              "#fb9f3a"
             ],
             [
              0.8888888888888888,
              "#fdca26"
             ],
             [
              1,
              "#f0f921"
             ]
            ],
            "type": "heatmap"
           }
          ],
          "heatmapgl": [
           {
            "colorbar": {
             "outlinewidth": 0,
             "ticks": ""
            },
            "colorscale": [
             [
              0,
              "#0d0887"
             ],
             [
              0.1111111111111111,
              "#46039f"
             ],
             [
              0.2222222222222222,
              "#7201a8"
             ],
             [
              0.3333333333333333,
              "#9c179e"
             ],
             [
              0.4444444444444444,
              "#bd3786"
             ],
             [
              0.5555555555555556,
              "#d8576b"
             ],
             [
              0.6666666666666666,
              "#ed7953"
             ],
             [
              0.7777777777777778,
              "#fb9f3a"
             ],
             [
              0.8888888888888888,
              "#fdca26"
             ],
             [
              1,
              "#f0f921"
             ]
            ],
            "type": "heatmapgl"
           }
          ],
          "histogram": [
           {
            "marker": {
             "pattern": {
              "fillmode": "overlay",
              "size": 10,
              "solidity": 0.2
             }
            },
            "type": "histogram"
           }
          ],
          "histogram2d": [
           {
            "colorbar": {
             "outlinewidth": 0,
             "ticks": ""
            },
            "colorscale": [
             [
              0,
              "#0d0887"
             ],
             [
              0.1111111111111111,
              "#46039f"
             ],
             [
              0.2222222222222222,
              "#7201a8"
             ],
             [
              0.3333333333333333,
              "#9c179e"
             ],
             [
              0.4444444444444444,
              "#bd3786"
             ],
             [
              0.5555555555555556,
              "#d8576b"
             ],
             [
              0.6666666666666666,
              "#ed7953"
             ],
             [
              0.7777777777777778,
              "#fb9f3a"
             ],
             [
              0.8888888888888888,
              "#fdca26"
             ],
             [
              1,
              "#f0f921"
             ]
            ],
            "type": "histogram2d"
           }
          ],
          "histogram2dcontour": [
           {
            "colorbar": {
             "outlinewidth": 0,
             "ticks": ""
            },
            "colorscale": [
             [
              0,
              "#0d0887"
             ],
             [
              0.1111111111111111,
              "#46039f"
             ],
             [
              0.2222222222222222,
              "#7201a8"
             ],
             [
              0.3333333333333333,
              "#9c179e"
             ],
             [
              0.4444444444444444,
              "#bd3786"
             ],
             [
              0.5555555555555556,
              "#d8576b"
             ],
             [
              0.6666666666666666,
              "#ed7953"
             ],
             [
              0.7777777777777778,
              "#fb9f3a"
             ],
             [
              0.8888888888888888,
              "#fdca26"
             ],
             [
              1,
              "#f0f921"
             ]
            ],
            "type": "histogram2dcontour"
           }
          ],
          "mesh3d": [
           {
            "colorbar": {
             "outlinewidth": 0,
             "ticks": ""
            },
            "type": "mesh3d"
           }
          ],
          "parcoords": [
           {
            "line": {
             "colorbar": {
              "outlinewidth": 0,
              "ticks": ""
             }
            },
            "type": "parcoords"
           }
          ],
          "pie": [
           {
            "automargin": true,
            "type": "pie"
           }
          ],
          "scatter": [
           {
            "fillpattern": {
             "fillmode": "overlay",
             "size": 10,
             "solidity": 0.2
            },
            "type": "scatter"
           }
          ],
          "scatter3d": [
           {
            "line": {
             "colorbar": {
              "outlinewidth": 0,
              "ticks": ""
             }
            },
            "marker": {
             "colorbar": {
              "outlinewidth": 0,
              "ticks": ""
             }
            },
            "type": "scatter3d"
           }
          ],
          "scattercarpet": [
           {
            "marker": {
             "colorbar": {
              "outlinewidth": 0,
              "ticks": ""
             }
            },
            "type": "scattercarpet"
           }
          ],
          "scattergeo": [
           {
            "marker": {
             "colorbar": {
              "outlinewidth": 0,
              "ticks": ""
             }
            },
            "type": "scattergeo"
           }
          ],
          "scattergl": [
           {
            "marker": {
             "colorbar": {
              "outlinewidth": 0,
              "ticks": ""
             }
            },
            "type": "scattergl"
           }
          ],
          "scattermapbox": [
           {
            "marker": {
             "colorbar": {
              "outlinewidth": 0,
              "ticks": ""
             }
            },
            "type": "scattermapbox"
           }
          ],
          "scatterpolar": [
           {
            "marker": {
             "colorbar": {
              "outlinewidth": 0,
              "ticks": ""
             }
            },
            "type": "scatterpolar"
           }
          ],
          "scatterpolargl": [
           {
            "marker": {
             "colorbar": {
              "outlinewidth": 0,
              "ticks": ""
             }
            },
            "type": "scatterpolargl"
           }
          ],
          "scatterternary": [
           {
            "marker": {
             "colorbar": {
              "outlinewidth": 0,
              "ticks": ""
             }
            },
            "type": "scatterternary"
           }
          ],
          "surface": [
           {
            "colorbar": {
             "outlinewidth": 0,
             "ticks": ""
            },
            "colorscale": [
             [
              0,
              "#0d0887"
             ],
             [
              0.1111111111111111,
              "#46039f"
             ],
             [
              0.2222222222222222,
              "#7201a8"
             ],
             [
              0.3333333333333333,
              "#9c179e"
             ],
             [
              0.4444444444444444,
              "#bd3786"
             ],
             [
              0.5555555555555556,
              "#d8576b"
             ],
             [
              0.6666666666666666,
              "#ed7953"
             ],
             [
              0.7777777777777778,
              "#fb9f3a"
             ],
             [
              0.8888888888888888,
              "#fdca26"
             ],
             [
              1,
              "#f0f921"
             ]
            ],
            "type": "surface"
           }
          ],
          "table": [
           {
            "cells": {
             "fill": {
              "color": "#EBF0F8"
             },
             "line": {
              "color": "white"
             }
            },
            "header": {
             "fill": {
              "color": "#C8D4E3"
             },
             "line": {
              "color": "white"
             }
            },
            "type": "table"
           }
          ]
         },
         "layout": {
          "annotationdefaults": {
           "arrowcolor": "#2a3f5f",
           "arrowhead": 0,
           "arrowwidth": 1
          },
          "autotypenumbers": "strict",
          "coloraxis": {
           "colorbar": {
            "outlinewidth": 0,
            "ticks": ""
           }
          },
          "colorscale": {
           "diverging": [
            [
             0,
             "#8e0152"
            ],
            [
             0.1,
             "#c51b7d"
            ],
            [
             0.2,
             "#de77ae"
            ],
            [
             0.3,
             "#f1b6da"
            ],
            [
             0.4,
             "#fde0ef"
            ],
            [
             0.5,
             "#f7f7f7"
            ],
            [
             0.6,
             "#e6f5d0"
            ],
            [
             0.7,
             "#b8e186"
            ],
            [
             0.8,
             "#7fbc41"
            ],
            [
             0.9,
             "#4d9221"
            ],
            [
             1,
             "#276419"
            ]
           ],
           "sequential": [
            [
             0,
             "#0d0887"
            ],
            [
             0.1111111111111111,
             "#46039f"
            ],
            [
             0.2222222222222222,
             "#7201a8"
            ],
            [
             0.3333333333333333,
             "#9c179e"
            ],
            [
             0.4444444444444444,
             "#bd3786"
            ],
            [
             0.5555555555555556,
             "#d8576b"
            ],
            [
             0.6666666666666666,
             "#ed7953"
            ],
            [
             0.7777777777777778,
             "#fb9f3a"
            ],
            [
             0.8888888888888888,
             "#fdca26"
            ],
            [
             1,
             "#f0f921"
            ]
           ],
           "sequentialminus": [
            [
             0,
             "#0d0887"
            ],
            [
             0.1111111111111111,
             "#46039f"
            ],
            [
             0.2222222222222222,
             "#7201a8"
            ],
            [
             0.3333333333333333,
             "#9c179e"
            ],
            [
             0.4444444444444444,
             "#bd3786"
            ],
            [
             0.5555555555555556,
             "#d8576b"
            ],
            [
             0.6666666666666666,
             "#ed7953"
            ],
            [
             0.7777777777777778,
             "#fb9f3a"
            ],
            [
             0.8888888888888888,
             "#fdca26"
            ],
            [
             1,
             "#f0f921"
            ]
           ]
          },
          "colorway": [
           "#636efa",
           "#EF553B",
           "#00cc96",
           "#ab63fa",
           "#FFA15A",
           "#19d3f3",
           "#FF6692",
           "#B6E880",
           "#FF97FF",
           "#FECB52"
          ],
          "font": {
           "color": "#2a3f5f"
          },
          "geo": {
           "bgcolor": "white",
           "lakecolor": "white",
           "landcolor": "#E5ECF6",
           "showlakes": true,
           "showland": true,
           "subunitcolor": "white"
          },
          "hoverlabel": {
           "align": "left"
          },
          "hovermode": "closest",
          "mapbox": {
           "style": "light"
          },
          "paper_bgcolor": "white",
          "plot_bgcolor": "#E5ECF6",
          "polar": {
           "angularaxis": {
            "gridcolor": "white",
            "linecolor": "white",
            "ticks": ""
           },
           "bgcolor": "#E5ECF6",
           "radialaxis": {
            "gridcolor": "white",
            "linecolor": "white",
            "ticks": ""
           }
          },
          "scene": {
           "xaxis": {
            "backgroundcolor": "#E5ECF6",
            "gridcolor": "white",
            "gridwidth": 2,
            "linecolor": "white",
            "showbackground": true,
            "ticks": "",
            "zerolinecolor": "white"
           },
           "yaxis": {
            "backgroundcolor": "#E5ECF6",
            "gridcolor": "white",
            "gridwidth": 2,
            "linecolor": "white",
            "showbackground": true,
            "ticks": "",
            "zerolinecolor": "white"
           },
           "zaxis": {
            "backgroundcolor": "#E5ECF6",
            "gridcolor": "white",
            "gridwidth": 2,
            "linecolor": "white",
            "showbackground": true,
            "ticks": "",
            "zerolinecolor": "white"
           }
          },
          "shapedefaults": {
           "line": {
            "color": "#2a3f5f"
           }
          },
          "ternary": {
           "aaxis": {
            "gridcolor": "white",
            "linecolor": "white",
            "ticks": ""
           },
           "baxis": {
            "gridcolor": "white",
            "linecolor": "white",
            "ticks": ""
           },
           "bgcolor": "#E5ECF6",
           "caxis": {
            "gridcolor": "white",
            "linecolor": "white",
            "ticks": ""
           }
          },
          "title": {
           "x": 0.05
          },
          "xaxis": {
           "automargin": true,
           "gridcolor": "white",
           "linecolor": "white",
           "ticks": "",
           "title": {
            "standoff": 15
           },
           "zerolinecolor": "white",
           "zerolinewidth": 2
          },
          "yaxis": {
           "automargin": true,
           "gridcolor": "white",
           "linecolor": "white",
           "ticks": "",
           "title": {
            "standoff": 15
           },
           "zerolinecolor": "white",
           "zerolinewidth": 2
          }
         }
        },
        "title": {
         "text": "Sales Price Histogram"
        },
        "xaxis": {
         "anchor": "y",
         "domain": [
          0,
          1
         ],
         "title": {
          "text": "hdpData.homeInfo.price"
         }
        },
        "yaxis": {
         "anchor": "x",
         "domain": [
          0,
          1
         ],
         "title": {
          "text": "count"
         }
        }
       }
      },
      "text/html": [
       "<div>                            <div id=\"dfeeb773-bae3-448a-871a-aef1ce722b4a\" class=\"plotly-graph-div\" style=\"height:525px; width:100%;\"></div>            <script type=\"text/javascript\">                require([\"plotly\"], function(Plotly) {                    window.PLOTLYENV=window.PLOTLYENV || {};                                    if (document.getElementById(\"dfeeb773-bae3-448a-871a-aef1ce722b4a\")) {                    Plotly.newPlot(                        \"dfeeb773-bae3-448a-871a-aef1ce722b4a\",                        [{\"alignmentgroup\":\"True\",\"bingroup\":\"x\",\"hovertemplate\":\"hdpData.homeInfo.price=%{x}<br>count=%{y}<extra></extra>\",\"legendgroup\":\"\",\"marker\":{\"color\":\"#636efa\",\"pattern\":{\"shape\":\"\"}},\"name\":\"\",\"offsetgroup\":\"\",\"orientation\":\"v\",\"showlegend\":false,\"x\":[135000.0,359000.0,null,429450.0,329900.0,440000.0,485000.0,390000.0,439000.0,397000.0,459990.0,49900.0,165000.0,74900.0,null,399000.0,459900.0,null,429900.0,369990.0,330000.0,440000.0,446990.0,369990.0,392990.0,374990.0,405990.0],\"xaxis\":\"x\",\"yaxis\":\"y\",\"type\":\"histogram\"}],                        {\"template\":{\"data\":{\"histogram2dcontour\":[{\"type\":\"histogram2dcontour\",\"colorbar\":{\"outlinewidth\":0,\"ticks\":\"\"},\"colorscale\":[[0.0,\"#0d0887\"],[0.1111111111111111,\"#46039f\"],[0.2222222222222222,\"#7201a8\"],[0.3333333333333333,\"#9c179e\"],[0.4444444444444444,\"#bd3786\"],[0.5555555555555556,\"#d8576b\"],[0.6666666666666666,\"#ed7953\"],[0.7777777777777778,\"#fb9f3a\"],[0.8888888888888888,\"#fdca26\"],[1.0,\"#f0f921\"]]}],\"choropleth\":[{\"type\":\"choropleth\",\"colorbar\":{\"outlinewidth\":0,\"ticks\":\"\"}}],\"histogram2d\":[{\"type\":\"histogram2d\",\"colorbar\":{\"outlinewidth\":0,\"ticks\":\"\"},\"colorscale\":[[0.0,\"#0d0887\"],[0.1111111111111111,\"#46039f\"],[0.2222222222222222,\"#7201a8\"],[0.3333333333333333,\"#9c179e\"],[0.4444444444444444,\"#bd3786\"],[0.5555555555555556,\"#d8576b\"],[0.6666666666666666,\"#ed7953\"],[0.7777777777777778,\"#fb9f3a\"],[0.8888888888888888,\"#fdca26\"],[1.0,\"#f0f921\"]]}],\"heatmap\":[{\"type\":\"heatmap\",\"colorbar\":{\"outlinewidth\":0,\"ticks\":\"\"},\"colorscale\":[[0.0,\"#0d0887\"],[0.1111111111111111,\"#46039f\"],[0.2222222222222222,\"#7201a8\"],[0.3333333333333333,\"#9c179e\"],[0.4444444444444444,\"#bd3786\"],[0.5555555555555556,\"#d8576b\"],[0.6666666666666666,\"#ed7953\"],[0.7777777777777778,\"#fb9f3a\"],[0.8888888888888888,\"#fdca26\"],[1.0,\"#f0f921\"]]}],\"heatmapgl\":[{\"type\":\"heatmapgl\",\"colorbar\":{\"outlinewidth\":0,\"ticks\":\"\"},\"colorscale\":[[0.0,\"#0d0887\"],[0.1111111111111111,\"#46039f\"],[0.2222222222222222,\"#7201a8\"],[0.3333333333333333,\"#9c179e\"],[0.4444444444444444,\"#bd3786\"],[0.5555555555555556,\"#d8576b\"],[0.6666666666666666,\"#ed7953\"],[0.7777777777777778,\"#fb9f3a\"],[0.8888888888888888,\"#fdca26\"],[1.0,\"#f0f921\"]]}],\"contourcarpet\":[{\"type\":\"contourcarpet\",\"colorbar\":{\"outlinewidth\":0,\"ticks\":\"\"}}],\"contour\":[{\"type\":\"contour\",\"colorbar\":{\"outlinewidth\":0,\"ticks\":\"\"},\"colorscale\":[[0.0,\"#0d0887\"],[0.1111111111111111,\"#46039f\"],[0.2222222222222222,\"#7201a8\"],[0.3333333333333333,\"#9c179e\"],[0.4444444444444444,\"#bd3786\"],[0.5555555555555556,\"#d8576b\"],[0.6666666666666666,\"#ed7953\"],[0.7777777777777778,\"#fb9f3a\"],[0.8888888888888888,\"#fdca26\"],[1.0,\"#f0f921\"]]}],\"surface\":[{\"type\":\"surface\",\"colorbar\":{\"outlinewidth\":0,\"ticks\":\"\"},\"colorscale\":[[0.0,\"#0d0887\"],[0.1111111111111111,\"#46039f\"],[0.2222222222222222,\"#7201a8\"],[0.3333333333333333,\"#9c179e\"],[0.4444444444444444,\"#bd3786\"],[0.5555555555555556,\"#d8576b\"],[0.6666666666666666,\"#ed7953\"],[0.7777777777777778,\"#fb9f3a\"],[0.8888888888888888,\"#fdca26\"],[1.0,\"#f0f921\"]]}],\"mesh3d\":[{\"type\":\"mesh3d\",\"colorbar\":{\"outlinewidth\":0,\"ticks\":\"\"}}],\"scatter\":[{\"fillpattern\":{\"fillmode\":\"overlay\",\"size\":10,\"solidity\":0.2},\"type\":\"scatter\"}],\"parcoords\":[{\"type\":\"parcoords\",\"line\":{\"colorbar\":{\"outlinewidth\":0,\"ticks\":\"\"}}}],\"scatterpolargl\":[{\"type\":\"scatterpolargl\",\"marker\":{\"colorbar\":{\"outlinewidth\":0,\"ticks\":\"\"}}}],\"bar\":[{\"error_x\":{\"color\":\"#2a3f5f\"},\"error_y\":{\"color\":\"#2a3f5f\"},\"marker\":{\"line\":{\"color\":\"#E5ECF6\",\"width\":0.5},\"pattern\":{\"fillmode\":\"overlay\",\"size\":10,\"solidity\":0.2}},\"type\":\"bar\"}],\"scattergeo\":[{\"type\":\"scattergeo\",\"marker\":{\"colorbar\":{\"outlinewidth\":0,\"ticks\":\"\"}}}],\"scatterpolar\":[{\"type\":\"scatterpolar\",\"marker\":{\"colorbar\":{\"outlinewidth\":0,\"ticks\":\"\"}}}],\"histogram\":[{\"marker\":{\"pattern\":{\"fillmode\":\"overlay\",\"size\":10,\"solidity\":0.2}},\"type\":\"histogram\"}],\"scattergl\":[{\"type\":\"scattergl\",\"marker\":{\"colorbar\":{\"outlinewidth\":0,\"ticks\":\"\"}}}],\"scatter3d\":[{\"type\":\"scatter3d\",\"line\":{\"colorbar\":{\"outlinewidth\":0,\"ticks\":\"\"}},\"marker\":{\"colorbar\":{\"outlinewidth\":0,\"ticks\":\"\"}}}],\"scattermapbox\":[{\"type\":\"scattermapbox\",\"marker\":{\"colorbar\":{\"outlinewidth\":0,\"ticks\":\"\"}}}],\"scatterternary\":[{\"type\":\"scatterternary\",\"marker\":{\"colorbar\":{\"outlinewidth\":0,\"ticks\":\"\"}}}],\"scattercarpet\":[{\"type\":\"scattercarpet\",\"marker\":{\"colorbar\":{\"outlinewidth\":0,\"ticks\":\"\"}}}],\"carpet\":[{\"aaxis\":{\"endlinecolor\":\"#2a3f5f\",\"gridcolor\":\"white\",\"linecolor\":\"white\",\"minorgridcolor\":\"white\",\"startlinecolor\":\"#2a3f5f\"},\"baxis\":{\"endlinecolor\":\"#2a3f5f\",\"gridcolor\":\"white\",\"linecolor\":\"white\",\"minorgridcolor\":\"white\",\"startlinecolor\":\"#2a3f5f\"},\"type\":\"carpet\"}],\"table\":[{\"cells\":{\"fill\":{\"color\":\"#EBF0F8\"},\"line\":{\"color\":\"white\"}},\"header\":{\"fill\":{\"color\":\"#C8D4E3\"},\"line\":{\"color\":\"white\"}},\"type\":\"table\"}],\"barpolar\":[{\"marker\":{\"line\":{\"color\":\"#E5ECF6\",\"width\":0.5},\"pattern\":{\"fillmode\":\"overlay\",\"size\":10,\"solidity\":0.2}},\"type\":\"barpolar\"}],\"pie\":[{\"automargin\":true,\"type\":\"pie\"}]},\"layout\":{\"autotypenumbers\":\"strict\",\"colorway\":[\"#636efa\",\"#EF553B\",\"#00cc96\",\"#ab63fa\",\"#FFA15A\",\"#19d3f3\",\"#FF6692\",\"#B6E880\",\"#FF97FF\",\"#FECB52\"],\"font\":{\"color\":\"#2a3f5f\"},\"hovermode\":\"closest\",\"hoverlabel\":{\"align\":\"left\"},\"paper_bgcolor\":\"white\",\"plot_bgcolor\":\"#E5ECF6\",\"polar\":{\"bgcolor\":\"#E5ECF6\",\"angularaxis\":{\"gridcolor\":\"white\",\"linecolor\":\"white\",\"ticks\":\"\"},\"radialaxis\":{\"gridcolor\":\"white\",\"linecolor\":\"white\",\"ticks\":\"\"}},\"ternary\":{\"bgcolor\":\"#E5ECF6\",\"aaxis\":{\"gridcolor\":\"white\",\"linecolor\":\"white\",\"ticks\":\"\"},\"baxis\":{\"gridcolor\":\"white\",\"linecolor\":\"white\",\"ticks\":\"\"},\"caxis\":{\"gridcolor\":\"white\",\"linecolor\":\"white\",\"ticks\":\"\"}},\"coloraxis\":{\"colorbar\":{\"outlinewidth\":0,\"ticks\":\"\"}},\"colorscale\":{\"sequential\":[[0.0,\"#0d0887\"],[0.1111111111111111,\"#46039f\"],[0.2222222222222222,\"#7201a8\"],[0.3333333333333333,\"#9c179e\"],[0.4444444444444444,\"#bd3786\"],[0.5555555555555556,\"#d8576b\"],[0.6666666666666666,\"#ed7953\"],[0.7777777777777778,\"#fb9f3a\"],[0.8888888888888888,\"#fdca26\"],[1.0,\"#f0f921\"]],\"sequentialminus\":[[0.0,\"#0d0887\"],[0.1111111111111111,\"#46039f\"],[0.2222222222222222,\"#7201a8\"],[0.3333333333333333,\"#9c179e\"],[0.4444444444444444,\"#bd3786\"],[0.5555555555555556,\"#d8576b\"],[0.6666666666666666,\"#ed7953\"],[0.7777777777777778,\"#fb9f3a\"],[0.8888888888888888,\"#fdca26\"],[1.0,\"#f0f921\"]],\"diverging\":[[0,\"#8e0152\"],[0.1,\"#c51b7d\"],[0.2,\"#de77ae\"],[0.3,\"#f1b6da\"],[0.4,\"#fde0ef\"],[0.5,\"#f7f7f7\"],[0.6,\"#e6f5d0\"],[0.7,\"#b8e186\"],[0.8,\"#7fbc41\"],[0.9,\"#4d9221\"],[1,\"#276419\"]]},\"xaxis\":{\"gridcolor\":\"white\",\"linecolor\":\"white\",\"ticks\":\"\",\"title\":{\"standoff\":15},\"zerolinecolor\":\"white\",\"automargin\":true,\"zerolinewidth\":2},\"yaxis\":{\"gridcolor\":\"white\",\"linecolor\":\"white\",\"ticks\":\"\",\"title\":{\"standoff\":15},\"zerolinecolor\":\"white\",\"automargin\":true,\"zerolinewidth\":2},\"scene\":{\"xaxis\":{\"backgroundcolor\":\"#E5ECF6\",\"gridcolor\":\"white\",\"linecolor\":\"white\",\"showbackground\":true,\"ticks\":\"\",\"zerolinecolor\":\"white\",\"gridwidth\":2},\"yaxis\":{\"backgroundcolor\":\"#E5ECF6\",\"gridcolor\":\"white\",\"linecolor\":\"white\",\"showbackground\":true,\"ticks\":\"\",\"zerolinecolor\":\"white\",\"gridwidth\":2},\"zaxis\":{\"backgroundcolor\":\"#E5ECF6\",\"gridcolor\":\"white\",\"linecolor\":\"white\",\"showbackground\":true,\"ticks\":\"\",\"zerolinecolor\":\"white\",\"gridwidth\":2}},\"shapedefaults\":{\"line\":{\"color\":\"#2a3f5f\"}},\"annotationdefaults\":{\"arrowcolor\":\"#2a3f5f\",\"arrowhead\":0,\"arrowwidth\":1},\"geo\":{\"bgcolor\":\"white\",\"landcolor\":\"#E5ECF6\",\"subunitcolor\":\"white\",\"showland\":true,\"showlakes\":true,\"lakecolor\":\"white\"},\"title\":{\"x\":0.05},\"mapbox\":{\"style\":\"light\"}}},\"xaxis\":{\"anchor\":\"y\",\"domain\":[0.0,1.0],\"title\":{\"text\":\"hdpData.homeInfo.price\"}},\"yaxis\":{\"anchor\":\"x\",\"domain\":[0.0,1.0],\"title\":{\"text\":\"count\"}},\"legend\":{\"tracegroupgap\":0},\"title\":{\"text\":\"Sales Price Histogram\"},\"barmode\":\"relative\"},                        {\"responsive\": true}                    ).then(function(){\n",
       "                            \n",
       "var gd = document.getElementById('dfeeb773-bae3-448a-871a-aef1ce722b4a');\n",
       "var x = new MutationObserver(function (mutations, observer) {{\n",
       "        var display = window.getComputedStyle(gd).display;\n",
       "        if (!display || display === 'none') {{\n",
       "            console.log([gd, 'removed!']);\n",
       "            Plotly.purge(gd);\n",
       "            observer.disconnect();\n",
       "        }}\n",
       "}});\n",
       "\n",
       "// Listen for the removal of the full notebook cells\n",
       "var notebookContainer = gd.closest('#notebook-container');\n",
       "if (notebookContainer) {{\n",
       "    x.observe(notebookContainer, {childList: true});\n",
       "}}\n",
       "\n",
       "// Listen for the clearing of the current output cell\n",
       "var outputEl = gd.closest('.output');\n",
       "if (outputEl) {{\n",
       "    x.observe(outputEl, {childList: true});\n",
       "}}\n",
       "\n",
       "                        })                };                });            </script>        </div>"
      ]
     },
     "metadata": {},
     "output_type": "display_data"
    }
   ],
   "source": [
    "# view price\n",
    "px.histogram(df_listings, x=\"hdpData.homeInfo.price\", title=\"Sales Price Histogram\")"
   ]
  },
  {
   "cell_type": "code",
   "execution_count": 124,
   "metadata": {
    "colab": {
     "base_uri": "https://localhost:8080/",
     "height": 542
    },
    "id": "DvQg_ZQQOUbg",
    "outputId": "a9d69dd7-8c02-4bd5-e4f3-ae85bc70d4ee"
   },
   "outputs": [
    {
     "data": {
      "application/vnd.plotly.v1+json": {
       "config": {
        "plotlyServerURL": "https://plot.ly"
       },
       "data": [
        {
         "alignmentgroup": "True",
         "bingroup": "x",
         "hovertemplate": "hdpData.homeInfo.zestimate=%{x}<br>count=%{y}<extra></extra>",
         "legendgroup": "",
         "marker": {
          "color": "#636efa",
          "pattern": {
           "shape": ""
          }
         },
         "name": "",
         "offsetgroup": "",
         "orientation": "v",
         "showlegend": false,
         "type": "histogram",
         "x": [
          135068,
          367447,
          null,
          431500,
          null,
          454818,
          485000,
          401494,
          439628,
          410831,
          472079,
          null,
          null,
          null,
          null,
          null,
          452360,
          null,
          424043,
          368500,
          null,
          null,
          null,
          369700,
          393000,
          374700,
          406000
         ],
         "xaxis": "x",
         "yaxis": "y"
        }
       ],
       "layout": {
        "barmode": "relative",
        "legend": {
         "tracegroupgap": 0
        },
        "template": {
         "data": {
          "bar": [
           {
            "error_x": {
             "color": "#2a3f5f"
            },
            "error_y": {
             "color": "#2a3f5f"
            },
            "marker": {
             "line": {
              "color": "#E5ECF6",
              "width": 0.5
             },
             "pattern": {
              "fillmode": "overlay",
              "size": 10,
              "solidity": 0.2
             }
            },
            "type": "bar"
           }
          ],
          "barpolar": [
           {
            "marker": {
             "line": {
              "color": "#E5ECF6",
              "width": 0.5
             },
             "pattern": {
              "fillmode": "overlay",
              "size": 10,
              "solidity": 0.2
             }
            },
            "type": "barpolar"
           }
          ],
          "carpet": [
           {
            "aaxis": {
             "endlinecolor": "#2a3f5f",
             "gridcolor": "white",
             "linecolor": "white",
             "minorgridcolor": "white",
             "startlinecolor": "#2a3f5f"
            },
            "baxis": {
             "endlinecolor": "#2a3f5f",
             "gridcolor": "white",
             "linecolor": "white",
             "minorgridcolor": "white",
             "startlinecolor": "#2a3f5f"
            },
            "type": "carpet"
           }
          ],
          "choropleth": [
           {
            "colorbar": {
             "outlinewidth": 0,
             "ticks": ""
            },
            "type": "choropleth"
           }
          ],
          "contour": [
           {
            "colorbar": {
             "outlinewidth": 0,
             "ticks": ""
            },
            "colorscale": [
             [
              0,
              "#0d0887"
             ],
             [
              0.1111111111111111,
              "#46039f"
             ],
             [
              0.2222222222222222,
              "#7201a8"
             ],
             [
              0.3333333333333333,
              "#9c179e"
             ],
             [
              0.4444444444444444,
              "#bd3786"
             ],
             [
              0.5555555555555556,
              "#d8576b"
             ],
             [
              0.6666666666666666,
              "#ed7953"
             ],
             [
              0.7777777777777778,
              "#fb9f3a"
             ],
             [
              0.8888888888888888,
              "#fdca26"
             ],
             [
              1,
              "#f0f921"
             ]
            ],
            "type": "contour"
           }
          ],
          "contourcarpet": [
           {
            "colorbar": {
             "outlinewidth": 0,
             "ticks": ""
            },
            "type": "contourcarpet"
           }
          ],
          "heatmap": [
           {
            "colorbar": {
             "outlinewidth": 0,
             "ticks": ""
            },
            "colorscale": [
             [
              0,
              "#0d0887"
             ],
             [
              0.1111111111111111,
              "#46039f"
             ],
             [
              0.2222222222222222,
              "#7201a8"
             ],
             [
              0.3333333333333333,
              "#9c179e"
             ],
             [
              0.4444444444444444,
              "#bd3786"
             ],
             [
              0.5555555555555556,
              "#d8576b"
             ],
             [
              0.6666666666666666,
              "#ed7953"
             ],
             [
              0.7777777777777778,
              "#fb9f3a"
             ],
             [
              0.8888888888888888,
              "#fdca26"
             ],
             [
              1,
              "#f0f921"
             ]
            ],
            "type": "heatmap"
           }
          ],
          "heatmapgl": [
           {
            "colorbar": {
             "outlinewidth": 0,
             "ticks": ""
            },
            "colorscale": [
             [
              0,
              "#0d0887"
             ],
             [
              0.1111111111111111,
              "#46039f"
             ],
             [
              0.2222222222222222,
              "#7201a8"
             ],
             [
              0.3333333333333333,
              "#9c179e"
             ],
             [
              0.4444444444444444,
              "#bd3786"
             ],
             [
              0.5555555555555556,
              "#d8576b"
             ],
             [
              0.6666666666666666,
              "#ed7953"
             ],
             [
              0.7777777777777778,
              "#fb9f3a"
             ],
             [
              0.8888888888888888,
              "#fdca26"
             ],
             [
              1,
              "#f0f921"
             ]
            ],
            "type": "heatmapgl"
           }
          ],
          "histogram": [
           {
            "marker": {
             "pattern": {
              "fillmode": "overlay",
              "size": 10,
              "solidity": 0.2
             }
            },
            "type": "histogram"
           }
          ],
          "histogram2d": [
           {
            "colorbar": {
             "outlinewidth": 0,
             "ticks": ""
            },
            "colorscale": [
             [
              0,
              "#0d0887"
             ],
             [
              0.1111111111111111,
              "#46039f"
             ],
             [
              0.2222222222222222,
              "#7201a8"
             ],
             [
              0.3333333333333333,
              "#9c179e"
             ],
             [
              0.4444444444444444,
              "#bd3786"
             ],
             [
              0.5555555555555556,
              "#d8576b"
             ],
             [
              0.6666666666666666,
              "#ed7953"
             ],
             [
              0.7777777777777778,
              "#fb9f3a"
             ],
             [
              0.8888888888888888,
              "#fdca26"
             ],
             [
              1,
              "#f0f921"
             ]
            ],
            "type": "histogram2d"
           }
          ],
          "histogram2dcontour": [
           {
            "colorbar": {
             "outlinewidth": 0,
             "ticks": ""
            },
            "colorscale": [
             [
              0,
              "#0d0887"
             ],
             [
              0.1111111111111111,
              "#46039f"
             ],
             [
              0.2222222222222222,
              "#7201a8"
             ],
             [
              0.3333333333333333,
              "#9c179e"
             ],
             [
              0.4444444444444444,
              "#bd3786"
             ],
             [
              0.5555555555555556,
              "#d8576b"
             ],
             [
              0.6666666666666666,
              "#ed7953"
             ],
             [
              0.7777777777777778,
              "#fb9f3a"
             ],
             [
              0.8888888888888888,
              "#fdca26"
             ],
             [
              1,
              "#f0f921"
             ]
            ],
            "type": "histogram2dcontour"
           }
          ],
          "mesh3d": [
           {
            "colorbar": {
             "outlinewidth": 0,
             "ticks": ""
            },
            "type": "mesh3d"
           }
          ],
          "parcoords": [
           {
            "line": {
             "colorbar": {
              "outlinewidth": 0,
              "ticks": ""
             }
            },
            "type": "parcoords"
           }
          ],
          "pie": [
           {
            "automargin": true,
            "type": "pie"
           }
          ],
          "scatter": [
           {
            "fillpattern": {
             "fillmode": "overlay",
             "size": 10,
             "solidity": 0.2
            },
            "type": "scatter"
           }
          ],
          "scatter3d": [
           {
            "line": {
             "colorbar": {
              "outlinewidth": 0,
              "ticks": ""
             }
            },
            "marker": {
             "colorbar": {
              "outlinewidth": 0,
              "ticks": ""
             }
            },
            "type": "scatter3d"
           }
          ],
          "scattercarpet": [
           {
            "marker": {
             "colorbar": {
              "outlinewidth": 0,
              "ticks": ""
             }
            },
            "type": "scattercarpet"
           }
          ],
          "scattergeo": [
           {
            "marker": {
             "colorbar": {
              "outlinewidth": 0,
              "ticks": ""
             }
            },
            "type": "scattergeo"
           }
          ],
          "scattergl": [
           {
            "marker": {
             "colorbar": {
              "outlinewidth": 0,
              "ticks": ""
             }
            },
            "type": "scattergl"
           }
          ],
          "scattermapbox": [
           {
            "marker": {
             "colorbar": {
              "outlinewidth": 0,
              "ticks": ""
             }
            },
            "type": "scattermapbox"
           }
          ],
          "scatterpolar": [
           {
            "marker": {
             "colorbar": {
              "outlinewidth": 0,
              "ticks": ""
             }
            },
            "type": "scatterpolar"
           }
          ],
          "scatterpolargl": [
           {
            "marker": {
             "colorbar": {
              "outlinewidth": 0,
              "ticks": ""
             }
            },
            "type": "scatterpolargl"
           }
          ],
          "scatterternary": [
           {
            "marker": {
             "colorbar": {
              "outlinewidth": 0,
              "ticks": ""
             }
            },
            "type": "scatterternary"
           }
          ],
          "surface": [
           {
            "colorbar": {
             "outlinewidth": 0,
             "ticks": ""
            },
            "colorscale": [
             [
              0,
              "#0d0887"
             ],
             [
              0.1111111111111111,
              "#46039f"
             ],
             [
              0.2222222222222222,
              "#7201a8"
             ],
             [
              0.3333333333333333,
              "#9c179e"
             ],
             [
              0.4444444444444444,
              "#bd3786"
             ],
             [
              0.5555555555555556,
              "#d8576b"
             ],
             [
              0.6666666666666666,
              "#ed7953"
             ],
             [
              0.7777777777777778,
              "#fb9f3a"
             ],
             [
              0.8888888888888888,
              "#fdca26"
             ],
             [
              1,
              "#f0f921"
             ]
            ],
            "type": "surface"
           }
          ],
          "table": [
           {
            "cells": {
             "fill": {
              "color": "#EBF0F8"
             },
             "line": {
              "color": "white"
             }
            },
            "header": {
             "fill": {
              "color": "#C8D4E3"
             },
             "line": {
              "color": "white"
             }
            },
            "type": "table"
           }
          ]
         },
         "layout": {
          "annotationdefaults": {
           "arrowcolor": "#2a3f5f",
           "arrowhead": 0,
           "arrowwidth": 1
          },
          "autotypenumbers": "strict",
          "coloraxis": {
           "colorbar": {
            "outlinewidth": 0,
            "ticks": ""
           }
          },
          "colorscale": {
           "diverging": [
            [
             0,
             "#8e0152"
            ],
            [
             0.1,
             "#c51b7d"
            ],
            [
             0.2,
             "#de77ae"
            ],
            [
             0.3,
             "#f1b6da"
            ],
            [
             0.4,
             "#fde0ef"
            ],
            [
             0.5,
             "#f7f7f7"
            ],
            [
             0.6,
             "#e6f5d0"
            ],
            [
             0.7,
             "#b8e186"
            ],
            [
             0.8,
             "#7fbc41"
            ],
            [
             0.9,
             "#4d9221"
            ],
            [
             1,
             "#276419"
            ]
           ],
           "sequential": [
            [
             0,
             "#0d0887"
            ],
            [
             0.1111111111111111,
             "#46039f"
            ],
            [
             0.2222222222222222,
             "#7201a8"
            ],
            [
             0.3333333333333333,
             "#9c179e"
            ],
            [
             0.4444444444444444,
             "#bd3786"
            ],
            [
             0.5555555555555556,
             "#d8576b"
            ],
            [
             0.6666666666666666,
             "#ed7953"
            ],
            [
             0.7777777777777778,
             "#fb9f3a"
            ],
            [
             0.8888888888888888,
             "#fdca26"
            ],
            [
             1,
             "#f0f921"
            ]
           ],
           "sequentialminus": [
            [
             0,
             "#0d0887"
            ],
            [
             0.1111111111111111,
             "#46039f"
            ],
            [
             0.2222222222222222,
             "#7201a8"
            ],
            [
             0.3333333333333333,
             "#9c179e"
            ],
            [
             0.4444444444444444,
             "#bd3786"
            ],
            [
             0.5555555555555556,
             "#d8576b"
            ],
            [
             0.6666666666666666,
             "#ed7953"
            ],
            [
             0.7777777777777778,
             "#fb9f3a"
            ],
            [
             0.8888888888888888,
             "#fdca26"
            ],
            [
             1,
             "#f0f921"
            ]
           ]
          },
          "colorway": [
           "#636efa",
           "#EF553B",
           "#00cc96",
           "#ab63fa",
           "#FFA15A",
           "#19d3f3",
           "#FF6692",
           "#B6E880",
           "#FF97FF",
           "#FECB52"
          ],
          "font": {
           "color": "#2a3f5f"
          },
          "geo": {
           "bgcolor": "white",
           "lakecolor": "white",
           "landcolor": "#E5ECF6",
           "showlakes": true,
           "showland": true,
           "subunitcolor": "white"
          },
          "hoverlabel": {
           "align": "left"
          },
          "hovermode": "closest",
          "mapbox": {
           "style": "light"
          },
          "paper_bgcolor": "white",
          "plot_bgcolor": "#E5ECF6",
          "polar": {
           "angularaxis": {
            "gridcolor": "white",
            "linecolor": "white",
            "ticks": ""
           },
           "bgcolor": "#E5ECF6",
           "radialaxis": {
            "gridcolor": "white",
            "linecolor": "white",
            "ticks": ""
           }
          },
          "scene": {
           "xaxis": {
            "backgroundcolor": "#E5ECF6",
            "gridcolor": "white",
            "gridwidth": 2,
            "linecolor": "white",
            "showbackground": true,
            "ticks": "",
            "zerolinecolor": "white"
           },
           "yaxis": {
            "backgroundcolor": "#E5ECF6",
            "gridcolor": "white",
            "gridwidth": 2,
            "linecolor": "white",
            "showbackground": true,
            "ticks": "",
            "zerolinecolor": "white"
           },
           "zaxis": {
            "backgroundcolor": "#E5ECF6",
            "gridcolor": "white",
            "gridwidth": 2,
            "linecolor": "white",
            "showbackground": true,
            "ticks": "",
            "zerolinecolor": "white"
           }
          },
          "shapedefaults": {
           "line": {
            "color": "#2a3f5f"
           }
          },
          "ternary": {
           "aaxis": {
            "gridcolor": "white",
            "linecolor": "white",
            "ticks": ""
           },
           "baxis": {
            "gridcolor": "white",
            "linecolor": "white",
            "ticks": ""
           },
           "bgcolor": "#E5ECF6",
           "caxis": {
            "gridcolor": "white",
            "linecolor": "white",
            "ticks": ""
           }
          },
          "title": {
           "x": 0.05
          },
          "xaxis": {
           "automargin": true,
           "gridcolor": "white",
           "linecolor": "white",
           "ticks": "",
           "title": {
            "standoff": 15
           },
           "zerolinecolor": "white",
           "zerolinewidth": 2
          },
          "yaxis": {
           "automargin": true,
           "gridcolor": "white",
           "linecolor": "white",
           "ticks": "",
           "title": {
            "standoff": 15
           },
           "zerolinecolor": "white",
           "zerolinewidth": 2
          }
         }
        },
        "title": {
         "text": "Zestimate Histogram"
        },
        "xaxis": {
         "anchor": "y",
         "domain": [
          0,
          1
         ],
         "title": {
          "text": "hdpData.homeInfo.zestimate"
         }
        },
        "yaxis": {
         "anchor": "x",
         "domain": [
          0,
          1
         ],
         "title": {
          "text": "count"
         }
        }
       }
      },
      "text/html": [
       "<div>                            <div id=\"ce0789b4-671c-41af-8ec3-8d9b25702ff3\" class=\"plotly-graph-div\" style=\"height:525px; width:100%;\"></div>            <script type=\"text/javascript\">                require([\"plotly\"], function(Plotly) {                    window.PLOTLYENV=window.PLOTLYENV || {};                                    if (document.getElementById(\"ce0789b4-671c-41af-8ec3-8d9b25702ff3\")) {                    Plotly.newPlot(                        \"ce0789b4-671c-41af-8ec3-8d9b25702ff3\",                        [{\"alignmentgroup\":\"True\",\"bingroup\":\"x\",\"hovertemplate\":\"hdpData.homeInfo.zestimate=%{x}<br>count=%{y}<extra></extra>\",\"legendgroup\":\"\",\"marker\":{\"color\":\"#636efa\",\"pattern\":{\"shape\":\"\"}},\"name\":\"\",\"offsetgroup\":\"\",\"orientation\":\"v\",\"showlegend\":false,\"x\":[135068.0,367447.0,null,431500.0,null,454818.0,485000.0,401494.0,439628.0,410831.0,472079.0,null,null,null,null,null,452360.0,null,424043.0,368500.0,null,null,null,369700.0,393000.0,374700.0,406000.0],\"xaxis\":\"x\",\"yaxis\":\"y\",\"type\":\"histogram\"}],                        {\"template\":{\"data\":{\"histogram2dcontour\":[{\"type\":\"histogram2dcontour\",\"colorbar\":{\"outlinewidth\":0,\"ticks\":\"\"},\"colorscale\":[[0.0,\"#0d0887\"],[0.1111111111111111,\"#46039f\"],[0.2222222222222222,\"#7201a8\"],[0.3333333333333333,\"#9c179e\"],[0.4444444444444444,\"#bd3786\"],[0.5555555555555556,\"#d8576b\"],[0.6666666666666666,\"#ed7953\"],[0.7777777777777778,\"#fb9f3a\"],[0.8888888888888888,\"#fdca26\"],[1.0,\"#f0f921\"]]}],\"choropleth\":[{\"type\":\"choropleth\",\"colorbar\":{\"outlinewidth\":0,\"ticks\":\"\"}}],\"histogram2d\":[{\"type\":\"histogram2d\",\"colorbar\":{\"outlinewidth\":0,\"ticks\":\"\"},\"colorscale\":[[0.0,\"#0d0887\"],[0.1111111111111111,\"#46039f\"],[0.2222222222222222,\"#7201a8\"],[0.3333333333333333,\"#9c179e\"],[0.4444444444444444,\"#bd3786\"],[0.5555555555555556,\"#d8576b\"],[0.6666666666666666,\"#ed7953\"],[0.7777777777777778,\"#fb9f3a\"],[0.8888888888888888,\"#fdca26\"],[1.0,\"#f0f921\"]]}],\"heatmap\":[{\"type\":\"heatmap\",\"colorbar\":{\"outlinewidth\":0,\"ticks\":\"\"},\"colorscale\":[[0.0,\"#0d0887\"],[0.1111111111111111,\"#46039f\"],[0.2222222222222222,\"#7201a8\"],[0.3333333333333333,\"#9c179e\"],[0.4444444444444444,\"#bd3786\"],[0.5555555555555556,\"#d8576b\"],[0.6666666666666666,\"#ed7953\"],[0.7777777777777778,\"#fb9f3a\"],[0.8888888888888888,\"#fdca26\"],[1.0,\"#f0f921\"]]}],\"heatmapgl\":[{\"type\":\"heatmapgl\",\"colorbar\":{\"outlinewidth\":0,\"ticks\":\"\"},\"colorscale\":[[0.0,\"#0d0887\"],[0.1111111111111111,\"#46039f\"],[0.2222222222222222,\"#7201a8\"],[0.3333333333333333,\"#9c179e\"],[0.4444444444444444,\"#bd3786\"],[0.5555555555555556,\"#d8576b\"],[0.6666666666666666,\"#ed7953\"],[0.7777777777777778,\"#fb9f3a\"],[0.8888888888888888,\"#fdca26\"],[1.0,\"#f0f921\"]]}],\"contourcarpet\":[{\"type\":\"contourcarpet\",\"colorbar\":{\"outlinewidth\":0,\"ticks\":\"\"}}],\"contour\":[{\"type\":\"contour\",\"colorbar\":{\"outlinewidth\":0,\"ticks\":\"\"},\"colorscale\":[[0.0,\"#0d0887\"],[0.1111111111111111,\"#46039f\"],[0.2222222222222222,\"#7201a8\"],[0.3333333333333333,\"#9c179e\"],[0.4444444444444444,\"#bd3786\"],[0.5555555555555556,\"#d8576b\"],[0.6666666666666666,\"#ed7953\"],[0.7777777777777778,\"#fb9f3a\"],[0.8888888888888888,\"#fdca26\"],[1.0,\"#f0f921\"]]}],\"surface\":[{\"type\":\"surface\",\"colorbar\":{\"outlinewidth\":0,\"ticks\":\"\"},\"colorscale\":[[0.0,\"#0d0887\"],[0.1111111111111111,\"#46039f\"],[0.2222222222222222,\"#7201a8\"],[0.3333333333333333,\"#9c179e\"],[0.4444444444444444,\"#bd3786\"],[0.5555555555555556,\"#d8576b\"],[0.6666666666666666,\"#ed7953\"],[0.7777777777777778,\"#fb9f3a\"],[0.8888888888888888,\"#fdca26\"],[1.0,\"#f0f921\"]]}],\"mesh3d\":[{\"type\":\"mesh3d\",\"colorbar\":{\"outlinewidth\":0,\"ticks\":\"\"}}],\"scatter\":[{\"fillpattern\":{\"fillmode\":\"overlay\",\"size\":10,\"solidity\":0.2},\"type\":\"scatter\"}],\"parcoords\":[{\"type\":\"parcoords\",\"line\":{\"colorbar\":{\"outlinewidth\":0,\"ticks\":\"\"}}}],\"scatterpolargl\":[{\"type\":\"scatterpolargl\",\"marker\":{\"colorbar\":{\"outlinewidth\":0,\"ticks\":\"\"}}}],\"bar\":[{\"error_x\":{\"color\":\"#2a3f5f\"},\"error_y\":{\"color\":\"#2a3f5f\"},\"marker\":{\"line\":{\"color\":\"#E5ECF6\",\"width\":0.5},\"pattern\":{\"fillmode\":\"overlay\",\"size\":10,\"solidity\":0.2}},\"type\":\"bar\"}],\"scattergeo\":[{\"type\":\"scattergeo\",\"marker\":{\"colorbar\":{\"outlinewidth\":0,\"ticks\":\"\"}}}],\"scatterpolar\":[{\"type\":\"scatterpolar\",\"marker\":{\"colorbar\":{\"outlinewidth\":0,\"ticks\":\"\"}}}],\"histogram\":[{\"marker\":{\"pattern\":{\"fillmode\":\"overlay\",\"size\":10,\"solidity\":0.2}},\"type\":\"histogram\"}],\"scattergl\":[{\"type\":\"scattergl\",\"marker\":{\"colorbar\":{\"outlinewidth\":0,\"ticks\":\"\"}}}],\"scatter3d\":[{\"type\":\"scatter3d\",\"line\":{\"colorbar\":{\"outlinewidth\":0,\"ticks\":\"\"}},\"marker\":{\"colorbar\":{\"outlinewidth\":0,\"ticks\":\"\"}}}],\"scattermapbox\":[{\"type\":\"scattermapbox\",\"marker\":{\"colorbar\":{\"outlinewidth\":0,\"ticks\":\"\"}}}],\"scatterternary\":[{\"type\":\"scatterternary\",\"marker\":{\"colorbar\":{\"outlinewidth\":0,\"ticks\":\"\"}}}],\"scattercarpet\":[{\"type\":\"scattercarpet\",\"marker\":{\"colorbar\":{\"outlinewidth\":0,\"ticks\":\"\"}}}],\"carpet\":[{\"aaxis\":{\"endlinecolor\":\"#2a3f5f\",\"gridcolor\":\"white\",\"linecolor\":\"white\",\"minorgridcolor\":\"white\",\"startlinecolor\":\"#2a3f5f\"},\"baxis\":{\"endlinecolor\":\"#2a3f5f\",\"gridcolor\":\"white\",\"linecolor\":\"white\",\"minorgridcolor\":\"white\",\"startlinecolor\":\"#2a3f5f\"},\"type\":\"carpet\"}],\"table\":[{\"cells\":{\"fill\":{\"color\":\"#EBF0F8\"},\"line\":{\"color\":\"white\"}},\"header\":{\"fill\":{\"color\":\"#C8D4E3\"},\"line\":{\"color\":\"white\"}},\"type\":\"table\"}],\"barpolar\":[{\"marker\":{\"line\":{\"color\":\"#E5ECF6\",\"width\":0.5},\"pattern\":{\"fillmode\":\"overlay\",\"size\":10,\"solidity\":0.2}},\"type\":\"barpolar\"}],\"pie\":[{\"automargin\":true,\"type\":\"pie\"}]},\"layout\":{\"autotypenumbers\":\"strict\",\"colorway\":[\"#636efa\",\"#EF553B\",\"#00cc96\",\"#ab63fa\",\"#FFA15A\",\"#19d3f3\",\"#FF6692\",\"#B6E880\",\"#FF97FF\",\"#FECB52\"],\"font\":{\"color\":\"#2a3f5f\"},\"hovermode\":\"closest\",\"hoverlabel\":{\"align\":\"left\"},\"paper_bgcolor\":\"white\",\"plot_bgcolor\":\"#E5ECF6\",\"polar\":{\"bgcolor\":\"#E5ECF6\",\"angularaxis\":{\"gridcolor\":\"white\",\"linecolor\":\"white\",\"ticks\":\"\"},\"radialaxis\":{\"gridcolor\":\"white\",\"linecolor\":\"white\",\"ticks\":\"\"}},\"ternary\":{\"bgcolor\":\"#E5ECF6\",\"aaxis\":{\"gridcolor\":\"white\",\"linecolor\":\"white\",\"ticks\":\"\"},\"baxis\":{\"gridcolor\":\"white\",\"linecolor\":\"white\",\"ticks\":\"\"},\"caxis\":{\"gridcolor\":\"white\",\"linecolor\":\"white\",\"ticks\":\"\"}},\"coloraxis\":{\"colorbar\":{\"outlinewidth\":0,\"ticks\":\"\"}},\"colorscale\":{\"sequential\":[[0.0,\"#0d0887\"],[0.1111111111111111,\"#46039f\"],[0.2222222222222222,\"#7201a8\"],[0.3333333333333333,\"#9c179e\"],[0.4444444444444444,\"#bd3786\"],[0.5555555555555556,\"#d8576b\"],[0.6666666666666666,\"#ed7953\"],[0.7777777777777778,\"#fb9f3a\"],[0.8888888888888888,\"#fdca26\"],[1.0,\"#f0f921\"]],\"sequentialminus\":[[0.0,\"#0d0887\"],[0.1111111111111111,\"#46039f\"],[0.2222222222222222,\"#7201a8\"],[0.3333333333333333,\"#9c179e\"],[0.4444444444444444,\"#bd3786\"],[0.5555555555555556,\"#d8576b\"],[0.6666666666666666,\"#ed7953\"],[0.7777777777777778,\"#fb9f3a\"],[0.8888888888888888,\"#fdca26\"],[1.0,\"#f0f921\"]],\"diverging\":[[0,\"#8e0152\"],[0.1,\"#c51b7d\"],[0.2,\"#de77ae\"],[0.3,\"#f1b6da\"],[0.4,\"#fde0ef\"],[0.5,\"#f7f7f7\"],[0.6,\"#e6f5d0\"],[0.7,\"#b8e186\"],[0.8,\"#7fbc41\"],[0.9,\"#4d9221\"],[1,\"#276419\"]]},\"xaxis\":{\"gridcolor\":\"white\",\"linecolor\":\"white\",\"ticks\":\"\",\"title\":{\"standoff\":15},\"zerolinecolor\":\"white\",\"automargin\":true,\"zerolinewidth\":2},\"yaxis\":{\"gridcolor\":\"white\",\"linecolor\":\"white\",\"ticks\":\"\",\"title\":{\"standoff\":15},\"zerolinecolor\":\"white\",\"automargin\":true,\"zerolinewidth\":2},\"scene\":{\"xaxis\":{\"backgroundcolor\":\"#E5ECF6\",\"gridcolor\":\"white\",\"linecolor\":\"white\",\"showbackground\":true,\"ticks\":\"\",\"zerolinecolor\":\"white\",\"gridwidth\":2},\"yaxis\":{\"backgroundcolor\":\"#E5ECF6\",\"gridcolor\":\"white\",\"linecolor\":\"white\",\"showbackground\":true,\"ticks\":\"\",\"zerolinecolor\":\"white\",\"gridwidth\":2},\"zaxis\":{\"backgroundcolor\":\"#E5ECF6\",\"gridcolor\":\"white\",\"linecolor\":\"white\",\"showbackground\":true,\"ticks\":\"\",\"zerolinecolor\":\"white\",\"gridwidth\":2}},\"shapedefaults\":{\"line\":{\"color\":\"#2a3f5f\"}},\"annotationdefaults\":{\"arrowcolor\":\"#2a3f5f\",\"arrowhead\":0,\"arrowwidth\":1},\"geo\":{\"bgcolor\":\"white\",\"landcolor\":\"#E5ECF6\",\"subunitcolor\":\"white\",\"showland\":true,\"showlakes\":true,\"lakecolor\":\"white\"},\"title\":{\"x\":0.05},\"mapbox\":{\"style\":\"light\"}}},\"xaxis\":{\"anchor\":\"y\",\"domain\":[0.0,1.0],\"title\":{\"text\":\"hdpData.homeInfo.zestimate\"}},\"yaxis\":{\"anchor\":\"x\",\"domain\":[0.0,1.0],\"title\":{\"text\":\"count\"}},\"legend\":{\"tracegroupgap\":0},\"title\":{\"text\":\"Zestimate Histogram\"},\"barmode\":\"relative\"},                        {\"responsive\": true}                    ).then(function(){\n",
       "                            \n",
       "var gd = document.getElementById('ce0789b4-671c-41af-8ec3-8d9b25702ff3');\n",
       "var x = new MutationObserver(function (mutations, observer) {{\n",
       "        var display = window.getComputedStyle(gd).display;\n",
       "        if (!display || display === 'none') {{\n",
       "            console.log([gd, 'removed!']);\n",
       "            Plotly.purge(gd);\n",
       "            observer.disconnect();\n",
       "        }}\n",
       "}});\n",
       "\n",
       "// Listen for the removal of the full notebook cells\n",
       "var notebookContainer = gd.closest('#notebook-container');\n",
       "if (notebookContainer) {{\n",
       "    x.observe(notebookContainer, {childList: true});\n",
       "}}\n",
       "\n",
       "// Listen for the clearing of the current output cell\n",
       "var outputEl = gd.closest('.output');\n",
       "if (outputEl) {{\n",
       "    x.observe(outputEl, {childList: true});\n",
       "}}\n",
       "\n",
       "                        })                };                });            </script>        </div>"
      ]
     },
     "metadata": {},
     "output_type": "display_data"
    }
   ],
   "source": [
    "# view zestimate\n",
    "px.histogram(df_listings, x=\"hdpData.homeInfo.zestimate\", title=\"Zestimate Histogram\")"
   ]
  },
  {
   "cell_type": "code",
   "execution_count": 125,
   "metadata": {
    "colab": {
     "base_uri": "https://localhost:8080/",
     "height": 542
    },
    "id": "7mEFMlp_OAb2",
    "outputId": "83f4b061-221f-40db-bcca-c958d0ab44a9"
   },
   "outputs": [
    {
     "data": {
      "application/vnd.plotly.v1+json": {
       "config": {
        "plotlyServerURL": "https://plot.ly"
       },
       "data": [
        {
         "alignmentgroup": "True",
         "hovertemplate": "hdpData.homeInfo.rentZestimate=%{x}<extra></extra>",
         "legendgroup": "",
         "marker": {
          "color": "#636efa"
         },
         "name": "",
         "notched": false,
         "offsetgroup": "",
         "orientation": "h",
         "showlegend": false,
         "type": "box",
         "x": [
          1235,
          2267,
          null,
          1984,
          1678,
          1795,
          2588,
          2199,
          2511,
          1949,
          2500,
          1400,
          993,
          1270,
          null,
          955,
          1747,
          null,
          1650,
          1948,
          920,
          1285,
          null,
          1973,
          1948,
          1973,
          1948
         ],
         "x0": " ",
         "xaxis": "x",
         "y0": " ",
         "yaxis": "y"
        }
       ],
       "layout": {
        "boxmode": "group",
        "legend": {
         "tracegroupgap": 0
        },
        "template": {
         "data": {
          "bar": [
           {
            "error_x": {
             "color": "#2a3f5f"
            },
            "error_y": {
             "color": "#2a3f5f"
            },
            "marker": {
             "line": {
              "color": "#E5ECF6",
              "width": 0.5
             },
             "pattern": {
              "fillmode": "overlay",
              "size": 10,
              "solidity": 0.2
             }
            },
            "type": "bar"
           }
          ],
          "barpolar": [
           {
            "marker": {
             "line": {
              "color": "#E5ECF6",
              "width": 0.5
             },
             "pattern": {
              "fillmode": "overlay",
              "size": 10,
              "solidity": 0.2
             }
            },
            "type": "barpolar"
           }
          ],
          "carpet": [
           {
            "aaxis": {
             "endlinecolor": "#2a3f5f",
             "gridcolor": "white",
             "linecolor": "white",
             "minorgridcolor": "white",
             "startlinecolor": "#2a3f5f"
            },
            "baxis": {
             "endlinecolor": "#2a3f5f",
             "gridcolor": "white",
             "linecolor": "white",
             "minorgridcolor": "white",
             "startlinecolor": "#2a3f5f"
            },
            "type": "carpet"
           }
          ],
          "choropleth": [
           {
            "colorbar": {
             "outlinewidth": 0,
             "ticks": ""
            },
            "type": "choropleth"
           }
          ],
          "contour": [
           {
            "colorbar": {
             "outlinewidth": 0,
             "ticks": ""
            },
            "colorscale": [
             [
              0,
              "#0d0887"
             ],
             [
              0.1111111111111111,
              "#46039f"
             ],
             [
              0.2222222222222222,
              "#7201a8"
             ],
             [
              0.3333333333333333,
              "#9c179e"
             ],
             [
              0.4444444444444444,
              "#bd3786"
             ],
             [
              0.5555555555555556,
              "#d8576b"
             ],
             [
              0.6666666666666666,
              "#ed7953"
             ],
             [
              0.7777777777777778,
              "#fb9f3a"
             ],
             [
              0.8888888888888888,
              "#fdca26"
             ],
             [
              1,
              "#f0f921"
             ]
            ],
            "type": "contour"
           }
          ],
          "contourcarpet": [
           {
            "colorbar": {
             "outlinewidth": 0,
             "ticks": ""
            },
            "type": "contourcarpet"
           }
          ],
          "heatmap": [
           {
            "colorbar": {
             "outlinewidth": 0,
             "ticks": ""
            },
            "colorscale": [
             [
              0,
              "#0d0887"
             ],
             [
              0.1111111111111111,
              "#46039f"
             ],
             [
              0.2222222222222222,
              "#7201a8"
             ],
             [
              0.3333333333333333,
              "#9c179e"
             ],
             [
              0.4444444444444444,
              "#bd3786"
             ],
             [
              0.5555555555555556,
              "#d8576b"
             ],
             [
              0.6666666666666666,
              "#ed7953"
             ],
             [
              0.7777777777777778,
              "#fb9f3a"
             ],
             [
              0.8888888888888888,
              "#fdca26"
             ],
             [
              1,
              "#f0f921"
             ]
            ],
            "type": "heatmap"
           }
          ],
          "heatmapgl": [
           {
            "colorbar": {
             "outlinewidth": 0,
             "ticks": ""
            },
            "colorscale": [
             [
              0,
              "#0d0887"
             ],
             [
              0.1111111111111111,
              "#46039f"
             ],
             [
              0.2222222222222222,
              "#7201a8"
             ],
             [
              0.3333333333333333,
              "#9c179e"
             ],
             [
              0.4444444444444444,
              "#bd3786"
             ],
             [
              0.5555555555555556,
              "#d8576b"
             ],
             [
              0.6666666666666666,
              "#ed7953"
             ],
             [
              0.7777777777777778,
              "#fb9f3a"
             ],
             [
              0.8888888888888888,
              "#fdca26"
             ],
             [
              1,
              "#f0f921"
             ]
            ],
            "type": "heatmapgl"
           }
          ],
          "histogram": [
           {
            "marker": {
             "pattern": {
              "fillmode": "overlay",
              "size": 10,
              "solidity": 0.2
             }
            },
            "type": "histogram"
           }
          ],
          "histogram2d": [
           {
            "colorbar": {
             "outlinewidth": 0,
             "ticks": ""
            },
            "colorscale": [
             [
              0,
              "#0d0887"
             ],
             [
              0.1111111111111111,
              "#46039f"
             ],
             [
              0.2222222222222222,
              "#7201a8"
             ],
             [
              0.3333333333333333,
              "#9c179e"
             ],
             [
              0.4444444444444444,
              "#bd3786"
             ],
             [
              0.5555555555555556,
              "#d8576b"
             ],
             [
              0.6666666666666666,
              "#ed7953"
             ],
             [
              0.7777777777777778,
              "#fb9f3a"
             ],
             [
              0.8888888888888888,
              "#fdca26"
             ],
             [
              1,
              "#f0f921"
             ]
            ],
            "type": "histogram2d"
           }
          ],
          "histogram2dcontour": [
           {
            "colorbar": {
             "outlinewidth": 0,
             "ticks": ""
            },
            "colorscale": [
             [
              0,
              "#0d0887"
             ],
             [
              0.1111111111111111,
              "#46039f"
             ],
             [
              0.2222222222222222,
              "#7201a8"
             ],
             [
              0.3333333333333333,
              "#9c179e"
             ],
             [
              0.4444444444444444,
              "#bd3786"
             ],
             [
              0.5555555555555556,
              "#d8576b"
             ],
             [
              0.6666666666666666,
              "#ed7953"
             ],
             [
              0.7777777777777778,
              "#fb9f3a"
             ],
             [
              0.8888888888888888,
              "#fdca26"
             ],
             [
              1,
              "#f0f921"
             ]
            ],
            "type": "histogram2dcontour"
           }
          ],
          "mesh3d": [
           {
            "colorbar": {
             "outlinewidth": 0,
             "ticks": ""
            },
            "type": "mesh3d"
           }
          ],
          "parcoords": [
           {
            "line": {
             "colorbar": {
              "outlinewidth": 0,
              "ticks": ""
             }
            },
            "type": "parcoords"
           }
          ],
          "pie": [
           {
            "automargin": true,
            "type": "pie"
           }
          ],
          "scatter": [
           {
            "fillpattern": {
             "fillmode": "overlay",
             "size": 10,
             "solidity": 0.2
            },
            "type": "scatter"
           }
          ],
          "scatter3d": [
           {
            "line": {
             "colorbar": {
              "outlinewidth": 0,
              "ticks": ""
             }
            },
            "marker": {
             "colorbar": {
              "outlinewidth": 0,
              "ticks": ""
             }
            },
            "type": "scatter3d"
           }
          ],
          "scattercarpet": [
           {
            "marker": {
             "colorbar": {
              "outlinewidth": 0,
              "ticks": ""
             }
            },
            "type": "scattercarpet"
           }
          ],
          "scattergeo": [
           {
            "marker": {
             "colorbar": {
              "outlinewidth": 0,
              "ticks": ""
             }
            },
            "type": "scattergeo"
           }
          ],
          "scattergl": [
           {
            "marker": {
             "colorbar": {
              "outlinewidth": 0,
              "ticks": ""
             }
            },
            "type": "scattergl"
           }
          ],
          "scattermapbox": [
           {
            "marker": {
             "colorbar": {
              "outlinewidth": 0,
              "ticks": ""
             }
            },
            "type": "scattermapbox"
           }
          ],
          "scatterpolar": [
           {
            "marker": {
             "colorbar": {
              "outlinewidth": 0,
              "ticks": ""
             }
            },
            "type": "scatterpolar"
           }
          ],
          "scatterpolargl": [
           {
            "marker": {
             "colorbar": {
              "outlinewidth": 0,
              "ticks": ""
             }
            },
            "type": "scatterpolargl"
           }
          ],
          "scatterternary": [
           {
            "marker": {
             "colorbar": {
              "outlinewidth": 0,
              "ticks": ""
             }
            },
            "type": "scatterternary"
           }
          ],
          "surface": [
           {
            "colorbar": {
             "outlinewidth": 0,
             "ticks": ""
            },
            "colorscale": [
             [
              0,
              "#0d0887"
             ],
             [
              0.1111111111111111,
              "#46039f"
             ],
             [
              0.2222222222222222,
              "#7201a8"
             ],
             [
              0.3333333333333333,
              "#9c179e"
             ],
             [
              0.4444444444444444,
              "#bd3786"
             ],
             [
              0.5555555555555556,
              "#d8576b"
             ],
             [
              0.6666666666666666,
              "#ed7953"
             ],
             [
              0.7777777777777778,
              "#fb9f3a"
             ],
             [
              0.8888888888888888,
              "#fdca26"
             ],
             [
              1,
              "#f0f921"
             ]
            ],
            "type": "surface"
           }
          ],
          "table": [
           {
            "cells": {
             "fill": {
              "color": "#EBF0F8"
             },
             "line": {
              "color": "white"
             }
            },
            "header": {
             "fill": {
              "color": "#C8D4E3"
             },
             "line": {
              "color": "white"
             }
            },
            "type": "table"
           }
          ]
         },
         "layout": {
          "annotationdefaults": {
           "arrowcolor": "#2a3f5f",
           "arrowhead": 0,
           "arrowwidth": 1
          },
          "autotypenumbers": "strict",
          "coloraxis": {
           "colorbar": {
            "outlinewidth": 0,
            "ticks": ""
           }
          },
          "colorscale": {
           "diverging": [
            [
             0,
             "#8e0152"
            ],
            [
             0.1,
             "#c51b7d"
            ],
            [
             0.2,
             "#de77ae"
            ],
            [
             0.3,
             "#f1b6da"
            ],
            [
             0.4,
             "#fde0ef"
            ],
            [
             0.5,
             "#f7f7f7"
            ],
            [
             0.6,
             "#e6f5d0"
            ],
            [
             0.7,
             "#b8e186"
            ],
            [
             0.8,
             "#7fbc41"
            ],
            [
             0.9,
             "#4d9221"
            ],
            [
             1,
             "#276419"
            ]
           ],
           "sequential": [
            [
             0,
             "#0d0887"
            ],
            [
             0.1111111111111111,
             "#46039f"
            ],
            [
             0.2222222222222222,
             "#7201a8"
            ],
            [
             0.3333333333333333,
             "#9c179e"
            ],
            [
             0.4444444444444444,
             "#bd3786"
            ],
            [
             0.5555555555555556,
             "#d8576b"
            ],
            [
             0.6666666666666666,
             "#ed7953"
            ],
            [
             0.7777777777777778,
             "#fb9f3a"
            ],
            [
             0.8888888888888888,
             "#fdca26"
            ],
            [
             1,
             "#f0f921"
            ]
           ],
           "sequentialminus": [
            [
             0,
             "#0d0887"
            ],
            [
             0.1111111111111111,
             "#46039f"
            ],
            [
             0.2222222222222222,
             "#7201a8"
            ],
            [
             0.3333333333333333,
             "#9c179e"
            ],
            [
             0.4444444444444444,
             "#bd3786"
            ],
            [
             0.5555555555555556,
             "#d8576b"
            ],
            [
             0.6666666666666666,
             "#ed7953"
            ],
            [
             0.7777777777777778,
             "#fb9f3a"
            ],
            [
             0.8888888888888888,
             "#fdca26"
            ],
            [
             1,
             "#f0f921"
            ]
           ]
          },
          "colorway": [
           "#636efa",
           "#EF553B",
           "#00cc96",
           "#ab63fa",
           "#FFA15A",
           "#19d3f3",
           "#FF6692",
           "#B6E880",
           "#FF97FF",
           "#FECB52"
          ],
          "font": {
           "color": "#2a3f5f"
          },
          "geo": {
           "bgcolor": "white",
           "lakecolor": "white",
           "landcolor": "#E5ECF6",
           "showlakes": true,
           "showland": true,
           "subunitcolor": "white"
          },
          "hoverlabel": {
           "align": "left"
          },
          "hovermode": "closest",
          "mapbox": {
           "style": "light"
          },
          "paper_bgcolor": "white",
          "plot_bgcolor": "#E5ECF6",
          "polar": {
           "angularaxis": {
            "gridcolor": "white",
            "linecolor": "white",
            "ticks": ""
           },
           "bgcolor": "#E5ECF6",
           "radialaxis": {
            "gridcolor": "white",
            "linecolor": "white",
            "ticks": ""
           }
          },
          "scene": {
           "xaxis": {
            "backgroundcolor": "#E5ECF6",
            "gridcolor": "white",
            "gridwidth": 2,
            "linecolor": "white",
            "showbackground": true,
            "ticks": "",
            "zerolinecolor": "white"
           },
           "yaxis": {
            "backgroundcolor": "#E5ECF6",
            "gridcolor": "white",
            "gridwidth": 2,
            "linecolor": "white",
            "showbackground": true,
            "ticks": "",
            "zerolinecolor": "white"
           },
           "zaxis": {
            "backgroundcolor": "#E5ECF6",
            "gridcolor": "white",
            "gridwidth": 2,
            "linecolor": "white",
            "showbackground": true,
            "ticks": "",
            "zerolinecolor": "white"
           }
          },
          "shapedefaults": {
           "line": {
            "color": "#2a3f5f"
           }
          },
          "ternary": {
           "aaxis": {
            "gridcolor": "white",
            "linecolor": "white",
            "ticks": ""
           },
           "baxis": {
            "gridcolor": "white",
            "linecolor": "white",
            "ticks": ""
           },
           "bgcolor": "#E5ECF6",
           "caxis": {
            "gridcolor": "white",
            "linecolor": "white",
            "ticks": ""
           }
          },
          "title": {
           "x": 0.05
          },
          "xaxis": {
           "automargin": true,
           "gridcolor": "white",
           "linecolor": "white",
           "ticks": "",
           "title": {
            "standoff": 15
           },
           "zerolinecolor": "white",
           "zerolinewidth": 2
          },
          "yaxis": {
           "automargin": true,
           "gridcolor": "white",
           "linecolor": "white",
           "ticks": "",
           "title": {
            "standoff": 15
           },
           "zerolinecolor": "white",
           "zerolinewidth": 2
          }
         }
        },
        "title": {
         "text": "Rent Zestimate Box Plot"
        },
        "xaxis": {
         "anchor": "y",
         "domain": [
          0,
          1
         ],
         "title": {
          "text": "hdpData.homeInfo.rentZestimate"
         }
        },
        "yaxis": {
         "anchor": "x",
         "domain": [
          0,
          1
         ]
        }
       }
      },
      "text/html": [
       "<div>                            <div id=\"3f6f6e60-503d-419e-915c-b5c4da81c9ab\" class=\"plotly-graph-div\" style=\"height:525px; width:100%;\"></div>            <script type=\"text/javascript\">                require([\"plotly\"], function(Plotly) {                    window.PLOTLYENV=window.PLOTLYENV || {};                                    if (document.getElementById(\"3f6f6e60-503d-419e-915c-b5c4da81c9ab\")) {                    Plotly.newPlot(                        \"3f6f6e60-503d-419e-915c-b5c4da81c9ab\",                        [{\"alignmentgroup\":\"True\",\"hovertemplate\":\"hdpData.homeInfo.rentZestimate=%{x}<extra></extra>\",\"legendgroup\":\"\",\"marker\":{\"color\":\"#636efa\"},\"name\":\"\",\"notched\":false,\"offsetgroup\":\"\",\"orientation\":\"h\",\"showlegend\":false,\"x\":[1235.0,2267.0,null,1984.0,1678.0,1795.0,2588.0,2199.0,2511.0,1949.0,2500.0,1400.0,993.0,1270.0,null,955.0,1747.0,null,1650.0,1948.0,920.0,1285.0,null,1973.0,1948.0,1973.0,1948.0],\"x0\":\" \",\"xaxis\":\"x\",\"y0\":\" \",\"yaxis\":\"y\",\"type\":\"box\"}],                        {\"template\":{\"data\":{\"histogram2dcontour\":[{\"type\":\"histogram2dcontour\",\"colorbar\":{\"outlinewidth\":0,\"ticks\":\"\"},\"colorscale\":[[0.0,\"#0d0887\"],[0.1111111111111111,\"#46039f\"],[0.2222222222222222,\"#7201a8\"],[0.3333333333333333,\"#9c179e\"],[0.4444444444444444,\"#bd3786\"],[0.5555555555555556,\"#d8576b\"],[0.6666666666666666,\"#ed7953\"],[0.7777777777777778,\"#fb9f3a\"],[0.8888888888888888,\"#fdca26\"],[1.0,\"#f0f921\"]]}],\"choropleth\":[{\"type\":\"choropleth\",\"colorbar\":{\"outlinewidth\":0,\"ticks\":\"\"}}],\"histogram2d\":[{\"type\":\"histogram2d\",\"colorbar\":{\"outlinewidth\":0,\"ticks\":\"\"},\"colorscale\":[[0.0,\"#0d0887\"],[0.1111111111111111,\"#46039f\"],[0.2222222222222222,\"#7201a8\"],[0.3333333333333333,\"#9c179e\"],[0.4444444444444444,\"#bd3786\"],[0.5555555555555556,\"#d8576b\"],[0.6666666666666666,\"#ed7953\"],[0.7777777777777778,\"#fb9f3a\"],[0.8888888888888888,\"#fdca26\"],[1.0,\"#f0f921\"]]}],\"heatmap\":[{\"type\":\"heatmap\",\"colorbar\":{\"outlinewidth\":0,\"ticks\":\"\"},\"colorscale\":[[0.0,\"#0d0887\"],[0.1111111111111111,\"#46039f\"],[0.2222222222222222,\"#7201a8\"],[0.3333333333333333,\"#9c179e\"],[0.4444444444444444,\"#bd3786\"],[0.5555555555555556,\"#d8576b\"],[0.6666666666666666,\"#ed7953\"],[0.7777777777777778,\"#fb9f3a\"],[0.8888888888888888,\"#fdca26\"],[1.0,\"#f0f921\"]]}],\"heatmapgl\":[{\"type\":\"heatmapgl\",\"colorbar\":{\"outlinewidth\":0,\"ticks\":\"\"},\"colorscale\":[[0.0,\"#0d0887\"],[0.1111111111111111,\"#46039f\"],[0.2222222222222222,\"#7201a8\"],[0.3333333333333333,\"#9c179e\"],[0.4444444444444444,\"#bd3786\"],[0.5555555555555556,\"#d8576b\"],[0.6666666666666666,\"#ed7953\"],[0.7777777777777778,\"#fb9f3a\"],[0.8888888888888888,\"#fdca26\"],[1.0,\"#f0f921\"]]}],\"contourcarpet\":[{\"type\":\"contourcarpet\",\"colorbar\":{\"outlinewidth\":0,\"ticks\":\"\"}}],\"contour\":[{\"type\":\"contour\",\"colorbar\":{\"outlinewidth\":0,\"ticks\":\"\"},\"colorscale\":[[0.0,\"#0d0887\"],[0.1111111111111111,\"#46039f\"],[0.2222222222222222,\"#7201a8\"],[0.3333333333333333,\"#9c179e\"],[0.4444444444444444,\"#bd3786\"],[0.5555555555555556,\"#d8576b\"],[0.6666666666666666,\"#ed7953\"],[0.7777777777777778,\"#fb9f3a\"],[0.8888888888888888,\"#fdca26\"],[1.0,\"#f0f921\"]]}],\"surface\":[{\"type\":\"surface\",\"colorbar\":{\"outlinewidth\":0,\"ticks\":\"\"},\"colorscale\":[[0.0,\"#0d0887\"],[0.1111111111111111,\"#46039f\"],[0.2222222222222222,\"#7201a8\"],[0.3333333333333333,\"#9c179e\"],[0.4444444444444444,\"#bd3786\"],[0.5555555555555556,\"#d8576b\"],[0.6666666666666666,\"#ed7953\"],[0.7777777777777778,\"#fb9f3a\"],[0.8888888888888888,\"#fdca26\"],[1.0,\"#f0f921\"]]}],\"mesh3d\":[{\"type\":\"mesh3d\",\"colorbar\":{\"outlinewidth\":0,\"ticks\":\"\"}}],\"scatter\":[{\"fillpattern\":{\"fillmode\":\"overlay\",\"size\":10,\"solidity\":0.2},\"type\":\"scatter\"}],\"parcoords\":[{\"type\":\"parcoords\",\"line\":{\"colorbar\":{\"outlinewidth\":0,\"ticks\":\"\"}}}],\"scatterpolargl\":[{\"type\":\"scatterpolargl\",\"marker\":{\"colorbar\":{\"outlinewidth\":0,\"ticks\":\"\"}}}],\"bar\":[{\"error_x\":{\"color\":\"#2a3f5f\"},\"error_y\":{\"color\":\"#2a3f5f\"},\"marker\":{\"line\":{\"color\":\"#E5ECF6\",\"width\":0.5},\"pattern\":{\"fillmode\":\"overlay\",\"size\":10,\"solidity\":0.2}},\"type\":\"bar\"}],\"scattergeo\":[{\"type\":\"scattergeo\",\"marker\":{\"colorbar\":{\"outlinewidth\":0,\"ticks\":\"\"}}}],\"scatterpolar\":[{\"type\":\"scatterpolar\",\"marker\":{\"colorbar\":{\"outlinewidth\":0,\"ticks\":\"\"}}}],\"histogram\":[{\"marker\":{\"pattern\":{\"fillmode\":\"overlay\",\"size\":10,\"solidity\":0.2}},\"type\":\"histogram\"}],\"scattergl\":[{\"type\":\"scattergl\",\"marker\":{\"colorbar\":{\"outlinewidth\":0,\"ticks\":\"\"}}}],\"scatter3d\":[{\"type\":\"scatter3d\",\"line\":{\"colorbar\":{\"outlinewidth\":0,\"ticks\":\"\"}},\"marker\":{\"colorbar\":{\"outlinewidth\":0,\"ticks\":\"\"}}}],\"scattermapbox\":[{\"type\":\"scattermapbox\",\"marker\":{\"colorbar\":{\"outlinewidth\":0,\"ticks\":\"\"}}}],\"scatterternary\":[{\"type\":\"scatterternary\",\"marker\":{\"colorbar\":{\"outlinewidth\":0,\"ticks\":\"\"}}}],\"scattercarpet\":[{\"type\":\"scattercarpet\",\"marker\":{\"colorbar\":{\"outlinewidth\":0,\"ticks\":\"\"}}}],\"carpet\":[{\"aaxis\":{\"endlinecolor\":\"#2a3f5f\",\"gridcolor\":\"white\",\"linecolor\":\"white\",\"minorgridcolor\":\"white\",\"startlinecolor\":\"#2a3f5f\"},\"baxis\":{\"endlinecolor\":\"#2a3f5f\",\"gridcolor\":\"white\",\"linecolor\":\"white\",\"minorgridcolor\":\"white\",\"startlinecolor\":\"#2a3f5f\"},\"type\":\"carpet\"}],\"table\":[{\"cells\":{\"fill\":{\"color\":\"#EBF0F8\"},\"line\":{\"color\":\"white\"}},\"header\":{\"fill\":{\"color\":\"#C8D4E3\"},\"line\":{\"color\":\"white\"}},\"type\":\"table\"}],\"barpolar\":[{\"marker\":{\"line\":{\"color\":\"#E5ECF6\",\"width\":0.5},\"pattern\":{\"fillmode\":\"overlay\",\"size\":10,\"solidity\":0.2}},\"type\":\"barpolar\"}],\"pie\":[{\"automargin\":true,\"type\":\"pie\"}]},\"layout\":{\"autotypenumbers\":\"strict\",\"colorway\":[\"#636efa\",\"#EF553B\",\"#00cc96\",\"#ab63fa\",\"#FFA15A\",\"#19d3f3\",\"#FF6692\",\"#B6E880\",\"#FF97FF\",\"#FECB52\"],\"font\":{\"color\":\"#2a3f5f\"},\"hovermode\":\"closest\",\"hoverlabel\":{\"align\":\"left\"},\"paper_bgcolor\":\"white\",\"plot_bgcolor\":\"#E5ECF6\",\"polar\":{\"bgcolor\":\"#E5ECF6\",\"angularaxis\":{\"gridcolor\":\"white\",\"linecolor\":\"white\",\"ticks\":\"\"},\"radialaxis\":{\"gridcolor\":\"white\",\"linecolor\":\"white\",\"ticks\":\"\"}},\"ternary\":{\"bgcolor\":\"#E5ECF6\",\"aaxis\":{\"gridcolor\":\"white\",\"linecolor\":\"white\",\"ticks\":\"\"},\"baxis\":{\"gridcolor\":\"white\",\"linecolor\":\"white\",\"ticks\":\"\"},\"caxis\":{\"gridcolor\":\"white\",\"linecolor\":\"white\",\"ticks\":\"\"}},\"coloraxis\":{\"colorbar\":{\"outlinewidth\":0,\"ticks\":\"\"}},\"colorscale\":{\"sequential\":[[0.0,\"#0d0887\"],[0.1111111111111111,\"#46039f\"],[0.2222222222222222,\"#7201a8\"],[0.3333333333333333,\"#9c179e\"],[0.4444444444444444,\"#bd3786\"],[0.5555555555555556,\"#d8576b\"],[0.6666666666666666,\"#ed7953\"],[0.7777777777777778,\"#fb9f3a\"],[0.8888888888888888,\"#fdca26\"],[1.0,\"#f0f921\"]],\"sequentialminus\":[[0.0,\"#0d0887\"],[0.1111111111111111,\"#46039f\"],[0.2222222222222222,\"#7201a8\"],[0.3333333333333333,\"#9c179e\"],[0.4444444444444444,\"#bd3786\"],[0.5555555555555556,\"#d8576b\"],[0.6666666666666666,\"#ed7953\"],[0.7777777777777778,\"#fb9f3a\"],[0.8888888888888888,\"#fdca26\"],[1.0,\"#f0f921\"]],\"diverging\":[[0,\"#8e0152\"],[0.1,\"#c51b7d\"],[0.2,\"#de77ae\"],[0.3,\"#f1b6da\"],[0.4,\"#fde0ef\"],[0.5,\"#f7f7f7\"],[0.6,\"#e6f5d0\"],[0.7,\"#b8e186\"],[0.8,\"#7fbc41\"],[0.9,\"#4d9221\"],[1,\"#276419\"]]},\"xaxis\":{\"gridcolor\":\"white\",\"linecolor\":\"white\",\"ticks\":\"\",\"title\":{\"standoff\":15},\"zerolinecolor\":\"white\",\"automargin\":true,\"zerolinewidth\":2},\"yaxis\":{\"gridcolor\":\"white\",\"linecolor\":\"white\",\"ticks\":\"\",\"title\":{\"standoff\":15},\"zerolinecolor\":\"white\",\"automargin\":true,\"zerolinewidth\":2},\"scene\":{\"xaxis\":{\"backgroundcolor\":\"#E5ECF6\",\"gridcolor\":\"white\",\"linecolor\":\"white\",\"showbackground\":true,\"ticks\":\"\",\"zerolinecolor\":\"white\",\"gridwidth\":2},\"yaxis\":{\"backgroundcolor\":\"#E5ECF6\",\"gridcolor\":\"white\",\"linecolor\":\"white\",\"showbackground\":true,\"ticks\":\"\",\"zerolinecolor\":\"white\",\"gridwidth\":2},\"zaxis\":{\"backgroundcolor\":\"#E5ECF6\",\"gridcolor\":\"white\",\"linecolor\":\"white\",\"showbackground\":true,\"ticks\":\"\",\"zerolinecolor\":\"white\",\"gridwidth\":2}},\"shapedefaults\":{\"line\":{\"color\":\"#2a3f5f\"}},\"annotationdefaults\":{\"arrowcolor\":\"#2a3f5f\",\"arrowhead\":0,\"arrowwidth\":1},\"geo\":{\"bgcolor\":\"white\",\"landcolor\":\"#E5ECF6\",\"subunitcolor\":\"white\",\"showland\":true,\"showlakes\":true,\"lakecolor\":\"white\"},\"title\":{\"x\":0.05},\"mapbox\":{\"style\":\"light\"}}},\"xaxis\":{\"anchor\":\"y\",\"domain\":[0.0,1.0],\"title\":{\"text\":\"hdpData.homeInfo.rentZestimate\"}},\"yaxis\":{\"anchor\":\"x\",\"domain\":[0.0,1.0]},\"legend\":{\"tracegroupgap\":0},\"title\":{\"text\":\"Rent Zestimate Box Plot\"},\"boxmode\":\"group\"},                        {\"responsive\": true}                    ).then(function(){\n",
       "                            \n",
       "var gd = document.getElementById('3f6f6e60-503d-419e-915c-b5c4da81c9ab');\n",
       "var x = new MutationObserver(function (mutations, observer) {{\n",
       "        var display = window.getComputedStyle(gd).display;\n",
       "        if (!display || display === 'none') {{\n",
       "            console.log([gd, 'removed!']);\n",
       "            Plotly.purge(gd);\n",
       "            observer.disconnect();\n",
       "        }}\n",
       "}});\n",
       "\n",
       "// Listen for the removal of the full notebook cells\n",
       "var notebookContainer = gd.closest('#notebook-container');\n",
       "if (notebookContainer) {{\n",
       "    x.observe(notebookContainer, {childList: true});\n",
       "}}\n",
       "\n",
       "// Listen for the clearing of the current output cell\n",
       "var outputEl = gd.closest('.output');\n",
       "if (outputEl) {{\n",
       "    x.observe(outputEl, {childList: true});\n",
       "}}\n",
       "\n",
       "                        })                };                });            </script>        </div>"
      ]
     },
     "metadata": {},
     "output_type": "display_data"
    }
   ],
   "source": [
    "# view rent zestimate\n",
    "px.box(df_listings, x=\"hdpData.homeInfo.rentZestimate\", title=\"Rent Zestimate Box Plot\")"
   ]
  },
  {
   "cell_type": "code",
   "execution_count": 126,
   "metadata": {},
   "outputs": [],
   "source": [
    "#download file\n",
    "df_listings.to_csv('clemsonSC_property_listings_output.csv')\n",
    "\n"
   ]
  },
  {
   "cell_type": "code",
   "execution_count": 127,
   "metadata": {},
   "outputs": [],
   "source": [
    "import pandas as pd\n",
    "\n",
    "# Assuming your dataframe is named 'df'\n",
    "# Assuming 'price' and 'rent' are columns in the dataframe\n",
    "\n",
    "# Filter the dataframe based on rent/price >= 1%\n",
    "filtered_df = df_listings[df_listings['hdpData.homeInfo.rentZestimate'] / df_listings['hdpData.homeInfo.price'] >= 0.0075]\n",
    "\n",
    "\n",
    "#download file\n",
    "filtered_df.to_csv('clemsonSC_property_tobuy.csv')"
   ]
  },
  {
   "cell_type": "markdown",
   "metadata": {},
   "source": [
    "### <font color=\"green\">2. Property Listings For Sale at Pendleton,SC</font>"
   ]
  },
  {
   "cell_type": "code",
   "execution_count": 128,
   "metadata": {},
   "outputs": [],
   "source": [
    "# zillow search url\n",
    "listing_url = \"https://www.zillow.com/greenville-sc/?searchQueryState=%7B%22mapBounds%22%3A%7B%22north%22%3A35.00445492682014%2C%22east%22%3A-82.06988107177733%2C%22south%22%3A34.67646298439627%2C%22west%22%3A-82.68030892822264%7D%2C%22isMapVisible%22%3Atrue%2C%22filterState%22%3A%7B%22sort%22%3A%7B%22value%22%3A%22globalrelevanceex%22%7D%2C%22ah%22%3A%7B%22value%22%3Atrue%7D%2C%22price%22%3A%7B%22max%22%3A300000%7D%2C%22mp%22%3A%7B%22max%22%3A1511%7D%7D%2C%22isListVisible%22%3Atrue%2C%22mapZoom%22%3A11%2C%22regionSelection%22%3A%5B%7B%22regionId%22%3A24960%2C%22regionType%22%3A6%7D%5D%2C%22pagination%22%3A%7B%7D%7D\"\n",
    "# get listings\n",
    "listing_response = get_listings(api_key, listing_url)"
   ]
  },
  {
   "cell_type": "code",
   "execution_count": 129,
   "metadata": {},
   "outputs": [
    {
     "data": {
      "text/plain": [
       "dict_keys(['is_success', 'data', 'message'])"
      ]
     },
     "execution_count": 129,
     "metadata": {},
     "output_type": "execute_result"
    }
   ],
   "source": [
    "# view all keys\n",
    "listing_response.json().keys()"
   ]
  },
  {
   "cell_type": "code",
   "execution_count": 130,
   "metadata": {},
   "outputs": [
    {
     "data": {
      "text/plain": [
       "True"
      ]
     },
     "execution_count": 130,
     "metadata": {},
     "output_type": "execute_result"
    }
   ],
   "source": [
    "# check if request is successful\n",
    "listing_response.json()[\"is_success\"]"
   ]
  },
  {
   "cell_type": "code",
   "execution_count": 131,
   "metadata": {},
   "outputs": [
    {
     "name": "stdout",
     "output_type": "stream",
     "text": [
      "Count of properties: 199\n"
     ]
    }
   ],
   "source": [
    "# view count of properies returned in request\n",
    "num_of_properties = listing_response.json()[\"data\"][\"categoryTotals\"][\"cat1\"][\"totalResultCount\"]\n",
    "print(\"Count of properties:\", num_of_properties)"
   ]
  },
  {
   "cell_type": "code",
   "execution_count": 132,
   "metadata": {},
   "outputs": [
    {
     "name": "stdout",
     "output_type": "stream",
     "text": [
      "Number of rows: 145\n",
      "Number of columns: 94\n"
     ]
    },
    {
     "data": {
      "text/html": [
       "<div>\n",
       "<style scoped>\n",
       "    .dataframe tbody tr th:only-of-type {\n",
       "        vertical-align: middle;\n",
       "    }\n",
       "\n",
       "    .dataframe tbody tr th {\n",
       "        vertical-align: top;\n",
       "    }\n",
       "\n",
       "    .dataframe thead th {\n",
       "        text-align: right;\n",
       "    }\n",
       "</style>\n",
       "<table border=\"1\" class=\"dataframe\">\n",
       "  <thead>\n",
       "    <tr style=\"text-align: right;\">\n",
       "      <th></th>\n",
       "      <th>zpid</th>\n",
       "      <th>price</th>\n",
       "      <th>priceLabel</th>\n",
       "      <th>beds</th>\n",
       "      <th>baths</th>\n",
       "      <th>area</th>\n",
       "      <th>statusType</th>\n",
       "      <th>statusText</th>\n",
       "      <th>isFavorite</th>\n",
       "      <th>isUserClaimingOwner</th>\n",
       "      <th>isUserConfirmedClaim</th>\n",
       "      <th>imgSrc</th>\n",
       "      <th>hasImage</th>\n",
       "      <th>visited</th>\n",
       "      <th>listingType</th>\n",
       "      <th>shouldShowZestimateAsPrice</th>\n",
       "      <th>detailUrl</th>\n",
       "      <th>pgapt</th>\n",
       "      <th>sgapt</th>\n",
       "      <th>has3DModel</th>\n",
       "      <th>hasVideo</th>\n",
       "      <th>isHomeRec</th>\n",
       "      <th>address</th>\n",
       "      <th>hasAdditionalAttributions</th>\n",
       "      <th>isFeaturedListing</th>\n",
       "      <th>isShowcaseListing</th>\n",
       "      <th>availabilityDate</th>\n",
       "      <th>timeOnZillow</th>\n",
       "      <th>latLong.latitude</th>\n",
       "      <th>latLong.longitude</th>\n",
       "      <th>variableData.type</th>\n",
       "      <th>variableData.text</th>\n",
       "      <th>hdpData.homeInfo.zpid</th>\n",
       "      <th>hdpData.homeInfo.streetAddress</th>\n",
       "      <th>hdpData.homeInfo.zipcode</th>\n",
       "      <th>hdpData.homeInfo.city</th>\n",
       "      <th>hdpData.homeInfo.state</th>\n",
       "      <th>hdpData.homeInfo.latitude</th>\n",
       "      <th>hdpData.homeInfo.longitude</th>\n",
       "      <th>hdpData.homeInfo.price</th>\n",
       "      <th>hdpData.homeInfo.datePriceChanged</th>\n",
       "      <th>hdpData.homeInfo.bathrooms</th>\n",
       "      <th>hdpData.homeInfo.bedrooms</th>\n",
       "      <th>hdpData.homeInfo.homeType</th>\n",
       "      <th>hdpData.homeInfo.homeStatus</th>\n",
       "      <th>hdpData.homeInfo.daysOnZillow</th>\n",
       "      <th>hdpData.homeInfo.isFeatured</th>\n",
       "      <th>hdpData.homeInfo.shouldHighlight</th>\n",
       "      <th>hdpData.homeInfo.zestimate</th>\n",
       "      <th>hdpData.homeInfo.rentZestimate</th>\n",
       "      <th>hdpData.homeInfo.listing_sub_type.is_FSBA</th>\n",
       "      <th>hdpData.homeInfo.priceReduction</th>\n",
       "      <th>hdpData.homeInfo.isUnmappable</th>\n",
       "      <th>hdpData.homeInfo.isPreforeclosureAuction</th>\n",
       "      <th>hdpData.homeInfo.homeStatusForHDP</th>\n",
       "      <th>hdpData.homeInfo.priceForHDP</th>\n",
       "      <th>hdpData.homeInfo.priceChange</th>\n",
       "      <th>hdpData.homeInfo.isNonOwnerOccupied</th>\n",
       "      <th>hdpData.homeInfo.isPremierBuilder</th>\n",
       "      <th>hdpData.homeInfo.isZillowOwned</th>\n",
       "      <th>hdpData.homeInfo.currency</th>\n",
       "      <th>hdpData.homeInfo.country</th>\n",
       "      <th>hdpData.homeInfo.taxAssessedValue</th>\n",
       "      <th>hdpData.homeInfo.lotAreaValue</th>\n",
       "      <th>hdpData.homeInfo.lotAreaUnit</th>\n",
       "      <th>hdpData.homeInfo.isShowcaseListing</th>\n",
       "      <th>variableData</th>\n",
       "      <th>hdpData.homeInfo.livingArea</th>\n",
       "      <th>hdpData.homeInfo.listing_sub_type.is_foreclosure</th>\n",
       "      <th>hdpData.homeInfo.unit</th>\n",
       "      <th>variableData.data.isFresh</th>\n",
       "      <th>lotAreaString</th>\n",
       "      <th>communityName</th>\n",
       "      <th>hdpData.homeInfo.listing_sub_type.is_newHome</th>\n",
       "      <th>hdpData.homeInfo.providerListingID</th>\n",
       "      <th>hdpData.homeInfo.newConstructionType</th>\n",
       "      <th>buildingId</th>\n",
       "      <th>lotId</th>\n",
       "      <th>minBeds</th>\n",
       "      <th>minBaths</th>\n",
       "      <th>minArea</th>\n",
       "      <th>plid</th>\n",
       "      <th>unitCount</th>\n",
       "      <th>isBuilding</th>\n",
       "      <th>badgeInfo</th>\n",
       "      <th>canSaveBuilding</th>\n",
       "      <th>style</th>\n",
       "      <th>isCdpResult</th>\n",
       "      <th>isPropertyResultCDP</th>\n",
       "      <th>hdpData.homeInfo.group_type</th>\n",
       "      <th>hdpData.homeInfo.priceSuffix</th>\n",
       "      <th>hdpData.homeInfo.listing_sub_type.is_openHouse</th>\n",
       "      <th>hdpData.homeInfo.openHouse</th>\n",
       "      <th>hdpData.homeInfo.open_house_info.open_house_showing</th>\n",
       "    </tr>\n",
       "  </thead>\n",
       "  <tbody>\n",
       "    <tr>\n",
       "      <th>0</th>\n",
       "      <td>10994599</td>\n",
       "      <td>$174,900</td>\n",
       "      <td>$175K</td>\n",
       "      <td>3.0</td>\n",
       "      <td>2.0</td>\n",
       "      <td>NaN</td>\n",
       "      <td>FOR_SALE</td>\n",
       "      <td>House for sale</td>\n",
       "      <td>False</td>\n",
       "      <td>False</td>\n",
       "      <td>False</td>\n",
       "      <td>https://photos.zillowstatic.com/fp/4bc4d899688...</td>\n",
       "      <td>True</td>\n",
       "      <td>False</td>\n",
       "      <td></td>\n",
       "      <td>False</td>\n",
       "      <td>/homedetails/16-South-St-Greenville-SC-29611/1...</td>\n",
       "      <td>ForSale</td>\n",
       "      <td>For Sale (Broker)</td>\n",
       "      <td>False</td>\n",
       "      <td>False</td>\n",
       "      <td>False</td>\n",
       "      <td>16 South St, Greenville, SC 29611</td>\n",
       "      <td>False</td>\n",
       "      <td>False</td>\n",
       "      <td>False</td>\n",
       "      <td>None</td>\n",
       "      <td>2.261431e+09</td>\n",
       "      <td>34.839214</td>\n",
       "      <td>-82.430330</td>\n",
       "      <td>PRICE_REDUCTION</td>\n",
       "      <td>$5,000 (Jun 11)</td>\n",
       "      <td>1.099460e+07</td>\n",
       "      <td>16 South St</td>\n",
       "      <td>29611</td>\n",
       "      <td>Greenville</td>\n",
       "      <td>SC</td>\n",
       "      <td>34.839214</td>\n",
       "      <td>-82.430330</td>\n",
       "      <td>174900.0</td>\n",
       "      <td>1.686467e+12</td>\n",
       "      <td>2.0</td>\n",
       "      <td>3.0</td>\n",
       "      <td>SINGLE_FAMILY</td>\n",
       "      <td>FOR_SALE</td>\n",
       "      <td>-1.0</td>\n",
       "      <td>False</td>\n",
       "      <td>False</td>\n",
       "      <td>169900.0</td>\n",
       "      <td>1494.0</td>\n",
       "      <td>True</td>\n",
       "      <td>$5,000 (Jun 11)</td>\n",
       "      <td>False</td>\n",
       "      <td>False</td>\n",
       "      <td>FOR_SALE</td>\n",
       "      <td>174900.0</td>\n",
       "      <td>-5000.0</td>\n",
       "      <td>True</td>\n",
       "      <td>False</td>\n",
       "      <td>False</td>\n",
       "      <td>USD</td>\n",
       "      <td>USA</td>\n",
       "      <td>95610.0</td>\n",
       "      <td>7840.80</td>\n",
       "      <td>sqft</td>\n",
       "      <td>False</td>\n",
       "      <td>NaN</td>\n",
       "      <td>NaN</td>\n",
       "      <td>NaN</td>\n",
       "      <td>NaN</td>\n",
       "      <td>NaN</td>\n",
       "      <td>NaN</td>\n",
       "      <td>NaN</td>\n",
       "      <td>NaN</td>\n",
       "      <td>NaN</td>\n",
       "      <td>NaN</td>\n",
       "      <td>NaN</td>\n",
       "      <td>NaN</td>\n",
       "      <td>NaN</td>\n",
       "      <td>NaN</td>\n",
       "      <td>NaN</td>\n",
       "      <td>NaN</td>\n",
       "      <td>NaN</td>\n",
       "      <td>NaN</td>\n",
       "      <td>NaN</td>\n",
       "      <td>NaN</td>\n",
       "      <td>NaN</td>\n",
       "      <td>NaN</td>\n",
       "      <td>NaN</td>\n",
       "      <td>NaN</td>\n",
       "      <td>NaN</td>\n",
       "      <td>NaN</td>\n",
       "      <td>NaN</td>\n",
       "      <td>NaN</td>\n",
       "    </tr>\n",
       "    <tr>\n",
       "      <th>1</th>\n",
       "      <td>11082040</td>\n",
       "      <td>$291,000</td>\n",
       "      <td>$291K</td>\n",
       "      <td>2.0</td>\n",
       "      <td>2.0</td>\n",
       "      <td>NaN</td>\n",
       "      <td>FOR_SALE</td>\n",
       "      <td>House for sale</td>\n",
       "      <td>False</td>\n",
       "      <td>False</td>\n",
       "      <td>False</td>\n",
       "      <td>https://photos.zillowstatic.com/fp/e348b0f36d7...</td>\n",
       "      <td>True</td>\n",
       "      <td>False</td>\n",
       "      <td></td>\n",
       "      <td>False</td>\n",
       "      <td>/homedetails/103-Cherokee-Dr-Greenville-SC-296...</td>\n",
       "      <td>ForSale</td>\n",
       "      <td>For Sale (Broker)</td>\n",
       "      <td>False</td>\n",
       "      <td>False</td>\n",
       "      <td>False</td>\n",
       "      <td>103 Cherokee Dr, Greenville, SC 29615</td>\n",
       "      <td>False</td>\n",
       "      <td>False</td>\n",
       "      <td>False</td>\n",
       "      <td>None</td>\n",
       "      <td>4.461603e+08</td>\n",
       "      <td>34.896038</td>\n",
       "      <td>-82.337200</td>\n",
       "      <td>NaN</td>\n",
       "      <td>NaN</td>\n",
       "      <td>1.108204e+07</td>\n",
       "      <td>103 Cherokee Dr</td>\n",
       "      <td>29615</td>\n",
       "      <td>Greenville</td>\n",
       "      <td>SC</td>\n",
       "      <td>34.896038</td>\n",
       "      <td>-82.337200</td>\n",
       "      <td>291000.0</td>\n",
       "      <td>NaN</td>\n",
       "      <td>2.0</td>\n",
       "      <td>2.0</td>\n",
       "      <td>SINGLE_FAMILY</td>\n",
       "      <td>FOR_SALE</td>\n",
       "      <td>-1.0</td>\n",
       "      <td>False</td>\n",
       "      <td>False</td>\n",
       "      <td>293900.0</td>\n",
       "      <td>1724.0</td>\n",
       "      <td>True</td>\n",
       "      <td>NaN</td>\n",
       "      <td>False</td>\n",
       "      <td>False</td>\n",
       "      <td>FOR_SALE</td>\n",
       "      <td>291000.0</td>\n",
       "      <td>NaN</td>\n",
       "      <td>True</td>\n",
       "      <td>False</td>\n",
       "      <td>False</td>\n",
       "      <td>USD</td>\n",
       "      <td>USA</td>\n",
       "      <td>161160.0</td>\n",
       "      <td>0.55</td>\n",
       "      <td>acres</td>\n",
       "      <td>False</td>\n",
       "      <td>NaN</td>\n",
       "      <td>NaN</td>\n",
       "      <td>NaN</td>\n",
       "      <td>NaN</td>\n",
       "      <td>NaN</td>\n",
       "      <td>NaN</td>\n",
       "      <td>NaN</td>\n",
       "      <td>NaN</td>\n",
       "      <td>NaN</td>\n",
       "      <td>NaN</td>\n",
       "      <td>NaN</td>\n",
       "      <td>NaN</td>\n",
       "      <td>NaN</td>\n",
       "      <td>NaN</td>\n",
       "      <td>NaN</td>\n",
       "      <td>NaN</td>\n",
       "      <td>NaN</td>\n",
       "      <td>NaN</td>\n",
       "      <td>NaN</td>\n",
       "      <td>NaN</td>\n",
       "      <td>NaN</td>\n",
       "      <td>NaN</td>\n",
       "      <td>NaN</td>\n",
       "      <td>NaN</td>\n",
       "      <td>NaN</td>\n",
       "      <td>NaN</td>\n",
       "      <td>NaN</td>\n",
       "      <td>NaN</td>\n",
       "    </tr>\n",
       "    <tr>\n",
       "      <th>2</th>\n",
       "      <td>10998522</td>\n",
       "      <td>$259,900</td>\n",
       "      <td>$260K</td>\n",
       "      <td>2.0</td>\n",
       "      <td>2.0</td>\n",
       "      <td>NaN</td>\n",
       "      <td>FOR_SALE</td>\n",
       "      <td>House for sale</td>\n",
       "      <td>False</td>\n",
       "      <td>False</td>\n",
       "      <td>False</td>\n",
       "      <td>https://photos.zillowstatic.com/fp/b8c0e6467a8...</td>\n",
       "      <td>True</td>\n",
       "      <td>False</td>\n",
       "      <td></td>\n",
       "      <td>False</td>\n",
       "      <td>/homedetails/3504-Old-Buncombe-Rd-Greenville-S...</td>\n",
       "      <td>ForSale</td>\n",
       "      <td>For Sale (Broker)</td>\n",
       "      <td>False</td>\n",
       "      <td>False</td>\n",
       "      <td>False</td>\n",
       "      <td>3504 Old Buncombe Rd, Greenville, SC 29617</td>\n",
       "      <td>False</td>\n",
       "      <td>False</td>\n",
       "      <td>False</td>\n",
       "      <td>None</td>\n",
       "      <td>4.196389e+08</td>\n",
       "      <td>34.886166</td>\n",
       "      <td>-82.428085</td>\n",
       "      <td>NaN</td>\n",
       "      <td>NaN</td>\n",
       "      <td>1.099852e+07</td>\n",
       "      <td>3504 Old Buncombe Rd</td>\n",
       "      <td>29617</td>\n",
       "      <td>Greenville</td>\n",
       "      <td>SC</td>\n",
       "      <td>34.886166</td>\n",
       "      <td>-82.428085</td>\n",
       "      <td>259900.0</td>\n",
       "      <td>NaN</td>\n",
       "      <td>2.0</td>\n",
       "      <td>2.0</td>\n",
       "      <td>SINGLE_FAMILY</td>\n",
       "      <td>FOR_SALE</td>\n",
       "      <td>-1.0</td>\n",
       "      <td>False</td>\n",
       "      <td>False</td>\n",
       "      <td>262200.0</td>\n",
       "      <td>1566.0</td>\n",
       "      <td>True</td>\n",
       "      <td>NaN</td>\n",
       "      <td>False</td>\n",
       "      <td>False</td>\n",
       "      <td>FOR_SALE</td>\n",
       "      <td>259900.0</td>\n",
       "      <td>NaN</td>\n",
       "      <td>True</td>\n",
       "      <td>False</td>\n",
       "      <td>False</td>\n",
       "      <td>USD</td>\n",
       "      <td>USA</td>\n",
       "      <td>60690.0</td>\n",
       "      <td>9147.60</td>\n",
       "      <td>sqft</td>\n",
       "      <td>False</td>\n",
       "      <td>NaN</td>\n",
       "      <td>NaN</td>\n",
       "      <td>NaN</td>\n",
       "      <td>NaN</td>\n",
       "      <td>NaN</td>\n",
       "      <td>NaN</td>\n",
       "      <td>NaN</td>\n",
       "      <td>NaN</td>\n",
       "      <td>NaN</td>\n",
       "      <td>NaN</td>\n",
       "      <td>NaN</td>\n",
       "      <td>NaN</td>\n",
       "      <td>NaN</td>\n",
       "      <td>NaN</td>\n",
       "      <td>NaN</td>\n",
       "      <td>NaN</td>\n",
       "      <td>NaN</td>\n",
       "      <td>NaN</td>\n",
       "      <td>NaN</td>\n",
       "      <td>NaN</td>\n",
       "      <td>NaN</td>\n",
       "      <td>NaN</td>\n",
       "      <td>NaN</td>\n",
       "      <td>NaN</td>\n",
       "      <td>NaN</td>\n",
       "      <td>NaN</td>\n",
       "      <td>NaN</td>\n",
       "      <td>NaN</td>\n",
       "    </tr>\n",
       "    <tr>\n",
       "      <th>3</th>\n",
       "      <td>332952970</td>\n",
       "      <td>$295,000</td>\n",
       "      <td>$295K</td>\n",
       "      <td>4.0</td>\n",
       "      <td>3.0</td>\n",
       "      <td>NaN</td>\n",
       "      <td>FOR_SALE</td>\n",
       "      <td>House for sale</td>\n",
       "      <td>False</td>\n",
       "      <td>False</td>\n",
       "      <td>False</td>\n",
       "      <td>https://photos.zillowstatic.com/fp/5e59e0b16d4...</td>\n",
       "      <td>True</td>\n",
       "      <td>False</td>\n",
       "      <td></td>\n",
       "      <td>False</td>\n",
       "      <td>/homedetails/200-Maplestead-Farms-Ct-Greenvill...</td>\n",
       "      <td>ForSale</td>\n",
       "      <td>For Sale (Broker)</td>\n",
       "      <td>False</td>\n",
       "      <td>False</td>\n",
       "      <td>False</td>\n",
       "      <td>200 Maplestead Farms Ct, Greenville, SC 29617</td>\n",
       "      <td>False</td>\n",
       "      <td>False</td>\n",
       "      <td>False</td>\n",
       "      <td>None</td>\n",
       "      <td>9.765600e+08</td>\n",
       "      <td>34.904470</td>\n",
       "      <td>-82.449200</td>\n",
       "      <td>NaN</td>\n",
       "      <td>NaN</td>\n",
       "      <td>3.329530e+08</td>\n",
       "      <td>200 Maplestead Farms Ct</td>\n",
       "      <td>29617</td>\n",
       "      <td>Greenville</td>\n",
       "      <td>SC</td>\n",
       "      <td>34.904470</td>\n",
       "      <td>-82.449200</td>\n",
       "      <td>295000.0</td>\n",
       "      <td>NaN</td>\n",
       "      <td>3.0</td>\n",
       "      <td>4.0</td>\n",
       "      <td>SINGLE_FAMILY</td>\n",
       "      <td>FOR_SALE</td>\n",
       "      <td>-1.0</td>\n",
       "      <td>False</td>\n",
       "      <td>False</td>\n",
       "      <td>291700.0</td>\n",
       "      <td>1870.0</td>\n",
       "      <td>True</td>\n",
       "      <td>NaN</td>\n",
       "      <td>False</td>\n",
       "      <td>False</td>\n",
       "      <td>FOR_SALE</td>\n",
       "      <td>295000.0</td>\n",
       "      <td>NaN</td>\n",
       "      <td>True</td>\n",
       "      <td>False</td>\n",
       "      <td>False</td>\n",
       "      <td>USD</td>\n",
       "      <td>USA</td>\n",
       "      <td>191930.0</td>\n",
       "      <td>5662.80</td>\n",
       "      <td>sqft</td>\n",
       "      <td>False</td>\n",
       "      <td>NaN</td>\n",
       "      <td>NaN</td>\n",
       "      <td>NaN</td>\n",
       "      <td>NaN</td>\n",
       "      <td>NaN</td>\n",
       "      <td>NaN</td>\n",
       "      <td>NaN</td>\n",
       "      <td>NaN</td>\n",
       "      <td>NaN</td>\n",
       "      <td>NaN</td>\n",
       "      <td>NaN</td>\n",
       "      <td>NaN</td>\n",
       "      <td>NaN</td>\n",
       "      <td>NaN</td>\n",
       "      <td>NaN</td>\n",
       "      <td>NaN</td>\n",
       "      <td>NaN</td>\n",
       "      <td>NaN</td>\n",
       "      <td>NaN</td>\n",
       "      <td>NaN</td>\n",
       "      <td>NaN</td>\n",
       "      <td>NaN</td>\n",
       "      <td>NaN</td>\n",
       "      <td>NaN</td>\n",
       "      <td>NaN</td>\n",
       "      <td>NaN</td>\n",
       "      <td>NaN</td>\n",
       "      <td>NaN</td>\n",
       "    </tr>\n",
       "    <tr>\n",
       "      <th>4</th>\n",
       "      <td>11023297</td>\n",
       "      <td>$269,900</td>\n",
       "      <td>$270K</td>\n",
       "      <td>3.0</td>\n",
       "      <td>2.0</td>\n",
       "      <td>NaN</td>\n",
       "      <td>FOR_SALE</td>\n",
       "      <td>House for sale</td>\n",
       "      <td>False</td>\n",
       "      <td>False</td>\n",
       "      <td>False</td>\n",
       "      <td>https://photos.zillowstatic.com/fp/f5017f83da6...</td>\n",
       "      <td>True</td>\n",
       "      <td>False</td>\n",
       "      <td></td>\n",
       "      <td>False</td>\n",
       "      <td>/homedetails/200-Brantford-Ln-Greenville-SC-29...</td>\n",
       "      <td>ForSale</td>\n",
       "      <td>For Sale (Broker)</td>\n",
       "      <td>False</td>\n",
       "      <td>False</td>\n",
       "      <td>False</td>\n",
       "      <td>200 Brantford Ln, Greenville, SC 29605</td>\n",
       "      <td>False</td>\n",
       "      <td>False</td>\n",
       "      <td>False</td>\n",
       "      <td>None</td>\n",
       "      <td>1.058383e+09</td>\n",
       "      <td>34.778860</td>\n",
       "      <td>-82.383920</td>\n",
       "      <td>NaN</td>\n",
       "      <td>NaN</td>\n",
       "      <td>1.102330e+07</td>\n",
       "      <td>200 Brantford Ln</td>\n",
       "      <td>29605</td>\n",
       "      <td>Greenville</td>\n",
       "      <td>SC</td>\n",
       "      <td>34.778860</td>\n",
       "      <td>-82.383920</td>\n",
       "      <td>269900.0</td>\n",
       "      <td>NaN</td>\n",
       "      <td>2.0</td>\n",
       "      <td>3.0</td>\n",
       "      <td>SINGLE_FAMILY</td>\n",
       "      <td>FOR_SALE</td>\n",
       "      <td>-1.0</td>\n",
       "      <td>False</td>\n",
       "      <td>False</td>\n",
       "      <td>274800.0</td>\n",
       "      <td>1800.0</td>\n",
       "      <td>True</td>\n",
       "      <td>NaN</td>\n",
       "      <td>False</td>\n",
       "      <td>False</td>\n",
       "      <td>FOR_SALE</td>\n",
       "      <td>269900.0</td>\n",
       "      <td>NaN</td>\n",
       "      <td>True</td>\n",
       "      <td>False</td>\n",
       "      <td>False</td>\n",
       "      <td>USD</td>\n",
       "      <td>USA</td>\n",
       "      <td>138690.0</td>\n",
       "      <td>10454.40</td>\n",
       "      <td>sqft</td>\n",
       "      <td>False</td>\n",
       "      <td>NaN</td>\n",
       "      <td>NaN</td>\n",
       "      <td>NaN</td>\n",
       "      <td>NaN</td>\n",
       "      <td>NaN</td>\n",
       "      <td>NaN</td>\n",
       "      <td>NaN</td>\n",
       "      <td>NaN</td>\n",
       "      <td>NaN</td>\n",
       "      <td>NaN</td>\n",
       "      <td>NaN</td>\n",
       "      <td>NaN</td>\n",
       "      <td>NaN</td>\n",
       "      <td>NaN</td>\n",
       "      <td>NaN</td>\n",
       "      <td>NaN</td>\n",
       "      <td>NaN</td>\n",
       "      <td>NaN</td>\n",
       "      <td>NaN</td>\n",
       "      <td>NaN</td>\n",
       "      <td>NaN</td>\n",
       "      <td>NaN</td>\n",
       "      <td>NaN</td>\n",
       "      <td>NaN</td>\n",
       "      <td>NaN</td>\n",
       "      <td>NaN</td>\n",
       "      <td>NaN</td>\n",
       "      <td>NaN</td>\n",
       "    </tr>\n",
       "    <tr>\n",
       "      <th>...</th>\n",
       "      <td>...</td>\n",
       "      <td>...</td>\n",
       "      <td>...</td>\n",
       "      <td>...</td>\n",
       "      <td>...</td>\n",
       "      <td>...</td>\n",
       "      <td>...</td>\n",
       "      <td>...</td>\n",
       "      <td>...</td>\n",
       "      <td>...</td>\n",
       "      <td>...</td>\n",
       "      <td>...</td>\n",
       "      <td>...</td>\n",
       "      <td>...</td>\n",
       "      <td>...</td>\n",
       "      <td>...</td>\n",
       "      <td>...</td>\n",
       "      <td>...</td>\n",
       "      <td>...</td>\n",
       "      <td>...</td>\n",
       "      <td>...</td>\n",
       "      <td>...</td>\n",
       "      <td>...</td>\n",
       "      <td>...</td>\n",
       "      <td>...</td>\n",
       "      <td>...</td>\n",
       "      <td>...</td>\n",
       "      <td>...</td>\n",
       "      <td>...</td>\n",
       "      <td>...</td>\n",
       "      <td>...</td>\n",
       "      <td>...</td>\n",
       "      <td>...</td>\n",
       "      <td>...</td>\n",
       "      <td>...</td>\n",
       "      <td>...</td>\n",
       "      <td>...</td>\n",
       "      <td>...</td>\n",
       "      <td>...</td>\n",
       "      <td>...</td>\n",
       "      <td>...</td>\n",
       "      <td>...</td>\n",
       "      <td>...</td>\n",
       "      <td>...</td>\n",
       "      <td>...</td>\n",
       "      <td>...</td>\n",
       "      <td>...</td>\n",
       "      <td>...</td>\n",
       "      <td>...</td>\n",
       "      <td>...</td>\n",
       "      <td>...</td>\n",
       "      <td>...</td>\n",
       "      <td>...</td>\n",
       "      <td>...</td>\n",
       "      <td>...</td>\n",
       "      <td>...</td>\n",
       "      <td>...</td>\n",
       "      <td>...</td>\n",
       "      <td>...</td>\n",
       "      <td>...</td>\n",
       "      <td>...</td>\n",
       "      <td>...</td>\n",
       "      <td>...</td>\n",
       "      <td>...</td>\n",
       "      <td>...</td>\n",
       "      <td>...</td>\n",
       "      <td>...</td>\n",
       "      <td>...</td>\n",
       "      <td>...</td>\n",
       "      <td>...</td>\n",
       "      <td>...</td>\n",
       "      <td>...</td>\n",
       "      <td>...</td>\n",
       "      <td>...</td>\n",
       "      <td>...</td>\n",
       "      <td>...</td>\n",
       "      <td>...</td>\n",
       "      <td>...</td>\n",
       "      <td>...</td>\n",
       "      <td>...</td>\n",
       "      <td>...</td>\n",
       "      <td>...</td>\n",
       "      <td>...</td>\n",
       "      <td>...</td>\n",
       "      <td>...</td>\n",
       "      <td>...</td>\n",
       "      <td>...</td>\n",
       "      <td>...</td>\n",
       "      <td>...</td>\n",
       "      <td>...</td>\n",
       "      <td>...</td>\n",
       "      <td>...</td>\n",
       "      <td>...</td>\n",
       "      <td>...</td>\n",
       "    </tr>\n",
       "    <tr>\n",
       "      <th>140</th>\n",
       "      <td>96421079</td>\n",
       "      <td>$50,000</td>\n",
       "      <td>$50K</td>\n",
       "      <td>NaN</td>\n",
       "      <td>NaN</td>\n",
       "      <td>NaN</td>\n",
       "      <td>FOR_SALE</td>\n",
       "      <td>Lot / Land for sale</td>\n",
       "      <td>False</td>\n",
       "      <td>False</td>\n",
       "      <td>False</td>\n",
       "      <td>https://photos.zillowstatic.com/fp/39860f4935f...</td>\n",
       "      <td>True</td>\n",
       "      <td>False</td>\n",
       "      <td></td>\n",
       "      <td>False</td>\n",
       "      <td>/homedetails/23-Goodrich-St-Greenville-SC-2961...</td>\n",
       "      <td>ForSale</td>\n",
       "      <td>For Sale (Broker)</td>\n",
       "      <td>False</td>\n",
       "      <td>False</td>\n",
       "      <td>False</td>\n",
       "      <td>23 Goodrich St, Greenville, SC 29611</td>\n",
       "      <td>False</td>\n",
       "      <td>False</td>\n",
       "      <td>False</td>\n",
       "      <td>None</td>\n",
       "      <td>6.301729e+10</td>\n",
       "      <td>34.830498</td>\n",
       "      <td>-82.426260</td>\n",
       "      <td>NaN</td>\n",
       "      <td>NaN</td>\n",
       "      <td>9.642108e+07</td>\n",
       "      <td>23 Goodrich St</td>\n",
       "      <td>29611</td>\n",
       "      <td>Greenville</td>\n",
       "      <td>SC</td>\n",
       "      <td>34.830498</td>\n",
       "      <td>-82.426260</td>\n",
       "      <td>50000.0</td>\n",
       "      <td>NaN</td>\n",
       "      <td>NaN</td>\n",
       "      <td>NaN</td>\n",
       "      <td>LOT</td>\n",
       "      <td>FOR_SALE</td>\n",
       "      <td>-1.0</td>\n",
       "      <td>False</td>\n",
       "      <td>False</td>\n",
       "      <td>NaN</td>\n",
       "      <td>1392.0</td>\n",
       "      <td>True</td>\n",
       "      <td>NaN</td>\n",
       "      <td>False</td>\n",
       "      <td>False</td>\n",
       "      <td>FOR_SALE</td>\n",
       "      <td>50000.0</td>\n",
       "      <td>NaN</td>\n",
       "      <td>True</td>\n",
       "      <td>False</td>\n",
       "      <td>False</td>\n",
       "      <td>USD</td>\n",
       "      <td>USA</td>\n",
       "      <td>15400.0</td>\n",
       "      <td>6969.60</td>\n",
       "      <td>sqft</td>\n",
       "      <td>False</td>\n",
       "      <td>NaN</td>\n",
       "      <td>NaN</td>\n",
       "      <td>NaN</td>\n",
       "      <td>NaN</td>\n",
       "      <td>NaN</td>\n",
       "      <td>6,970 sqft</td>\n",
       "      <td>NaN</td>\n",
       "      <td>NaN</td>\n",
       "      <td>NaN</td>\n",
       "      <td>NaN</td>\n",
       "      <td>NaN</td>\n",
       "      <td>NaN</td>\n",
       "      <td>NaN</td>\n",
       "      <td>NaN</td>\n",
       "      <td>NaN</td>\n",
       "      <td>NaN</td>\n",
       "      <td>NaN</td>\n",
       "      <td>NaN</td>\n",
       "      <td>NaN</td>\n",
       "      <td>NaN</td>\n",
       "      <td>NaN</td>\n",
       "      <td>NaN</td>\n",
       "      <td>NaN</td>\n",
       "      <td>NaN</td>\n",
       "      <td>NaN</td>\n",
       "      <td>NaN</td>\n",
       "      <td>NaN</td>\n",
       "      <td>NaN</td>\n",
       "    </tr>\n",
       "    <tr>\n",
       "      <th>141</th>\n",
       "      <td>2086488703</td>\n",
       "      <td>$75,000</td>\n",
       "      <td>$75K</td>\n",
       "      <td>NaN</td>\n",
       "      <td>NaN</td>\n",
       "      <td>NaN</td>\n",
       "      <td>FOR_SALE</td>\n",
       "      <td>Lot / Land for sale</td>\n",
       "      <td>False</td>\n",
       "      <td>False</td>\n",
       "      <td>False</td>\n",
       "      <td>https://photos.zillowstatic.com/fp/761aa2620c5...</td>\n",
       "      <td>True</td>\n",
       "      <td>False</td>\n",
       "      <td></td>\n",
       "      <td>False</td>\n",
       "      <td>/homedetails/3-Valentine-St-Greenville-SC-2960...</td>\n",
       "      <td>ForSale</td>\n",
       "      <td>For Sale (Broker)</td>\n",
       "      <td>False</td>\n",
       "      <td>False</td>\n",
       "      <td>False</td>\n",
       "      <td>3 Valentine St, Greenville, SC 29601</td>\n",
       "      <td>False</td>\n",
       "      <td>False</td>\n",
       "      <td>False</td>\n",
       "      <td>None</td>\n",
       "      <td>1.746483e+10</td>\n",
       "      <td>34.833650</td>\n",
       "      <td>-82.420200</td>\n",
       "      <td>PRICE_REDUCTION</td>\n",
       "      <td>$10,000 (May 22)</td>\n",
       "      <td>2.086489e+09</td>\n",
       "      <td>3 Valentine St</td>\n",
       "      <td>29601</td>\n",
       "      <td>Greenville</td>\n",
       "      <td>SC</td>\n",
       "      <td>34.833650</td>\n",
       "      <td>-82.420200</td>\n",
       "      <td>75000.0</td>\n",
       "      <td>1.684739e+12</td>\n",
       "      <td>NaN</td>\n",
       "      <td>NaN</td>\n",
       "      <td>LOT</td>\n",
       "      <td>FOR_SALE</td>\n",
       "      <td>-1.0</td>\n",
       "      <td>False</td>\n",
       "      <td>False</td>\n",
       "      <td>NaN</td>\n",
       "      <td>1700.0</td>\n",
       "      <td>True</td>\n",
       "      <td>$10,000 (May 22)</td>\n",
       "      <td>False</td>\n",
       "      <td>False</td>\n",
       "      <td>FOR_SALE</td>\n",
       "      <td>75000.0</td>\n",
       "      <td>-10000.0</td>\n",
       "      <td>True</td>\n",
       "      <td>False</td>\n",
       "      <td>False</td>\n",
       "      <td>USD</td>\n",
       "      <td>USA</td>\n",
       "      <td>NaN</td>\n",
       "      <td>9147.60</td>\n",
       "      <td>sqft</td>\n",
       "      <td>False</td>\n",
       "      <td>NaN</td>\n",
       "      <td>NaN</td>\n",
       "      <td>NaN</td>\n",
       "      <td>NaN</td>\n",
       "      <td>NaN</td>\n",
       "      <td>9,148 sqft</td>\n",
       "      <td>NaN</td>\n",
       "      <td>NaN</td>\n",
       "      <td>NaN</td>\n",
       "      <td>NaN</td>\n",
       "      <td>NaN</td>\n",
       "      <td>NaN</td>\n",
       "      <td>NaN</td>\n",
       "      <td>NaN</td>\n",
       "      <td>NaN</td>\n",
       "      <td>NaN</td>\n",
       "      <td>NaN</td>\n",
       "      <td>NaN</td>\n",
       "      <td>NaN</td>\n",
       "      <td>NaN</td>\n",
       "      <td>NaN</td>\n",
       "      <td>NaN</td>\n",
       "      <td>NaN</td>\n",
       "      <td>NaN</td>\n",
       "      <td>NaN</td>\n",
       "      <td>NaN</td>\n",
       "      <td>NaN</td>\n",
       "      <td>NaN</td>\n",
       "    </tr>\n",
       "    <tr>\n",
       "      <th>142</th>\n",
       "      <td>2065445455</td>\n",
       "      <td>$124,000</td>\n",
       "      <td>$124K</td>\n",
       "      <td>NaN</td>\n",
       "      <td>NaN</td>\n",
       "      <td>NaN</td>\n",
       "      <td>FOR_SALE</td>\n",
       "      <td>Lot / Land for sale</td>\n",
       "      <td>False</td>\n",
       "      <td>False</td>\n",
       "      <td>False</td>\n",
       "      <td>https://photos.zillowstatic.com/fp/79f0bba7897...</td>\n",
       "      <td>True</td>\n",
       "      <td>False</td>\n",
       "      <td></td>\n",
       "      <td>False</td>\n",
       "      <td>/homedetails/35-Village-Crest-Dr-Greenville-SC...</td>\n",
       "      <td>ForSale</td>\n",
       "      <td>For Sale (Broker)</td>\n",
       "      <td>False</td>\n",
       "      <td>False</td>\n",
       "      <td>False</td>\n",
       "      <td>35 Village Crest Dr, Greenville, SC 29607</td>\n",
       "      <td>False</td>\n",
       "      <td>False</td>\n",
       "      <td>False</td>\n",
       "      <td>None</td>\n",
       "      <td>3.914447e+10</td>\n",
       "      <td>34.809357</td>\n",
       "      <td>-82.345850</td>\n",
       "      <td>NaN</td>\n",
       "      <td>NaN</td>\n",
       "      <td>2.065445e+09</td>\n",
       "      <td>35 Village Crest Dr</td>\n",
       "      <td>29607</td>\n",
       "      <td>Greenville</td>\n",
       "      <td>SC</td>\n",
       "      <td>34.809357</td>\n",
       "      <td>-82.345850</td>\n",
       "      <td>124000.0</td>\n",
       "      <td>1.671782e+12</td>\n",
       "      <td>NaN</td>\n",
       "      <td>NaN</td>\n",
       "      <td>LOT</td>\n",
       "      <td>FOR_SALE</td>\n",
       "      <td>-1.0</td>\n",
       "      <td>False</td>\n",
       "      <td>False</td>\n",
       "      <td>NaN</td>\n",
       "      <td>1810.0</td>\n",
       "      <td>True</td>\n",
       "      <td></td>\n",
       "      <td>False</td>\n",
       "      <td>False</td>\n",
       "      <td>FOR_SALE</td>\n",
       "      <td>124000.0</td>\n",
       "      <td>-1000.0</td>\n",
       "      <td>True</td>\n",
       "      <td>False</td>\n",
       "      <td>False</td>\n",
       "      <td>USD</td>\n",
       "      <td>USA</td>\n",
       "      <td>NaN</td>\n",
       "      <td>6098.40</td>\n",
       "      <td>sqft</td>\n",
       "      <td>False</td>\n",
       "      <td>NaN</td>\n",
       "      <td>NaN</td>\n",
       "      <td>NaN</td>\n",
       "      <td>NaN</td>\n",
       "      <td>NaN</td>\n",
       "      <td>6,098 sqft</td>\n",
       "      <td>NaN</td>\n",
       "      <td>NaN</td>\n",
       "      <td>NaN</td>\n",
       "      <td>NaN</td>\n",
       "      <td>NaN</td>\n",
       "      <td>NaN</td>\n",
       "      <td>NaN</td>\n",
       "      <td>NaN</td>\n",
       "      <td>NaN</td>\n",
       "      <td>NaN</td>\n",
       "      <td>NaN</td>\n",
       "      <td>NaN</td>\n",
       "      <td>NaN</td>\n",
       "      <td>NaN</td>\n",
       "      <td>NaN</td>\n",
       "      <td>NaN</td>\n",
       "      <td>NaN</td>\n",
       "      <td>NaN</td>\n",
       "      <td>NaN</td>\n",
       "      <td>NaN</td>\n",
       "      <td>NaN</td>\n",
       "      <td>NaN</td>\n",
       "    </tr>\n",
       "    <tr>\n",
       "      <th>143</th>\n",
       "      <td>NaN</td>\n",
       "      <td>From $291,000</td>\n",
       "      <td>NaN</td>\n",
       "      <td>NaN</td>\n",
       "      <td>NaN</td>\n",
       "      <td>NaN</td>\n",
       "      <td>FOR_SALE</td>\n",
       "      <td>NaN</td>\n",
       "      <td>NaN</td>\n",
       "      <td>NaN</td>\n",
       "      <td>NaN</td>\n",
       "      <td>https://photos.zillowstatic.com/fp/84dbe45f50d...</td>\n",
       "      <td>True</td>\n",
       "      <td>NaN</td>\n",
       "      <td>NEW_CONSTRUCTION</td>\n",
       "      <td>NaN</td>\n",
       "      <td>/community/harrington/28956606_plid/</td>\n",
       "      <td>NaN</td>\n",
       "      <td>NaN</td>\n",
       "      <td>NaN</td>\n",
       "      <td>NaN</td>\n",
       "      <td>NaN</td>\n",
       "      <td>NaN</td>\n",
       "      <td>NaN</td>\n",
       "      <td>NaN</td>\n",
       "      <td>NaN</td>\n",
       "      <td>NaN</td>\n",
       "      <td>NaN</td>\n",
       "      <td>34.733357</td>\n",
       "      <td>-82.346335</td>\n",
       "      <td>NaN</td>\n",
       "      <td>NaN</td>\n",
       "      <td>NaN</td>\n",
       "      <td>NaN</td>\n",
       "      <td>NaN</td>\n",
       "      <td>NaN</td>\n",
       "      <td>NaN</td>\n",
       "      <td>NaN</td>\n",
       "      <td>NaN</td>\n",
       "      <td>NaN</td>\n",
       "      <td>NaN</td>\n",
       "      <td>NaN</td>\n",
       "      <td>NaN</td>\n",
       "      <td>NaN</td>\n",
       "      <td>NaN</td>\n",
       "      <td>NaN</td>\n",
       "      <td>NaN</td>\n",
       "      <td>NaN</td>\n",
       "      <td>NaN</td>\n",
       "      <td>NaN</td>\n",
       "      <td>NaN</td>\n",
       "      <td>NaN</td>\n",
       "      <td>NaN</td>\n",
       "      <td>NaN</td>\n",
       "      <td>NaN</td>\n",
       "      <td>NaN</td>\n",
       "      <td>NaN</td>\n",
       "      <td>NaN</td>\n",
       "      <td>NaN</td>\n",
       "      <td>NaN</td>\n",
       "      <td>NaN</td>\n",
       "      <td>NaN</td>\n",
       "      <td>NaN</td>\n",
       "      <td>NaN</td>\n",
       "      <td>NaN</td>\n",
       "      <td>NaN</td>\n",
       "      <td>NaN</td>\n",
       "      <td>NaN</td>\n",
       "      <td>NaN</td>\n",
       "      <td>NaN</td>\n",
       "      <td>NaN</td>\n",
       "      <td>NaN</td>\n",
       "      <td>Harrington</td>\n",
       "      <td>NaN</td>\n",
       "      <td>NaN</td>\n",
       "      <td>NaN</td>\n",
       "      <td>34.733357--82.346335</td>\n",
       "      <td>NaN</td>\n",
       "      <td>NaN</td>\n",
       "      <td>NaN</td>\n",
       "      <td>NaN</td>\n",
       "      <td>28956606</td>\n",
       "      <td>18.0</td>\n",
       "      <td>NaN</td>\n",
       "      <td>NaN</td>\n",
       "      <td>NaN</td>\n",
       "      <td>None</td>\n",
       "      <td>True</td>\n",
       "      <td>NaN</td>\n",
       "      <td>NaN</td>\n",
       "      <td>NaN</td>\n",
       "      <td>NaN</td>\n",
       "      <td>NaN</td>\n",
       "      <td>NaN</td>\n",
       "    </tr>\n",
       "    <tr>\n",
       "      <th>144</th>\n",
       "      <td>NaN</td>\n",
       "      <td>From $259,270</td>\n",
       "      <td>NaN</td>\n",
       "      <td>NaN</td>\n",
       "      <td>NaN</td>\n",
       "      <td>NaN</td>\n",
       "      <td>FOR_SALE</td>\n",
       "      <td>NaN</td>\n",
       "      <td>NaN</td>\n",
       "      <td>NaN</td>\n",
       "      <td>NaN</td>\n",
       "      <td>https://photos.zillowstatic.com/fp/721fdebdda9...</td>\n",
       "      <td>True</td>\n",
       "      <td>NaN</td>\n",
       "      <td>NEW_CONSTRUCTION</td>\n",
       "      <td>NaN</td>\n",
       "      <td>/community/parkland/29493865_plid/</td>\n",
       "      <td>NaN</td>\n",
       "      <td>NaN</td>\n",
       "      <td>NaN</td>\n",
       "      <td>NaN</td>\n",
       "      <td>NaN</td>\n",
       "      <td>NaN</td>\n",
       "      <td>NaN</td>\n",
       "      <td>NaN</td>\n",
       "      <td>NaN</td>\n",
       "      <td>NaN</td>\n",
       "      <td>NaN</td>\n",
       "      <td>34.785857</td>\n",
       "      <td>-82.336454</td>\n",
       "      <td>NaN</td>\n",
       "      <td>NaN</td>\n",
       "      <td>NaN</td>\n",
       "      <td>NaN</td>\n",
       "      <td>NaN</td>\n",
       "      <td>NaN</td>\n",
       "      <td>NaN</td>\n",
       "      <td>NaN</td>\n",
       "      <td>NaN</td>\n",
       "      <td>NaN</td>\n",
       "      <td>NaN</td>\n",
       "      <td>NaN</td>\n",
       "      <td>NaN</td>\n",
       "      <td>NaN</td>\n",
       "      <td>NaN</td>\n",
       "      <td>NaN</td>\n",
       "      <td>NaN</td>\n",
       "      <td>NaN</td>\n",
       "      <td>NaN</td>\n",
       "      <td>NaN</td>\n",
       "      <td>NaN</td>\n",
       "      <td>NaN</td>\n",
       "      <td>NaN</td>\n",
       "      <td>NaN</td>\n",
       "      <td>NaN</td>\n",
       "      <td>NaN</td>\n",
       "      <td>NaN</td>\n",
       "      <td>NaN</td>\n",
       "      <td>NaN</td>\n",
       "      <td>NaN</td>\n",
       "      <td>NaN</td>\n",
       "      <td>NaN</td>\n",
       "      <td>NaN</td>\n",
       "      <td>NaN</td>\n",
       "      <td>NaN</td>\n",
       "      <td>NaN</td>\n",
       "      <td>NaN</td>\n",
       "      <td>NaN</td>\n",
       "      <td>NaN</td>\n",
       "      <td>NaN</td>\n",
       "      <td>NaN</td>\n",
       "      <td>NaN</td>\n",
       "      <td>Parkland</td>\n",
       "      <td>NaN</td>\n",
       "      <td>NaN</td>\n",
       "      <td>NaN</td>\n",
       "      <td>34.785857--82.336454</td>\n",
       "      <td>NaN</td>\n",
       "      <td>NaN</td>\n",
       "      <td>NaN</td>\n",
       "      <td>NaN</td>\n",
       "      <td>29493865</td>\n",
       "      <td>6.0</td>\n",
       "      <td>NaN</td>\n",
       "      <td>NaN</td>\n",
       "      <td>NaN</td>\n",
       "      <td>None</td>\n",
       "      <td>True</td>\n",
       "      <td>NaN</td>\n",
       "      <td>NaN</td>\n",
       "      <td>NaN</td>\n",
       "      <td>NaN</td>\n",
       "      <td>NaN</td>\n",
       "      <td>NaN</td>\n",
       "    </tr>\n",
       "  </tbody>\n",
       "</table>\n",
       "<p>145 rows × 94 columns</p>\n",
       "</div>"
      ],
      "text/plain": [
       "           zpid          price priceLabel  beds  baths  area statusType  \\\n",
       "0      10994599       $174,900      $175K   3.0    2.0   NaN   FOR_SALE   \n",
       "1      11082040       $291,000      $291K   2.0    2.0   NaN   FOR_SALE   \n",
       "2      10998522       $259,900      $260K   2.0    2.0   NaN   FOR_SALE   \n",
       "3     332952970       $295,000      $295K   4.0    3.0   NaN   FOR_SALE   \n",
       "4      11023297       $269,900      $270K   3.0    2.0   NaN   FOR_SALE   \n",
       "..          ...            ...        ...   ...    ...   ...        ...   \n",
       "140    96421079        $50,000       $50K   NaN    NaN   NaN   FOR_SALE   \n",
       "141  2086488703        $75,000       $75K   NaN    NaN   NaN   FOR_SALE   \n",
       "142  2065445455       $124,000      $124K   NaN    NaN   NaN   FOR_SALE   \n",
       "143         NaN  From $291,000        NaN   NaN    NaN   NaN   FOR_SALE   \n",
       "144         NaN  From $259,270        NaN   NaN    NaN   NaN   FOR_SALE   \n",
       "\n",
       "              statusText isFavorite isUserClaimingOwner isUserConfirmedClaim  \\\n",
       "0         House for sale      False               False                False   \n",
       "1         House for sale      False               False                False   \n",
       "2         House for sale      False               False                False   \n",
       "3         House for sale      False               False                False   \n",
       "4         House for sale      False               False                False   \n",
       "..                   ...        ...                 ...                  ...   \n",
       "140  Lot / Land for sale      False               False                False   \n",
       "141  Lot / Land for sale      False               False                False   \n",
       "142  Lot / Land for sale      False               False                False   \n",
       "143                  NaN        NaN                 NaN                  NaN   \n",
       "144                  NaN        NaN                 NaN                  NaN   \n",
       "\n",
       "                                                imgSrc  hasImage visited  \\\n",
       "0    https://photos.zillowstatic.com/fp/4bc4d899688...      True   False   \n",
       "1    https://photos.zillowstatic.com/fp/e348b0f36d7...      True   False   \n",
       "2    https://photos.zillowstatic.com/fp/b8c0e6467a8...      True   False   \n",
       "3    https://photos.zillowstatic.com/fp/5e59e0b16d4...      True   False   \n",
       "4    https://photos.zillowstatic.com/fp/f5017f83da6...      True   False   \n",
       "..                                                 ...       ...     ...   \n",
       "140  https://photos.zillowstatic.com/fp/39860f4935f...      True   False   \n",
       "141  https://photos.zillowstatic.com/fp/761aa2620c5...      True   False   \n",
       "142  https://photos.zillowstatic.com/fp/79f0bba7897...      True   False   \n",
       "143  https://photos.zillowstatic.com/fp/84dbe45f50d...      True     NaN   \n",
       "144  https://photos.zillowstatic.com/fp/721fdebdda9...      True     NaN   \n",
       "\n",
       "          listingType shouldShowZestimateAsPrice  \\\n",
       "0                                          False   \n",
       "1                                          False   \n",
       "2                                          False   \n",
       "3                                          False   \n",
       "4                                          False   \n",
       "..                ...                        ...   \n",
       "140                                        False   \n",
       "141                                        False   \n",
       "142                                        False   \n",
       "143  NEW_CONSTRUCTION                        NaN   \n",
       "144  NEW_CONSTRUCTION                        NaN   \n",
       "\n",
       "                                             detailUrl    pgapt  \\\n",
       "0    /homedetails/16-South-St-Greenville-SC-29611/1...  ForSale   \n",
       "1    /homedetails/103-Cherokee-Dr-Greenville-SC-296...  ForSale   \n",
       "2    /homedetails/3504-Old-Buncombe-Rd-Greenville-S...  ForSale   \n",
       "3    /homedetails/200-Maplestead-Farms-Ct-Greenvill...  ForSale   \n",
       "4    /homedetails/200-Brantford-Ln-Greenville-SC-29...  ForSale   \n",
       "..                                                 ...      ...   \n",
       "140  /homedetails/23-Goodrich-St-Greenville-SC-2961...  ForSale   \n",
       "141  /homedetails/3-Valentine-St-Greenville-SC-2960...  ForSale   \n",
       "142  /homedetails/35-Village-Crest-Dr-Greenville-SC...  ForSale   \n",
       "143               /community/harrington/28956606_plid/      NaN   \n",
       "144                 /community/parkland/29493865_plid/      NaN   \n",
       "\n",
       "                 sgapt has3DModel hasVideo isHomeRec  \\\n",
       "0    For Sale (Broker)      False    False     False   \n",
       "1    For Sale (Broker)      False    False     False   \n",
       "2    For Sale (Broker)      False    False     False   \n",
       "3    For Sale (Broker)      False    False     False   \n",
       "4    For Sale (Broker)      False    False     False   \n",
       "..                 ...        ...      ...       ...   \n",
       "140  For Sale (Broker)      False    False     False   \n",
       "141  For Sale (Broker)      False    False     False   \n",
       "142  For Sale (Broker)      False    False     False   \n",
       "143                NaN        NaN      NaN       NaN   \n",
       "144                NaN        NaN      NaN       NaN   \n",
       "\n",
       "                                           address hasAdditionalAttributions  \\\n",
       "0                16 South St, Greenville, SC 29611                     False   \n",
       "1            103 Cherokee Dr, Greenville, SC 29615                     False   \n",
       "2       3504 Old Buncombe Rd, Greenville, SC 29617                     False   \n",
       "3    200 Maplestead Farms Ct, Greenville, SC 29617                     False   \n",
       "4           200 Brantford Ln, Greenville, SC 29605                     False   \n",
       "..                                             ...                       ...   \n",
       "140           23 Goodrich St, Greenville, SC 29611                     False   \n",
       "141           3 Valentine St, Greenville, SC 29601                     False   \n",
       "142      35 Village Crest Dr, Greenville, SC 29607                     False   \n",
       "143                                            NaN                       NaN   \n",
       "144                                            NaN                       NaN   \n",
       "\n",
       "    isFeaturedListing isShowcaseListing availabilityDate  timeOnZillow  \\\n",
       "0               False             False             None  2.261431e+09   \n",
       "1               False             False             None  4.461603e+08   \n",
       "2               False             False             None  4.196389e+08   \n",
       "3               False             False             None  9.765600e+08   \n",
       "4               False             False             None  1.058383e+09   \n",
       "..                ...               ...              ...           ...   \n",
       "140             False             False             None  6.301729e+10   \n",
       "141             False             False             None  1.746483e+10   \n",
       "142             False             False             None  3.914447e+10   \n",
       "143               NaN               NaN              NaN           NaN   \n",
       "144               NaN               NaN              NaN           NaN   \n",
       "\n",
       "     latLong.latitude  latLong.longitude variableData.type variableData.text  \\\n",
       "0           34.839214         -82.430330   PRICE_REDUCTION   $5,000 (Jun 11)   \n",
       "1           34.896038         -82.337200               NaN               NaN   \n",
       "2           34.886166         -82.428085               NaN               NaN   \n",
       "3           34.904470         -82.449200               NaN               NaN   \n",
       "4           34.778860         -82.383920               NaN               NaN   \n",
       "..                ...                ...               ...               ...   \n",
       "140         34.830498         -82.426260               NaN               NaN   \n",
       "141         34.833650         -82.420200   PRICE_REDUCTION  $10,000 (May 22)   \n",
       "142         34.809357         -82.345850               NaN               NaN   \n",
       "143         34.733357         -82.346335               NaN               NaN   \n",
       "144         34.785857         -82.336454               NaN               NaN   \n",
       "\n",
       "     hdpData.homeInfo.zpid hdpData.homeInfo.streetAddress  \\\n",
       "0             1.099460e+07                    16 South St   \n",
       "1             1.108204e+07                103 Cherokee Dr   \n",
       "2             1.099852e+07           3504 Old Buncombe Rd   \n",
       "3             3.329530e+08        200 Maplestead Farms Ct   \n",
       "4             1.102330e+07               200 Brantford Ln   \n",
       "..                     ...                            ...   \n",
       "140           9.642108e+07                 23 Goodrich St   \n",
       "141           2.086489e+09                 3 Valentine St   \n",
       "142           2.065445e+09            35 Village Crest Dr   \n",
       "143                    NaN                            NaN   \n",
       "144                    NaN                            NaN   \n",
       "\n",
       "    hdpData.homeInfo.zipcode hdpData.homeInfo.city hdpData.homeInfo.state  \\\n",
       "0                      29611            Greenville                     SC   \n",
       "1                      29615            Greenville                     SC   \n",
       "2                      29617            Greenville                     SC   \n",
       "3                      29617            Greenville                     SC   \n",
       "4                      29605            Greenville                     SC   \n",
       "..                       ...                   ...                    ...   \n",
       "140                    29611            Greenville                     SC   \n",
       "141                    29601            Greenville                     SC   \n",
       "142                    29607            Greenville                     SC   \n",
       "143                      NaN                   NaN                    NaN   \n",
       "144                      NaN                   NaN                    NaN   \n",
       "\n",
       "     hdpData.homeInfo.latitude  hdpData.homeInfo.longitude  \\\n",
       "0                    34.839214                  -82.430330   \n",
       "1                    34.896038                  -82.337200   \n",
       "2                    34.886166                  -82.428085   \n",
       "3                    34.904470                  -82.449200   \n",
       "4                    34.778860                  -82.383920   \n",
       "..                         ...                         ...   \n",
       "140                  34.830498                  -82.426260   \n",
       "141                  34.833650                  -82.420200   \n",
       "142                  34.809357                  -82.345850   \n",
       "143                        NaN                         NaN   \n",
       "144                        NaN                         NaN   \n",
       "\n",
       "     hdpData.homeInfo.price  hdpData.homeInfo.datePriceChanged  \\\n",
       "0                  174900.0                       1.686467e+12   \n",
       "1                  291000.0                                NaN   \n",
       "2                  259900.0                                NaN   \n",
       "3                  295000.0                                NaN   \n",
       "4                  269900.0                                NaN   \n",
       "..                      ...                                ...   \n",
       "140                 50000.0                                NaN   \n",
       "141                 75000.0                       1.684739e+12   \n",
       "142                124000.0                       1.671782e+12   \n",
       "143                     NaN                                NaN   \n",
       "144                     NaN                                NaN   \n",
       "\n",
       "     hdpData.homeInfo.bathrooms  hdpData.homeInfo.bedrooms  \\\n",
       "0                           2.0                        3.0   \n",
       "1                           2.0                        2.0   \n",
       "2                           2.0                        2.0   \n",
       "3                           3.0                        4.0   \n",
       "4                           2.0                        3.0   \n",
       "..                          ...                        ...   \n",
       "140                         NaN                        NaN   \n",
       "141                         NaN                        NaN   \n",
       "142                         NaN                        NaN   \n",
       "143                         NaN                        NaN   \n",
       "144                         NaN                        NaN   \n",
       "\n",
       "    hdpData.homeInfo.homeType hdpData.homeInfo.homeStatus  \\\n",
       "0               SINGLE_FAMILY                    FOR_SALE   \n",
       "1               SINGLE_FAMILY                    FOR_SALE   \n",
       "2               SINGLE_FAMILY                    FOR_SALE   \n",
       "3               SINGLE_FAMILY                    FOR_SALE   \n",
       "4               SINGLE_FAMILY                    FOR_SALE   \n",
       "..                        ...                         ...   \n",
       "140                       LOT                    FOR_SALE   \n",
       "141                       LOT                    FOR_SALE   \n",
       "142                       LOT                    FOR_SALE   \n",
       "143                       NaN                         NaN   \n",
       "144                       NaN                         NaN   \n",
       "\n",
       "     hdpData.homeInfo.daysOnZillow hdpData.homeInfo.isFeatured  \\\n",
       "0                             -1.0                       False   \n",
       "1                             -1.0                       False   \n",
       "2                             -1.0                       False   \n",
       "3                             -1.0                       False   \n",
       "4                             -1.0                       False   \n",
       "..                             ...                         ...   \n",
       "140                           -1.0                       False   \n",
       "141                           -1.0                       False   \n",
       "142                           -1.0                       False   \n",
       "143                            NaN                         NaN   \n",
       "144                            NaN                         NaN   \n",
       "\n",
       "    hdpData.homeInfo.shouldHighlight  hdpData.homeInfo.zestimate  \\\n",
       "0                              False                    169900.0   \n",
       "1                              False                    293900.0   \n",
       "2                              False                    262200.0   \n",
       "3                              False                    291700.0   \n",
       "4                              False                    274800.0   \n",
       "..                               ...                         ...   \n",
       "140                            False                         NaN   \n",
       "141                            False                         NaN   \n",
       "142                            False                         NaN   \n",
       "143                              NaN                         NaN   \n",
       "144                              NaN                         NaN   \n",
       "\n",
       "     hdpData.homeInfo.rentZestimate hdpData.homeInfo.listing_sub_type.is_FSBA  \\\n",
       "0                            1494.0                                      True   \n",
       "1                            1724.0                                      True   \n",
       "2                            1566.0                                      True   \n",
       "3                            1870.0                                      True   \n",
       "4                            1800.0                                      True   \n",
       "..                              ...                                       ...   \n",
       "140                          1392.0                                      True   \n",
       "141                          1700.0                                      True   \n",
       "142                          1810.0                                      True   \n",
       "143                             NaN                                       NaN   \n",
       "144                             NaN                                       NaN   \n",
       "\n",
       "    hdpData.homeInfo.priceReduction hdpData.homeInfo.isUnmappable  \\\n",
       "0                   $5,000 (Jun 11)                         False   \n",
       "1                               NaN                         False   \n",
       "2                               NaN                         False   \n",
       "3                               NaN                         False   \n",
       "4                               NaN                         False   \n",
       "..                              ...                           ...   \n",
       "140                             NaN                         False   \n",
       "141                $10,000 (May 22)                         False   \n",
       "142                                                         False   \n",
       "143                             NaN                           NaN   \n",
       "144                             NaN                           NaN   \n",
       "\n",
       "    hdpData.homeInfo.isPreforeclosureAuction  \\\n",
       "0                                      False   \n",
       "1                                      False   \n",
       "2                                      False   \n",
       "3                                      False   \n",
       "4                                      False   \n",
       "..                                       ...   \n",
       "140                                    False   \n",
       "141                                    False   \n",
       "142                                    False   \n",
       "143                                      NaN   \n",
       "144                                      NaN   \n",
       "\n",
       "    hdpData.homeInfo.homeStatusForHDP  hdpData.homeInfo.priceForHDP  \\\n",
       "0                            FOR_SALE                      174900.0   \n",
       "1                            FOR_SALE                      291000.0   \n",
       "2                            FOR_SALE                      259900.0   \n",
       "3                            FOR_SALE                      295000.0   \n",
       "4                            FOR_SALE                      269900.0   \n",
       "..                                ...                           ...   \n",
       "140                          FOR_SALE                       50000.0   \n",
       "141                          FOR_SALE                       75000.0   \n",
       "142                          FOR_SALE                      124000.0   \n",
       "143                               NaN                           NaN   \n",
       "144                               NaN                           NaN   \n",
       "\n",
       "     hdpData.homeInfo.priceChange hdpData.homeInfo.isNonOwnerOccupied  \\\n",
       "0                         -5000.0                                True   \n",
       "1                             NaN                                True   \n",
       "2                             NaN                                True   \n",
       "3                             NaN                                True   \n",
       "4                             NaN                                True   \n",
       "..                            ...                                 ...   \n",
       "140                           NaN                                True   \n",
       "141                      -10000.0                                True   \n",
       "142                       -1000.0                                True   \n",
       "143                           NaN                                 NaN   \n",
       "144                           NaN                                 NaN   \n",
       "\n",
       "    hdpData.homeInfo.isPremierBuilder hdpData.homeInfo.isZillowOwned  \\\n",
       "0                               False                          False   \n",
       "1                               False                          False   \n",
       "2                               False                          False   \n",
       "3                               False                          False   \n",
       "4                               False                          False   \n",
       "..                                ...                            ...   \n",
       "140                             False                          False   \n",
       "141                             False                          False   \n",
       "142                             False                          False   \n",
       "143                               NaN                            NaN   \n",
       "144                               NaN                            NaN   \n",
       "\n",
       "    hdpData.homeInfo.currency hdpData.homeInfo.country  \\\n",
       "0                         USD                      USA   \n",
       "1                         USD                      USA   \n",
       "2                         USD                      USA   \n",
       "3                         USD                      USA   \n",
       "4                         USD                      USA   \n",
       "..                        ...                      ...   \n",
       "140                       USD                      USA   \n",
       "141                       USD                      USA   \n",
       "142                       USD                      USA   \n",
       "143                       NaN                      NaN   \n",
       "144                       NaN                      NaN   \n",
       "\n",
       "     hdpData.homeInfo.taxAssessedValue  hdpData.homeInfo.lotAreaValue  \\\n",
       "0                              95610.0                        7840.80   \n",
       "1                             161160.0                           0.55   \n",
       "2                              60690.0                        9147.60   \n",
       "3                             191930.0                        5662.80   \n",
       "4                             138690.0                       10454.40   \n",
       "..                                 ...                            ...   \n",
       "140                            15400.0                        6969.60   \n",
       "141                                NaN                        9147.60   \n",
       "142                                NaN                        6098.40   \n",
       "143                                NaN                            NaN   \n",
       "144                                NaN                            NaN   \n",
       "\n",
       "    hdpData.homeInfo.lotAreaUnit hdpData.homeInfo.isShowcaseListing  \\\n",
       "0                           sqft                              False   \n",
       "1                          acres                              False   \n",
       "2                           sqft                              False   \n",
       "3                           sqft                              False   \n",
       "4                           sqft                              False   \n",
       "..                           ...                                ...   \n",
       "140                         sqft                              False   \n",
       "141                         sqft                              False   \n",
       "142                         sqft                              False   \n",
       "143                          NaN                                NaN   \n",
       "144                          NaN                                NaN   \n",
       "\n",
       "     variableData  hdpData.homeInfo.livingArea  \\\n",
       "0             NaN                          NaN   \n",
       "1             NaN                          NaN   \n",
       "2             NaN                          NaN   \n",
       "3             NaN                          NaN   \n",
       "4             NaN                          NaN   \n",
       "..            ...                          ...   \n",
       "140           NaN                          NaN   \n",
       "141           NaN                          NaN   \n",
       "142           NaN                          NaN   \n",
       "143           NaN                          NaN   \n",
       "144           NaN                          NaN   \n",
       "\n",
       "    hdpData.homeInfo.listing_sub_type.is_foreclosure hdpData.homeInfo.unit  \\\n",
       "0                                                NaN                   NaN   \n",
       "1                                                NaN                   NaN   \n",
       "2                                                NaN                   NaN   \n",
       "3                                                NaN                   NaN   \n",
       "4                                                NaN                   NaN   \n",
       "..                                               ...                   ...   \n",
       "140                                              NaN                   NaN   \n",
       "141                                              NaN                   NaN   \n",
       "142                                              NaN                   NaN   \n",
       "143                                              NaN                   NaN   \n",
       "144                                              NaN                   NaN   \n",
       "\n",
       "    variableData.data.isFresh lotAreaString communityName  \\\n",
       "0                         NaN           NaN           NaN   \n",
       "1                         NaN           NaN           NaN   \n",
       "2                         NaN           NaN           NaN   \n",
       "3                         NaN           NaN           NaN   \n",
       "4                         NaN           NaN           NaN   \n",
       "..                        ...           ...           ...   \n",
       "140                       NaN    6,970 sqft           NaN   \n",
       "141                       NaN    9,148 sqft           NaN   \n",
       "142                       NaN    6,098 sqft           NaN   \n",
       "143                       NaN           NaN    Harrington   \n",
       "144                       NaN           NaN      Parkland   \n",
       "\n",
       "    hdpData.homeInfo.listing_sub_type.is_newHome  \\\n",
       "0                                            NaN   \n",
       "1                                            NaN   \n",
       "2                                            NaN   \n",
       "3                                            NaN   \n",
       "4                                            NaN   \n",
       "..                                           ...   \n",
       "140                                          NaN   \n",
       "141                                          NaN   \n",
       "142                                          NaN   \n",
       "143                                          NaN   \n",
       "144                                          NaN   \n",
       "\n",
       "    hdpData.homeInfo.providerListingID hdpData.homeInfo.newConstructionType  \\\n",
       "0                                  NaN                                  NaN   \n",
       "1                                  NaN                                  NaN   \n",
       "2                                  NaN                                  NaN   \n",
       "3                                  NaN                                  NaN   \n",
       "4                                  NaN                                  NaN   \n",
       "..                                 ...                                  ...   \n",
       "140                                NaN                                  NaN   \n",
       "141                                NaN                                  NaN   \n",
       "142                                NaN                                  NaN   \n",
       "143                                NaN                                  NaN   \n",
       "144                                NaN                                  NaN   \n",
       "\n",
       "               buildingId  lotId  minBeds  minBaths  minArea      plid  \\\n",
       "0                     NaN    NaN      NaN       NaN      NaN       NaN   \n",
       "1                     NaN    NaN      NaN       NaN      NaN       NaN   \n",
       "2                     NaN    NaN      NaN       NaN      NaN       NaN   \n",
       "3                     NaN    NaN      NaN       NaN      NaN       NaN   \n",
       "4                     NaN    NaN      NaN       NaN      NaN       NaN   \n",
       "..                    ...    ...      ...       ...      ...       ...   \n",
       "140                   NaN    NaN      NaN       NaN      NaN       NaN   \n",
       "141                   NaN    NaN      NaN       NaN      NaN       NaN   \n",
       "142                   NaN    NaN      NaN       NaN      NaN       NaN   \n",
       "143  34.733357--82.346335    NaN      NaN       NaN      NaN  28956606   \n",
       "144  34.785857--82.336454    NaN      NaN       NaN      NaN  29493865   \n",
       "\n",
       "     unitCount isBuilding  badgeInfo canSaveBuilding style isCdpResult  \\\n",
       "0          NaN        NaN        NaN             NaN   NaN         NaN   \n",
       "1          NaN        NaN        NaN             NaN   NaN         NaN   \n",
       "2          NaN        NaN        NaN             NaN   NaN         NaN   \n",
       "3          NaN        NaN        NaN             NaN   NaN         NaN   \n",
       "4          NaN        NaN        NaN             NaN   NaN         NaN   \n",
       "..         ...        ...        ...             ...   ...         ...   \n",
       "140        NaN        NaN        NaN             NaN   NaN         NaN   \n",
       "141        NaN        NaN        NaN             NaN   NaN         NaN   \n",
       "142        NaN        NaN        NaN             NaN   NaN         NaN   \n",
       "143       18.0        NaN        NaN             NaN  None        True   \n",
       "144        6.0        NaN        NaN             NaN  None        True   \n",
       "\n",
       "    isPropertyResultCDP hdpData.homeInfo.group_type  \\\n",
       "0                   NaN                         NaN   \n",
       "1                   NaN                         NaN   \n",
       "2                   NaN                         NaN   \n",
       "3                   NaN                         NaN   \n",
       "4                   NaN                         NaN   \n",
       "..                  ...                         ...   \n",
       "140                 NaN                         NaN   \n",
       "141                 NaN                         NaN   \n",
       "142                 NaN                         NaN   \n",
       "143                 NaN                         NaN   \n",
       "144                 NaN                         NaN   \n",
       "\n",
       "    hdpData.homeInfo.priceSuffix  \\\n",
       "0                            NaN   \n",
       "1                            NaN   \n",
       "2                            NaN   \n",
       "3                            NaN   \n",
       "4                            NaN   \n",
       "..                           ...   \n",
       "140                          NaN   \n",
       "141                          NaN   \n",
       "142                          NaN   \n",
       "143                          NaN   \n",
       "144                          NaN   \n",
       "\n",
       "    hdpData.homeInfo.listing_sub_type.is_openHouse hdpData.homeInfo.openHouse  \\\n",
       "0                                              NaN                        NaN   \n",
       "1                                              NaN                        NaN   \n",
       "2                                              NaN                        NaN   \n",
       "3                                              NaN                        NaN   \n",
       "4                                              NaN                        NaN   \n",
       "..                                             ...                        ...   \n",
       "140                                            NaN                        NaN   \n",
       "141                                            NaN                        NaN   \n",
       "142                                            NaN                        NaN   \n",
       "143                                            NaN                        NaN   \n",
       "144                                            NaN                        NaN   \n",
       "\n",
       "    hdpData.homeInfo.open_house_info.open_house_showing  \n",
       "0                                                  NaN   \n",
       "1                                                  NaN   \n",
       "2                                                  NaN   \n",
       "3                                                  NaN   \n",
       "4                                                  NaN   \n",
       "..                                                 ...   \n",
       "140                                                NaN   \n",
       "141                                                NaN   \n",
       "142                                                NaN   \n",
       "143                                                NaN   \n",
       "144                                                NaN   \n",
       "\n",
       "[145 rows x 94 columns]"
      ]
     },
     "execution_count": 132,
     "metadata": {},
     "output_type": "execute_result"
    }
   ],
   "source": [
    "# view all listings\n",
    "df_listings = pd.json_normalize(listing_response.json()[\"data\"][\"cat1\"][\"searchResults\"][\"mapResults\"])\n",
    "print(\"Number of rows:\", len(df_listings))\n",
    "print(\"Number of columns:\", len(df_listings.columns))\n",
    "df_listings"
   ]
  },
  {
   "cell_type": "code",
   "execution_count": 133,
   "metadata": {},
   "outputs": [],
   "source": [
    "#download file\n",
    "df_listings.to_csv('GreenvilleSC_property_listings_output.csv')"
   ]
  },
  {
   "cell_type": "code",
   "execution_count": 134,
   "metadata": {},
   "outputs": [],
   "source": [
    "import pandas as pd\n",
    "\n",
    "# Assuming your dataframe is named 'df'\n",
    "# Assuming 'price' and 'rent' are columns in the dataframe\n",
    "\n",
    "# Filter the dataframe based on rent/price >= 1%\n",
    "filtered_df = df_listings[df_listings['hdpData.homeInfo.rentZestimate'] / df_listings['hdpData.homeInfo.price'] >= 0.0075]\n",
    "\n",
    "\n",
    "#download file\n",
    "filtered_df.to_csv('GreenvilleSC_property_tobuy.csv')"
   ]
  },
  {
   "cell_type": "code",
   "execution_count": 135,
   "metadata": {},
   "outputs": [],
   "source": [
    "\n",
    "import pandas as pd\n",
    "\n",
    "# Read the CSV files\n",
    "df1 = pd.read_csv('clemsonSC_property_tobuy.csv')\n",
    "df2 = pd.read_csv('GreenvilleSC_property_tobuy.csv')\n",
    "\n",
    "\n",
    "\n",
    "# Merge the dataframes based on the common column\n",
    "merged_df = pd.concat([df1, df2])\n",
    "\n",
    "\n",
    "\n",
    "\n",
    "# Save the merged dataframe to a new CSV file\n",
    "merged_df.to_csv('merged_file.csv',index=False)\n",
    "\n",
    "\n"
   ]
  }
 ],
 "metadata": {
  "colab": {
   "provenance": []
  },
  "kernelspec": {
   "display_name": "Python 3 (ipykernel)",
   "language": "python",
   "name": "python3"
  },
  "language_info": {
   "codemirror_mode": {
    "name": "ipython",
    "version": 3
   },
   "file_extension": ".py",
   "mimetype": "text/x-python",
   "name": "python",
   "nbconvert_exporter": "python",
   "pygments_lexer": "ipython3",
   "version": "3.10.9"
  }
 },
 "nbformat": 4,
 "nbformat_minor": 1
}
